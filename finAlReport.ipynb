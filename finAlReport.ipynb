{
  "nbformat": 4,
  "nbformat_minor": 0,
  "metadata": {
    "colab": {
      "provenance": []
    },
    "kernelspec": {
      "name": "python3",
      "display_name": "Python 3"
    },
    "language_info": {
      "name": "python"
    },
    "accelerator": "TPU"
  },
  "cells": [
    {
      "cell_type": "code",
      "execution_count": null,
      "metadata": {
        "id": "YBcm7qoqdqvP"
      },
      "outputs": [],
      "source": [
        "import os\n",
        "import re\n",
        "import pickle\n",
        "import string\n",
        "import unicodedata\n",
        "from random import randint\n",
        "\n",
        "import numpy as np\n",
        "import pandas as pd\n",
        "import seaborn as sns\n",
        "import matplotlib.pyplot as plt\n",
        "\n",
        "from nltk.corpus import stopwords\n",
        "from wordcloud import STOPWORDS, WordCloud\n",
        "\n",
        "from sklearn.model_selection import train_test_split\n",
        "\n",
        "import tensorflow as tf\n",
        "from tensorflow.keras import Input, Model\n",
        "from tensorflow.keras.preprocessing.text import Tokenizer\n",
        "from tensorflow.keras.preprocessing.sequence import pad_sequences\n",
        "from tensorflow.keras.callbacks import EarlyStopping, ReduceLROnPlateau\n",
        "from tensorflow.keras.layers import LSTM, Bidirectional, Dense, Embedding, TimeDistributed"
      ]
    },
    {
      "cell_type": "code",
      "source": [
        "!pip install -q contractions==0.0.48"
      ],
      "metadata": {
        "id": "zwNvtEKVd-Md",
        "colab": {
          "base_uri": "https://localhost:8080/"
        },
        "outputId": "ecfdf895-ffe6-4b39-89b2-9de18f88aa90"
      },
      "execution_count": null,
      "outputs": [
        {
          "output_type": "stream",
          "name": "stdout",
          "text": [
            "\u001b[?25l     \u001b[90m━━━━━━━━━━━━━━━━━━━━━━━━━━━━━━━━━━━━━━━━\u001b[0m \u001b[32m0.0/289.9 kB\u001b[0m \u001b[31m?\u001b[0m eta \u001b[36m-:--:--\u001b[0m\r\u001b[2K     \u001b[91m━━━━━━━━━━━━━━━━━━━━━━\u001b[0m\u001b[91m╸\u001b[0m\u001b[90m━━━━━━━━━━━━━━━━━\u001b[0m \u001b[32m163.8/289.9 kB\u001b[0m \u001b[31m4.8 MB/s\u001b[0m eta \u001b[36m0:00:01\u001b[0m\r\u001b[2K     \u001b[90m━━━━━━━━━━━━━━━━━━━━━━━━━━━━━━━━━━━━━━━━\u001b[0m \u001b[32m289.9/289.9 kB\u001b[0m \u001b[31m4.5 MB/s\u001b[0m eta \u001b[36m0:00:00\u001b[0m\n",
            "\u001b[?25h\u001b[?25l     \u001b[90m━━━━━━━━━━━━━━━━━━━━━━━━━━━━━━━━━━━━━━━━\u001b[0m \u001b[32m0.0/110.8 kB\u001b[0m \u001b[31m?\u001b[0m eta \u001b[36m-:--:--\u001b[0m\r\u001b[2K     \u001b[90m━━━━━━━━━━━━━━━━━━━━━━━━━━━━━━━━━━━━━━━━\u001b[0m \u001b[32m110.8/110.8 kB\u001b[0m \u001b[31m5.4 MB/s\u001b[0m eta \u001b[36m0:00:00\u001b[0m\n",
            "\u001b[?25h"
          ]
        }
      ]
    },
    {
      "cell_type": "code",
      "source": [
        "from contractions import contractions_dict\n",
        "\n",
        "for key, value in list(contractions_dict.items())[:10]:\n",
        "    print(f'{key} == {value}')"
      ],
      "metadata": {
        "colab": {
          "base_uri": "https://localhost:8080/"
        },
        "id": "Krwy_2blg1Ei",
        "outputId": "768b7cdf-873f-4589-c247-4bf642653d7d"
      },
      "execution_count": null,
      "outputs": [
        {
          "output_type": "stream",
          "name": "stdout",
          "text": [
            "I'm == I am\n",
            "I'm'a == I am about to\n",
            "I'm'o == I am going to\n",
            "I've == I have\n",
            "I'll == I will\n",
            "I'll've == I will have\n",
            "I'd == I would\n",
            "I'd've == I would have\n",
            "Whatcha == What are you\n",
            "amn't == am not\n"
          ]
        }
      ]
    },
    {
      "cell_type": "code",
      "source": [
        "# Using TPU\n",
        "\n",
        "# detect and init the TPU\n",
        "tpu = tf.distribute.cluster_resolver.TPUClusterResolver()\n",
        "tf.config.experimental_connect_to_cluster(tpu)\n",
        "tf.tpu.experimental.initialize_tpu_system(tpu)\n",
        "\n",
        "# instantiate a distribution strategy\n",
        "tpu_strategy = tf.distribute.TPUStrategy(tpu)"
      ],
      "metadata": {
        "id": "71oyAW5fg5QE"
      },
      "execution_count": null,
      "outputs": []
    },
    {
      "cell_type": "code",
      "source": [
        "! pip install kaggle\n",
        "! mkdir ~/.kaggle\n",
        "! cp kaggle.json ~/.kaggle/\n",
        "! chmod 600 ~/.kaggle/kaggle.json"
      ],
      "metadata": {
        "colab": {
          "base_uri": "https://localhost:8080/"
        },
        "id": "b9WR4zf5g_Kf",
        "outputId": "c022fd3b-0610-44f2-b3cf-ccdb13e733e9"
      },
      "execution_count": null,
      "outputs": [
        {
          "output_type": "stream",
          "name": "stdout",
          "text": [
            "Requirement already satisfied: kaggle in /usr/local/lib/python3.10/dist-packages (1.5.16)\n",
            "Requirement already satisfied: six>=1.10 in /usr/local/lib/python3.10/dist-packages (from kaggle) (1.16.0)\n",
            "Requirement already satisfied: certifi in /usr/local/lib/python3.10/dist-packages (from kaggle) (2023.7.22)\n",
            "Requirement already satisfied: python-dateutil in /usr/local/lib/python3.10/dist-packages (from kaggle) (2.8.2)\n",
            "Requirement already satisfied: requests in /usr/local/lib/python3.10/dist-packages (from kaggle) (2.31.0)\n",
            "Requirement already satisfied: tqdm in /usr/local/lib/python3.10/dist-packages (from kaggle) (4.66.1)\n",
            "Requirement already satisfied: python-slugify in /usr/local/lib/python3.10/dist-packages (from kaggle) (8.0.1)\n",
            "Requirement already satisfied: urllib3 in /usr/local/lib/python3.10/dist-packages (from kaggle) (2.0.7)\n",
            "Requirement already satisfied: bleach in /usr/local/lib/python3.10/dist-packages (from kaggle) (6.1.0)\n",
            "Requirement already satisfied: webencodings in /usr/local/lib/python3.10/dist-packages (from bleach->kaggle) (0.5.1)\n",
            "Requirement already satisfied: text-unidecode>=1.3 in /usr/local/lib/python3.10/dist-packages (from python-slugify->kaggle) (1.3)\n",
            "Requirement already satisfied: charset-normalizer<4,>=2 in /usr/local/lib/python3.10/dist-packages (from requests->kaggle) (3.3.2)\n",
            "Requirement already satisfied: idna<4,>=2.5 in /usr/local/lib/python3.10/dist-packages (from requests->kaggle) (3.4)\n"
          ]
        }
      ]
    },
    {
      "cell_type": "code",
      "source": [
        "! kaggle datasets download -d sunnysai12345/news-summary\n",
        "! unzip news-summary.zip -d train"
      ],
      "metadata": {
        "colab": {
          "base_uri": "https://localhost:8080/"
        },
        "id": "k4RkoYJMhv5t",
        "outputId": "d0edf782-f3a9-400f-ae46-22c70b247321"
      },
      "execution_count": null,
      "outputs": [
        {
          "output_type": "stream",
          "name": "stdout",
          "text": [
            "Downloading news-summary.zip to /content\n",
            "\r  0% 0.00/19.8M [00:00<?, ?B/s]\r 81% 16.0M/19.8M [00:00<00:00, 162MB/s]\n",
            "\r100% 19.8M/19.8M [00:00<00:00, 174MB/s]\n",
            "Archive:  news-summary.zip\n",
            "  inflating: train/news_summary.csv  \n",
            "  inflating: train/news_summary_more.csv  \n"
          ]
        }
      ]
    },
    {
      "cell_type": "code",
      "source": [
        "filename1 = 'train/news_summary.csv'\n",
        "filename2 = 'train/news_summary_more.csv'\n",
        "\n",
        "df1 = pd.read_csv(filename1, encoding='iso-8859-1').reset_index(drop=True)\n",
        "df2 = pd.read_csv(filename2, encoding='iso-8859-1').reset_index(drop=True)"
      ],
      "metadata": {
        "id": "LDQLZecJh-Oo"
      },
      "execution_count": null,
      "outputs": []
    },
    {
      "cell_type": "code",
      "source": [
        "df1.sample(5)"
      ],
      "metadata": {
        "colab": {
          "base_uri": "https://localhost:8080/",
          "height": 553
        },
        "id": "m6wpGeVyjPQp",
        "outputId": "353dd4e1-31fd-44d4-e732-bd511dabe891"
      },
      "execution_count": null,
      "outputs": [
        {
          "output_type": "execute_result",
          "data": {
            "text/plain": [
              "              author                   date  \\\n",
              "3228  Mansha Mahajan   25 May 2017,Thursday   \n",
              "3803     Daisy Mowke     14 Apr 2017,Friday   \n",
              "483   Mansha Mahajan  26 Jul 2017,Wednesday   \n",
              "65       Daisy Mowke  02 Aug 2017,Wednesday   \n",
              "4114     Daisy Mowke     24 Mar 2017,Friday   \n",
              "\n",
              "                                              headlines  \\\n",
              "3228  Indian economy has ?5 lakh crore less cash aft...   \n",
              "3803  Women share pictures of 'feather eyebrows' on ...   \n",
              "483   Railways cancels caterer's contract as lizard ...   \n",
              "65    Kriti replies to Hate Story actress Bhairavi's...   \n",
              "4114  Mom gets call from school after kid takes vodk...   \n",
              "\n",
              "                                              read_more  \\\n",
              "3228  http://indiatoday.intoday.in/story/narendra-mo...   \n",
              "3803  http://indiatoday.intoday.in/story/feather-eye...   \n",
              "483   http://indiatoday.intoday.in/story/lizard-in-r...   \n",
              "65    http://www.hindustantimes.com/bollywood/bhaira...   \n",
              "4114  http://indiatoday.intoday.in/story/mother-call...   \n",
              "\n",
              "                                                   text  \\\n",
              "3228  According to an internal report on the benefit...   \n",
              "3803  Several women are taking to Instagram to post ...   \n",
              "483   The Ministry of Railways has cancelled a cater...   \n",
              "65    Kriti Sanon, when asked about 'Hate Story' act...   \n",
              "4114  A woman from Queensland, Australia received a ...   \n",
              "\n",
              "                                                  ctext  \n",
              "3228  Thanks to demonetisation the Indian economy is...  \n",
              "3803  Let's not even get started on how strange cert...  \n",
              "483   New Delhi, Jul 26 (PTI) The railway ministry t...  \n",
              "65    It was last week that Kriti Sanon posted a vid...  \n",
              "4114  A woman hailing from Queensland, Australia, mu...  "
            ],
            "text/html": [
              "\n",
              "  <div id=\"df-6d29cecb-c405-4c4b-afe1-67fd7703d99c\" class=\"colab-df-container\">\n",
              "    <div>\n",
              "<style scoped>\n",
              "    .dataframe tbody tr th:only-of-type {\n",
              "        vertical-align: middle;\n",
              "    }\n",
              "\n",
              "    .dataframe tbody tr th {\n",
              "        vertical-align: top;\n",
              "    }\n",
              "\n",
              "    .dataframe thead th {\n",
              "        text-align: right;\n",
              "    }\n",
              "</style>\n",
              "<table border=\"1\" class=\"dataframe\">\n",
              "  <thead>\n",
              "    <tr style=\"text-align: right;\">\n",
              "      <th></th>\n",
              "      <th>author</th>\n",
              "      <th>date</th>\n",
              "      <th>headlines</th>\n",
              "      <th>read_more</th>\n",
              "      <th>text</th>\n",
              "      <th>ctext</th>\n",
              "    </tr>\n",
              "  </thead>\n",
              "  <tbody>\n",
              "    <tr>\n",
              "      <th>3228</th>\n",
              "      <td>Mansha Mahajan</td>\n",
              "      <td>25 May 2017,Thursday</td>\n",
              "      <td>Indian economy has ?5 lakh crore less cash aft...</td>\n",
              "      <td>http://indiatoday.intoday.in/story/narendra-mo...</td>\n",
              "      <td>According to an internal report on the benefit...</td>\n",
              "      <td>Thanks to demonetisation the Indian economy is...</td>\n",
              "    </tr>\n",
              "    <tr>\n",
              "      <th>3803</th>\n",
              "      <td>Daisy Mowke</td>\n",
              "      <td>14 Apr 2017,Friday</td>\n",
              "      <td>Women share pictures of 'feather eyebrows' on ...</td>\n",
              "      <td>http://indiatoday.intoday.in/story/feather-eye...</td>\n",
              "      <td>Several women are taking to Instagram to post ...</td>\n",
              "      <td>Let's not even get started on how strange cert...</td>\n",
              "    </tr>\n",
              "    <tr>\n",
              "      <th>483</th>\n",
              "      <td>Mansha Mahajan</td>\n",
              "      <td>26 Jul 2017,Wednesday</td>\n",
              "      <td>Railways cancels caterer's contract as lizard ...</td>\n",
              "      <td>http://indiatoday.intoday.in/story/lizard-in-r...</td>\n",
              "      <td>The Ministry of Railways has cancelled a cater...</td>\n",
              "      <td>New Delhi, Jul 26 (PTI) The railway ministry t...</td>\n",
              "    </tr>\n",
              "    <tr>\n",
              "      <th>65</th>\n",
              "      <td>Daisy Mowke</td>\n",
              "      <td>02 Aug 2017,Wednesday</td>\n",
              "      <td>Kriti replies to Hate Story actress Bhairavi's...</td>\n",
              "      <td>http://www.hindustantimes.com/bollywood/bhaira...</td>\n",
              "      <td>Kriti Sanon, when asked about 'Hate Story' act...</td>\n",
              "      <td>It was last week that Kriti Sanon posted a vid...</td>\n",
              "    </tr>\n",
              "    <tr>\n",
              "      <th>4114</th>\n",
              "      <td>Daisy Mowke</td>\n",
              "      <td>24 Mar 2017,Friday</td>\n",
              "      <td>Mom gets call from school after kid takes vodk...</td>\n",
              "      <td>http://indiatoday.intoday.in/story/mother-call...</td>\n",
              "      <td>A woman from Queensland, Australia received a ...</td>\n",
              "      <td>A woman hailing from Queensland, Australia, mu...</td>\n",
              "    </tr>\n",
              "  </tbody>\n",
              "</table>\n",
              "</div>\n",
              "    <div class=\"colab-df-buttons\">\n",
              "\n",
              "  <div class=\"colab-df-container\">\n",
              "    <button class=\"colab-df-convert\" onclick=\"convertToInteractive('df-6d29cecb-c405-4c4b-afe1-67fd7703d99c')\"\n",
              "            title=\"Convert this dataframe to an interactive table.\"\n",
              "            style=\"display:none;\">\n",
              "\n",
              "  <svg xmlns=\"http://www.w3.org/2000/svg\" height=\"24px\" viewBox=\"0 -960 960 960\">\n",
              "    <path d=\"M120-120v-720h720v720H120Zm60-500h600v-160H180v160Zm220 220h160v-160H400v160Zm0 220h160v-160H400v160ZM180-400h160v-160H180v160Zm440 0h160v-160H620v160ZM180-180h160v-160H180v160Zm440 0h160v-160H620v160Z\"/>\n",
              "  </svg>\n",
              "    </button>\n",
              "\n",
              "  <style>\n",
              "    .colab-df-container {\n",
              "      display:flex;\n",
              "      gap: 12px;\n",
              "    }\n",
              "\n",
              "    .colab-df-convert {\n",
              "      background-color: #E8F0FE;\n",
              "      border: none;\n",
              "      border-radius: 50%;\n",
              "      cursor: pointer;\n",
              "      display: none;\n",
              "      fill: #1967D2;\n",
              "      height: 32px;\n",
              "      padding: 0 0 0 0;\n",
              "      width: 32px;\n",
              "    }\n",
              "\n",
              "    .colab-df-convert:hover {\n",
              "      background-color: #E2EBFA;\n",
              "      box-shadow: 0px 1px 2px rgba(60, 64, 67, 0.3), 0px 1px 3px 1px rgba(60, 64, 67, 0.15);\n",
              "      fill: #174EA6;\n",
              "    }\n",
              "\n",
              "    .colab-df-buttons div {\n",
              "      margin-bottom: 4px;\n",
              "    }\n",
              "\n",
              "    [theme=dark] .colab-df-convert {\n",
              "      background-color: #3B4455;\n",
              "      fill: #D2E3FC;\n",
              "    }\n",
              "\n",
              "    [theme=dark] .colab-df-convert:hover {\n",
              "      background-color: #434B5C;\n",
              "      box-shadow: 0px 1px 3px 1px rgba(0, 0, 0, 0.15);\n",
              "      filter: drop-shadow(0px 1px 2px rgba(0, 0, 0, 0.3));\n",
              "      fill: #FFFFFF;\n",
              "    }\n",
              "  </style>\n",
              "\n",
              "    <script>\n",
              "      const buttonEl =\n",
              "        document.querySelector('#df-6d29cecb-c405-4c4b-afe1-67fd7703d99c button.colab-df-convert');\n",
              "      buttonEl.style.display =\n",
              "        google.colab.kernel.accessAllowed ? 'block' : 'none';\n",
              "\n",
              "      async function convertToInteractive(key) {\n",
              "        const element = document.querySelector('#df-6d29cecb-c405-4c4b-afe1-67fd7703d99c');\n",
              "        const dataTable =\n",
              "          await google.colab.kernel.invokeFunction('convertToInteractive',\n",
              "                                                    [key], {});\n",
              "        if (!dataTable) return;\n",
              "\n",
              "        const docLinkHtml = 'Like what you see? Visit the ' +\n",
              "          '<a target=\"_blank\" href=https://colab.research.google.com/notebooks/data_table.ipynb>data table notebook</a>'\n",
              "          + ' to learn more about interactive tables.';\n",
              "        element.innerHTML = '';\n",
              "        dataTable['output_type'] = 'display_data';\n",
              "        await google.colab.output.renderOutput(dataTable, element);\n",
              "        const docLink = document.createElement('div');\n",
              "        docLink.innerHTML = docLinkHtml;\n",
              "        element.appendChild(docLink);\n",
              "      }\n",
              "    </script>\n",
              "  </div>\n",
              "\n",
              "\n",
              "<div id=\"df-90c9bfdf-6d5a-4afb-aee7-a6641092b382\">\n",
              "  <button class=\"colab-df-quickchart\" onclick=\"quickchart('df-90c9bfdf-6d5a-4afb-aee7-a6641092b382')\"\n",
              "            title=\"Suggest charts\"\n",
              "            style=\"display:none;\">\n",
              "\n",
              "<svg xmlns=\"http://www.w3.org/2000/svg\" height=\"24px\"viewBox=\"0 0 24 24\"\n",
              "     width=\"24px\">\n",
              "    <g>\n",
              "        <path d=\"M19 3H5c-1.1 0-2 .9-2 2v14c0 1.1.9 2 2 2h14c1.1 0 2-.9 2-2V5c0-1.1-.9-2-2-2zM9 17H7v-7h2v7zm4 0h-2V7h2v10zm4 0h-2v-4h2v4z\"/>\n",
              "    </g>\n",
              "</svg>\n",
              "  </button>\n",
              "\n",
              "<style>\n",
              "  .colab-df-quickchart {\n",
              "      --bg-color: #E8F0FE;\n",
              "      --fill-color: #1967D2;\n",
              "      --hover-bg-color: #E2EBFA;\n",
              "      --hover-fill-color: #174EA6;\n",
              "      --disabled-fill-color: #AAA;\n",
              "      --disabled-bg-color: #DDD;\n",
              "  }\n",
              "\n",
              "  [theme=dark] .colab-df-quickchart {\n",
              "      --bg-color: #3B4455;\n",
              "      --fill-color: #D2E3FC;\n",
              "      --hover-bg-color: #434B5C;\n",
              "      --hover-fill-color: #FFFFFF;\n",
              "      --disabled-bg-color: #3B4455;\n",
              "      --disabled-fill-color: #666;\n",
              "  }\n",
              "\n",
              "  .colab-df-quickchart {\n",
              "    background-color: var(--bg-color);\n",
              "    border: none;\n",
              "    border-radius: 50%;\n",
              "    cursor: pointer;\n",
              "    display: none;\n",
              "    fill: var(--fill-color);\n",
              "    height: 32px;\n",
              "    padding: 0;\n",
              "    width: 32px;\n",
              "  }\n",
              "\n",
              "  .colab-df-quickchart:hover {\n",
              "    background-color: var(--hover-bg-color);\n",
              "    box-shadow: 0 1px 2px rgba(60, 64, 67, 0.3), 0 1px 3px 1px rgba(60, 64, 67, 0.15);\n",
              "    fill: var(--button-hover-fill-color);\n",
              "  }\n",
              "\n",
              "  .colab-df-quickchart-complete:disabled,\n",
              "  .colab-df-quickchart-complete:disabled:hover {\n",
              "    background-color: var(--disabled-bg-color);\n",
              "    fill: var(--disabled-fill-color);\n",
              "    box-shadow: none;\n",
              "  }\n",
              "\n",
              "  .colab-df-spinner {\n",
              "    border: 2px solid var(--fill-color);\n",
              "    border-color: transparent;\n",
              "    border-bottom-color: var(--fill-color);\n",
              "    animation:\n",
              "      spin 1s steps(1) infinite;\n",
              "  }\n",
              "\n",
              "  @keyframes spin {\n",
              "    0% {\n",
              "      border-color: transparent;\n",
              "      border-bottom-color: var(--fill-color);\n",
              "      border-left-color: var(--fill-color);\n",
              "    }\n",
              "    20% {\n",
              "      border-color: transparent;\n",
              "      border-left-color: var(--fill-color);\n",
              "      border-top-color: var(--fill-color);\n",
              "    }\n",
              "    30% {\n",
              "      border-color: transparent;\n",
              "      border-left-color: var(--fill-color);\n",
              "      border-top-color: var(--fill-color);\n",
              "      border-right-color: var(--fill-color);\n",
              "    }\n",
              "    40% {\n",
              "      border-color: transparent;\n",
              "      border-right-color: var(--fill-color);\n",
              "      border-top-color: var(--fill-color);\n",
              "    }\n",
              "    60% {\n",
              "      border-color: transparent;\n",
              "      border-right-color: var(--fill-color);\n",
              "    }\n",
              "    80% {\n",
              "      border-color: transparent;\n",
              "      border-right-color: var(--fill-color);\n",
              "      border-bottom-color: var(--fill-color);\n",
              "    }\n",
              "    90% {\n",
              "      border-color: transparent;\n",
              "      border-bottom-color: var(--fill-color);\n",
              "    }\n",
              "  }\n",
              "</style>\n",
              "\n",
              "  <script>\n",
              "    async function quickchart(key) {\n",
              "      const quickchartButtonEl =\n",
              "        document.querySelector('#' + key + ' button');\n",
              "      quickchartButtonEl.disabled = true;  // To prevent multiple clicks.\n",
              "      quickchartButtonEl.classList.add('colab-df-spinner');\n",
              "      try {\n",
              "        const charts = await google.colab.kernel.invokeFunction(\n",
              "            'suggestCharts', [key], {});\n",
              "      } catch (error) {\n",
              "        console.error('Error during call to suggestCharts:', error);\n",
              "      }\n",
              "      quickchartButtonEl.classList.remove('colab-df-spinner');\n",
              "      quickchartButtonEl.classList.add('colab-df-quickchart-complete');\n",
              "    }\n",
              "    (() => {\n",
              "      let quickchartButtonEl =\n",
              "        document.querySelector('#df-90c9bfdf-6d5a-4afb-aee7-a6641092b382 button');\n",
              "      quickchartButtonEl.style.display =\n",
              "        google.colab.kernel.accessAllowed ? 'block' : 'none';\n",
              "    })();\n",
              "  </script>\n",
              "</div>\n",
              "    </div>\n",
              "  </div>\n"
            ]
          },
          "metadata": {},
          "execution_count": 8
        }
      ]
    },
    {
      "cell_type": "code",
      "source": [
        "df1_columns = df1.columns.tolist()\n",
        "df1_columns.remove('headlines')\n",
        "df1_columns.remove('text')\n",
        "df1.drop(df1_columns, axis='columns', inplace=True)\n",
        "\n",
        "df = pd.concat([df1, df2], axis='rows')\n",
        "del df1, df2\n",
        "\n",
        "# Shuffling the df\n",
        "df = df.sample(frac=1).reset_index(drop=True)\n",
        "\n",
        "print(f'Dataset size: {len(df)}')\n",
        "df.sample(5)"
      ],
      "metadata": {
        "colab": {
          "base_uri": "https://localhost:8080/",
          "height": 224
        },
        "id": "HKiWlixPjYfo",
        "outputId": "58f867cc-71c2-44cb-a971-6631167197af"
      },
      "execution_count": null,
      "outputs": [
        {
          "output_type": "stream",
          "name": "stdout",
          "text": [
            "Dataset size: 102915\n"
          ]
        },
        {
          "output_type": "execute_result",
          "data": {
            "text/plain": [
              "                                               headlines  \\\n",
              "90392  Emirates business class crew pours champagne b...   \n",
              "81567  Will pass word 'intercourse' in SRK film on 1L...   \n",
              "21031  Passenger records fatal plane crash in South A...   \n",
              "66480  4 dead trying to save man who fell off train t...   \n",
              "77347   US citizen fighting for ISIS surrenders in Syria   \n",
              "\n",
              "                                                    text  \n",
              "90392  An Emirates air hostess can be seen pouring ch...  \n",
              "81567  CBFC chief Pahlaj Nihalani has said he'll clea...  \n",
              "21031  A footage of a plane crash purportedly shot by...  \n",
              "66480  Four youths from West Bengal were killed while...  \n",
              "77347  A US citizen fighting for ISIS in Syria has su...  "
            ],
            "text/html": [
              "\n",
              "  <div id=\"df-90748c05-e8fa-4955-a2a4-5d8f2f255d6f\" class=\"colab-df-container\">\n",
              "    <div>\n",
              "<style scoped>\n",
              "    .dataframe tbody tr th:only-of-type {\n",
              "        vertical-align: middle;\n",
              "    }\n",
              "\n",
              "    .dataframe tbody tr th {\n",
              "        vertical-align: top;\n",
              "    }\n",
              "\n",
              "    .dataframe thead th {\n",
              "        text-align: right;\n",
              "    }\n",
              "</style>\n",
              "<table border=\"1\" class=\"dataframe\">\n",
              "  <thead>\n",
              "    <tr style=\"text-align: right;\">\n",
              "      <th></th>\n",
              "      <th>headlines</th>\n",
              "      <th>text</th>\n",
              "    </tr>\n",
              "  </thead>\n",
              "  <tbody>\n",
              "    <tr>\n",
              "      <th>90392</th>\n",
              "      <td>Emirates business class crew pours champagne b...</td>\n",
              "      <td>An Emirates air hostess can be seen pouring ch...</td>\n",
              "    </tr>\n",
              "    <tr>\n",
              "      <th>81567</th>\n",
              "      <td>Will pass word 'intercourse' in SRK film on 1L...</td>\n",
              "      <td>CBFC chief Pahlaj Nihalani has said he'll clea...</td>\n",
              "    </tr>\n",
              "    <tr>\n",
              "      <th>21031</th>\n",
              "      <td>Passenger records fatal plane crash in South A...</td>\n",
              "      <td>A footage of a plane crash purportedly shot by...</td>\n",
              "    </tr>\n",
              "    <tr>\n",
              "      <th>66480</th>\n",
              "      <td>4 dead trying to save man who fell off train t...</td>\n",
              "      <td>Four youths from West Bengal were killed while...</td>\n",
              "    </tr>\n",
              "    <tr>\n",
              "      <th>77347</th>\n",
              "      <td>US citizen fighting for ISIS surrenders in Syria</td>\n",
              "      <td>A US citizen fighting for ISIS in Syria has su...</td>\n",
              "    </tr>\n",
              "  </tbody>\n",
              "</table>\n",
              "</div>\n",
              "    <div class=\"colab-df-buttons\">\n",
              "\n",
              "  <div class=\"colab-df-container\">\n",
              "    <button class=\"colab-df-convert\" onclick=\"convertToInteractive('df-90748c05-e8fa-4955-a2a4-5d8f2f255d6f')\"\n",
              "            title=\"Convert this dataframe to an interactive table.\"\n",
              "            style=\"display:none;\">\n",
              "\n",
              "  <svg xmlns=\"http://www.w3.org/2000/svg\" height=\"24px\" viewBox=\"0 -960 960 960\">\n",
              "    <path d=\"M120-120v-720h720v720H120Zm60-500h600v-160H180v160Zm220 220h160v-160H400v160Zm0 220h160v-160H400v160ZM180-400h160v-160H180v160Zm440 0h160v-160H620v160ZM180-180h160v-160H180v160Zm440 0h160v-160H620v160Z\"/>\n",
              "  </svg>\n",
              "    </button>\n",
              "\n",
              "  <style>\n",
              "    .colab-df-container {\n",
              "      display:flex;\n",
              "      gap: 12px;\n",
              "    }\n",
              "\n",
              "    .colab-df-convert {\n",
              "      background-color: #E8F0FE;\n",
              "      border: none;\n",
              "      border-radius: 50%;\n",
              "      cursor: pointer;\n",
              "      display: none;\n",
              "      fill: #1967D2;\n",
              "      height: 32px;\n",
              "      padding: 0 0 0 0;\n",
              "      width: 32px;\n",
              "    }\n",
              "\n",
              "    .colab-df-convert:hover {\n",
              "      background-color: #E2EBFA;\n",
              "      box-shadow: 0px 1px 2px rgba(60, 64, 67, 0.3), 0px 1px 3px 1px rgba(60, 64, 67, 0.15);\n",
              "      fill: #174EA6;\n",
              "    }\n",
              "\n",
              "    .colab-df-buttons div {\n",
              "      margin-bottom: 4px;\n",
              "    }\n",
              "\n",
              "    [theme=dark] .colab-df-convert {\n",
              "      background-color: #3B4455;\n",
              "      fill: #D2E3FC;\n",
              "    }\n",
              "\n",
              "    [theme=dark] .colab-df-convert:hover {\n",
              "      background-color: #434B5C;\n",
              "      box-shadow: 0px 1px 3px 1px rgba(0, 0, 0, 0.15);\n",
              "      filter: drop-shadow(0px 1px 2px rgba(0, 0, 0, 0.3));\n",
              "      fill: #FFFFFF;\n",
              "    }\n",
              "  </style>\n",
              "\n",
              "    <script>\n",
              "      const buttonEl =\n",
              "        document.querySelector('#df-90748c05-e8fa-4955-a2a4-5d8f2f255d6f button.colab-df-convert');\n",
              "      buttonEl.style.display =\n",
              "        google.colab.kernel.accessAllowed ? 'block' : 'none';\n",
              "\n",
              "      async function convertToInteractive(key) {\n",
              "        const element = document.querySelector('#df-90748c05-e8fa-4955-a2a4-5d8f2f255d6f');\n",
              "        const dataTable =\n",
              "          await google.colab.kernel.invokeFunction('convertToInteractive',\n",
              "                                                    [key], {});\n",
              "        if (!dataTable) return;\n",
              "\n",
              "        const docLinkHtml = 'Like what you see? Visit the ' +\n",
              "          '<a target=\"_blank\" href=https://colab.research.google.com/notebooks/data_table.ipynb>data table notebook</a>'\n",
              "          + ' to learn more about interactive tables.';\n",
              "        element.innerHTML = '';\n",
              "        dataTable['output_type'] = 'display_data';\n",
              "        await google.colab.output.renderOutput(dataTable, element);\n",
              "        const docLink = document.createElement('div');\n",
              "        docLink.innerHTML = docLinkHtml;\n",
              "        element.appendChild(docLink);\n",
              "      }\n",
              "    </script>\n",
              "  </div>\n",
              "\n",
              "\n",
              "<div id=\"df-bf1e978d-4da4-4b0a-a865-d0925dbd629c\">\n",
              "  <button class=\"colab-df-quickchart\" onclick=\"quickchart('df-bf1e978d-4da4-4b0a-a865-d0925dbd629c')\"\n",
              "            title=\"Suggest charts\"\n",
              "            style=\"display:none;\">\n",
              "\n",
              "<svg xmlns=\"http://www.w3.org/2000/svg\" height=\"24px\"viewBox=\"0 0 24 24\"\n",
              "     width=\"24px\">\n",
              "    <g>\n",
              "        <path d=\"M19 3H5c-1.1 0-2 .9-2 2v14c0 1.1.9 2 2 2h14c1.1 0 2-.9 2-2V5c0-1.1-.9-2-2-2zM9 17H7v-7h2v7zm4 0h-2V7h2v10zm4 0h-2v-4h2v4z\"/>\n",
              "    </g>\n",
              "</svg>\n",
              "  </button>\n",
              "\n",
              "<style>\n",
              "  .colab-df-quickchart {\n",
              "      --bg-color: #E8F0FE;\n",
              "      --fill-color: #1967D2;\n",
              "      --hover-bg-color: #E2EBFA;\n",
              "      --hover-fill-color: #174EA6;\n",
              "      --disabled-fill-color: #AAA;\n",
              "      --disabled-bg-color: #DDD;\n",
              "  }\n",
              "\n",
              "  [theme=dark] .colab-df-quickchart {\n",
              "      --bg-color: #3B4455;\n",
              "      --fill-color: #D2E3FC;\n",
              "      --hover-bg-color: #434B5C;\n",
              "      --hover-fill-color: #FFFFFF;\n",
              "      --disabled-bg-color: #3B4455;\n",
              "      --disabled-fill-color: #666;\n",
              "  }\n",
              "\n",
              "  .colab-df-quickchart {\n",
              "    background-color: var(--bg-color);\n",
              "    border: none;\n",
              "    border-radius: 50%;\n",
              "    cursor: pointer;\n",
              "    display: none;\n",
              "    fill: var(--fill-color);\n",
              "    height: 32px;\n",
              "    padding: 0;\n",
              "    width: 32px;\n",
              "  }\n",
              "\n",
              "  .colab-df-quickchart:hover {\n",
              "    background-color: var(--hover-bg-color);\n",
              "    box-shadow: 0 1px 2px rgba(60, 64, 67, 0.3), 0 1px 3px 1px rgba(60, 64, 67, 0.15);\n",
              "    fill: var(--button-hover-fill-color);\n",
              "  }\n",
              "\n",
              "  .colab-df-quickchart-complete:disabled,\n",
              "  .colab-df-quickchart-complete:disabled:hover {\n",
              "    background-color: var(--disabled-bg-color);\n",
              "    fill: var(--disabled-fill-color);\n",
              "    box-shadow: none;\n",
              "  }\n",
              "\n",
              "  .colab-df-spinner {\n",
              "    border: 2px solid var(--fill-color);\n",
              "    border-color: transparent;\n",
              "    border-bottom-color: var(--fill-color);\n",
              "    animation:\n",
              "      spin 1s steps(1) infinite;\n",
              "  }\n",
              "\n",
              "  @keyframes spin {\n",
              "    0% {\n",
              "      border-color: transparent;\n",
              "      border-bottom-color: var(--fill-color);\n",
              "      border-left-color: var(--fill-color);\n",
              "    }\n",
              "    20% {\n",
              "      border-color: transparent;\n",
              "      border-left-color: var(--fill-color);\n",
              "      border-top-color: var(--fill-color);\n",
              "    }\n",
              "    30% {\n",
              "      border-color: transparent;\n",
              "      border-left-color: var(--fill-color);\n",
              "      border-top-color: var(--fill-color);\n",
              "      border-right-color: var(--fill-color);\n",
              "    }\n",
              "    40% {\n",
              "      border-color: transparent;\n",
              "      border-right-color: var(--fill-color);\n",
              "      border-top-color: var(--fill-color);\n",
              "    }\n",
              "    60% {\n",
              "      border-color: transparent;\n",
              "      border-right-color: var(--fill-color);\n",
              "    }\n",
              "    80% {\n",
              "      border-color: transparent;\n",
              "      border-right-color: var(--fill-color);\n",
              "      border-bottom-color: var(--fill-color);\n",
              "    }\n",
              "    90% {\n",
              "      border-color: transparent;\n",
              "      border-bottom-color: var(--fill-color);\n",
              "    }\n",
              "  }\n",
              "</style>\n",
              "\n",
              "  <script>\n",
              "    async function quickchart(key) {\n",
              "      const quickchartButtonEl =\n",
              "        document.querySelector('#' + key + ' button');\n",
              "      quickchartButtonEl.disabled = true;  // To prevent multiple clicks.\n",
              "      quickchartButtonEl.classList.add('colab-df-spinner');\n",
              "      try {\n",
              "        const charts = await google.colab.kernel.invokeFunction(\n",
              "            'suggestCharts', [key], {});\n",
              "      } catch (error) {\n",
              "        console.error('Error during call to suggestCharts:', error);\n",
              "      }\n",
              "      quickchartButtonEl.classList.remove('colab-df-spinner');\n",
              "      quickchartButtonEl.classList.add('colab-df-quickchart-complete');\n",
              "    }\n",
              "    (() => {\n",
              "      let quickchartButtonEl =\n",
              "        document.querySelector('#df-bf1e978d-4da4-4b0a-a865-d0925dbd629c button');\n",
              "      quickchartButtonEl.style.display =\n",
              "        google.colab.kernel.accessAllowed ? 'block' : 'none';\n",
              "    })();\n",
              "  </script>\n",
              "</div>\n",
              "    </div>\n",
              "  </div>\n"
            ]
          },
          "metadata": {},
          "execution_count": 9
        }
      ]
    },
    {
      "cell_type": "code",
      "source": [
        "df['text'][0]"
      ],
      "metadata": {
        "colab": {
          "base_uri": "https://localhost:8080/",
          "height": 87
        },
        "id": "onrpL2LvdvcM",
        "outputId": "0fe5b7d4-1c78-4e54-f3b3-1af3105eb01b"
      },
      "execution_count": null,
      "outputs": [
        {
          "output_type": "execute_result",
          "data": {
            "text/plain": [
              "\"The World Health Organisation (WHO) has warned there aren't enough antibiotics being developed to tackle the crisis of drug-resistant infections that kill seven lakh people per year globally. The report further highlights multidrug-resistant tuberculosis for which just 52% of the patients are successfully treated, while only two new antibiotics have reached the market in 70 years.\""
            ],
            "application/vnd.google.colaboratory.intrinsic+json": {
              "type": "string"
            }
          },
          "metadata": {},
          "execution_count": 10
        }
      ]
    },
    {
      "cell_type": "code",
      "source": [
        "def expand_contractions(text, contraction_map=contractions_dict):\n",
        "    # Using regex for getting all contracted words\n",
        "    contractions_keys = '|'.join(contraction_map.keys())\n",
        "    contractions_pattern = re.compile(f'({contractions_keys})', flags=re.DOTALL)\n",
        "\n",
        "    def expand_match(contraction):\n",
        "        # Getting entire matched sub-string\n",
        "        match = contraction.group(0)\n",
        "        expanded_contraction = contraction_map.get(match)\n",
        "        if not expand_contractions:\n",
        "            print(match)\n",
        "            return match\n",
        "        return expanded_contraction\n",
        "\n",
        "    expanded_text = contractions_pattern.sub(expand_match, text)\n",
        "    expanded_text = re.sub(\"'\", \"\", expanded_text)\n",
        "    return expanded_text\n",
        "\n",
        "\n",
        "expand_contractions(\"y'all can't expand contractions i'd think\")"
      ],
      "metadata": {
        "colab": {
          "base_uri": "https://localhost:8080/",
          "height": 35
        },
        "id": "97uofA5ijd0U",
        "outputId": "fa4f37a7-2f38-4756-b8b2-771307093397"
      },
      "execution_count": null,
      "outputs": [
        {
          "output_type": "execute_result",
          "data": {
            "text/plain": [
              "'you all can not expand contractions id think'"
            ],
            "application/vnd.google.colaboratory.intrinsic+json": {
              "type": "string"
            }
          },
          "metadata": {},
          "execution_count": 11
        }
      ]
    },
    {
      "cell_type": "code",
      "source": [
        "# Converting to lowercase\n",
        "df.text = df.text.apply(str.lower)\n",
        "df.headlines = df.headlines.apply(str.lower)\n",
        "\n",
        "df.sample(5)"
      ],
      "metadata": {
        "colab": {
          "base_uri": "https://localhost:8080/",
          "height": 206
        },
        "id": "zvBPufIyjmQg",
        "outputId": "7a3825eb-9dd5-4597-fe3e-a2877a6ec628"
      },
      "execution_count": null,
      "outputs": [
        {
          "output_type": "execute_result",
          "data": {
            "text/plain": [
              "                                               headlines  \\\n",
              "55703  google to not renew military drone ai project ...   \n",
              "40870  govt sanctions ã¢ââ¹1000 crore for research i...   \n",
              "33335  google may buy nokia's broadband tech for in-f...   \n",
              "69931  jadhav's meeting with family a cruel joke: sar...   \n",
              "44939           kung fu master uses his penis to tow bus   \n",
              "\n",
              "                                                    text  \n",
              "55703  google has said it will not renew its artifici...  \n",
              "40870  the government has sanctioned ã¢ââ¹1,000 cror...  \n",
              "33335  technology giant google is in advanced talks t...  \n",
              "69931  sarabjit singh's sister, dalbir kaur, has said...  \n",
              "44939  a video from china shows a kung fu master usin...  "
            ],
            "text/html": [
              "\n",
              "  <div id=\"df-fa22b438-32ad-4269-9af4-f62b4e7dc1ea\" class=\"colab-df-container\">\n",
              "    <div>\n",
              "<style scoped>\n",
              "    .dataframe tbody tr th:only-of-type {\n",
              "        vertical-align: middle;\n",
              "    }\n",
              "\n",
              "    .dataframe tbody tr th {\n",
              "        vertical-align: top;\n",
              "    }\n",
              "\n",
              "    .dataframe thead th {\n",
              "        text-align: right;\n",
              "    }\n",
              "</style>\n",
              "<table border=\"1\" class=\"dataframe\">\n",
              "  <thead>\n",
              "    <tr style=\"text-align: right;\">\n",
              "      <th></th>\n",
              "      <th>headlines</th>\n",
              "      <th>text</th>\n",
              "    </tr>\n",
              "  </thead>\n",
              "  <tbody>\n",
              "    <tr>\n",
              "      <th>55703</th>\n",
              "      <td>google to not renew military drone ai project ...</td>\n",
              "      <td>google has said it will not renew its artifici...</td>\n",
              "    </tr>\n",
              "    <tr>\n",
              "      <th>40870</th>\n",
              "      <td>govt sanctions ã¢ââ¹1000 crore for research i...</td>\n",
              "      <td>the government has sanctioned ã¢ââ¹1,000 cror...</td>\n",
              "    </tr>\n",
              "    <tr>\n",
              "      <th>33335</th>\n",
              "      <td>google may buy nokia's broadband tech for in-f...</td>\n",
              "      <td>technology giant google is in advanced talks t...</td>\n",
              "    </tr>\n",
              "    <tr>\n",
              "      <th>69931</th>\n",
              "      <td>jadhav's meeting with family a cruel joke: sar...</td>\n",
              "      <td>sarabjit singh's sister, dalbir kaur, has said...</td>\n",
              "    </tr>\n",
              "    <tr>\n",
              "      <th>44939</th>\n",
              "      <td>kung fu master uses his penis to tow bus</td>\n",
              "      <td>a video from china shows a kung fu master usin...</td>\n",
              "    </tr>\n",
              "  </tbody>\n",
              "</table>\n",
              "</div>\n",
              "    <div class=\"colab-df-buttons\">\n",
              "\n",
              "  <div class=\"colab-df-container\">\n",
              "    <button class=\"colab-df-convert\" onclick=\"convertToInteractive('df-fa22b438-32ad-4269-9af4-f62b4e7dc1ea')\"\n",
              "            title=\"Convert this dataframe to an interactive table.\"\n",
              "            style=\"display:none;\">\n",
              "\n",
              "  <svg xmlns=\"http://www.w3.org/2000/svg\" height=\"24px\" viewBox=\"0 -960 960 960\">\n",
              "    <path d=\"M120-120v-720h720v720H120Zm60-500h600v-160H180v160Zm220 220h160v-160H400v160Zm0 220h160v-160H400v160ZM180-400h160v-160H180v160Zm440 0h160v-160H620v160ZM180-180h160v-160H180v160Zm440 0h160v-160H620v160Z\"/>\n",
              "  </svg>\n",
              "    </button>\n",
              "\n",
              "  <style>\n",
              "    .colab-df-container {\n",
              "      display:flex;\n",
              "      gap: 12px;\n",
              "    }\n",
              "\n",
              "    .colab-df-convert {\n",
              "      background-color: #E8F0FE;\n",
              "      border: none;\n",
              "      border-radius: 50%;\n",
              "      cursor: pointer;\n",
              "      display: none;\n",
              "      fill: #1967D2;\n",
              "      height: 32px;\n",
              "      padding: 0 0 0 0;\n",
              "      width: 32px;\n",
              "    }\n",
              "\n",
              "    .colab-df-convert:hover {\n",
              "      background-color: #E2EBFA;\n",
              "      box-shadow: 0px 1px 2px rgba(60, 64, 67, 0.3), 0px 1px 3px 1px rgba(60, 64, 67, 0.15);\n",
              "      fill: #174EA6;\n",
              "    }\n",
              "\n",
              "    .colab-df-buttons div {\n",
              "      margin-bottom: 4px;\n",
              "    }\n",
              "\n",
              "    [theme=dark] .colab-df-convert {\n",
              "      background-color: #3B4455;\n",
              "      fill: #D2E3FC;\n",
              "    }\n",
              "\n",
              "    [theme=dark] .colab-df-convert:hover {\n",
              "      background-color: #434B5C;\n",
              "      box-shadow: 0px 1px 3px 1px rgba(0, 0, 0, 0.15);\n",
              "      filter: drop-shadow(0px 1px 2px rgba(0, 0, 0, 0.3));\n",
              "      fill: #FFFFFF;\n",
              "    }\n",
              "  </style>\n",
              "\n",
              "    <script>\n",
              "      const buttonEl =\n",
              "        document.querySelector('#df-fa22b438-32ad-4269-9af4-f62b4e7dc1ea button.colab-df-convert');\n",
              "      buttonEl.style.display =\n",
              "        google.colab.kernel.accessAllowed ? 'block' : 'none';\n",
              "\n",
              "      async function convertToInteractive(key) {\n",
              "        const element = document.querySelector('#df-fa22b438-32ad-4269-9af4-f62b4e7dc1ea');\n",
              "        const dataTable =\n",
              "          await google.colab.kernel.invokeFunction('convertToInteractive',\n",
              "                                                    [key], {});\n",
              "        if (!dataTable) return;\n",
              "\n",
              "        const docLinkHtml = 'Like what you see? Visit the ' +\n",
              "          '<a target=\"_blank\" href=https://colab.research.google.com/notebooks/data_table.ipynb>data table notebook</a>'\n",
              "          + ' to learn more about interactive tables.';\n",
              "        element.innerHTML = '';\n",
              "        dataTable['output_type'] = 'display_data';\n",
              "        await google.colab.output.renderOutput(dataTable, element);\n",
              "        const docLink = document.createElement('div');\n",
              "        docLink.innerHTML = docLinkHtml;\n",
              "        element.appendChild(docLink);\n",
              "      }\n",
              "    </script>\n",
              "  </div>\n",
              "\n",
              "\n",
              "<div id=\"df-e0a509ab-4c30-45c3-9fce-bfdd490bfce2\">\n",
              "  <button class=\"colab-df-quickchart\" onclick=\"quickchart('df-e0a509ab-4c30-45c3-9fce-bfdd490bfce2')\"\n",
              "            title=\"Suggest charts\"\n",
              "            style=\"display:none;\">\n",
              "\n",
              "<svg xmlns=\"http://www.w3.org/2000/svg\" height=\"24px\"viewBox=\"0 0 24 24\"\n",
              "     width=\"24px\">\n",
              "    <g>\n",
              "        <path d=\"M19 3H5c-1.1 0-2 .9-2 2v14c0 1.1.9 2 2 2h14c1.1 0 2-.9 2-2V5c0-1.1-.9-2-2-2zM9 17H7v-7h2v7zm4 0h-2V7h2v10zm4 0h-2v-4h2v4z\"/>\n",
              "    </g>\n",
              "</svg>\n",
              "  </button>\n",
              "\n",
              "<style>\n",
              "  .colab-df-quickchart {\n",
              "      --bg-color: #E8F0FE;\n",
              "      --fill-color: #1967D2;\n",
              "      --hover-bg-color: #E2EBFA;\n",
              "      --hover-fill-color: #174EA6;\n",
              "      --disabled-fill-color: #AAA;\n",
              "      --disabled-bg-color: #DDD;\n",
              "  }\n",
              "\n",
              "  [theme=dark] .colab-df-quickchart {\n",
              "      --bg-color: #3B4455;\n",
              "      --fill-color: #D2E3FC;\n",
              "      --hover-bg-color: #434B5C;\n",
              "      --hover-fill-color: #FFFFFF;\n",
              "      --disabled-bg-color: #3B4455;\n",
              "      --disabled-fill-color: #666;\n",
              "  }\n",
              "\n",
              "  .colab-df-quickchart {\n",
              "    background-color: var(--bg-color);\n",
              "    border: none;\n",
              "    border-radius: 50%;\n",
              "    cursor: pointer;\n",
              "    display: none;\n",
              "    fill: var(--fill-color);\n",
              "    height: 32px;\n",
              "    padding: 0;\n",
              "    width: 32px;\n",
              "  }\n",
              "\n",
              "  .colab-df-quickchart:hover {\n",
              "    background-color: var(--hover-bg-color);\n",
              "    box-shadow: 0 1px 2px rgba(60, 64, 67, 0.3), 0 1px 3px 1px rgba(60, 64, 67, 0.15);\n",
              "    fill: var(--button-hover-fill-color);\n",
              "  }\n",
              "\n",
              "  .colab-df-quickchart-complete:disabled,\n",
              "  .colab-df-quickchart-complete:disabled:hover {\n",
              "    background-color: var(--disabled-bg-color);\n",
              "    fill: var(--disabled-fill-color);\n",
              "    box-shadow: none;\n",
              "  }\n",
              "\n",
              "  .colab-df-spinner {\n",
              "    border: 2px solid var(--fill-color);\n",
              "    border-color: transparent;\n",
              "    border-bottom-color: var(--fill-color);\n",
              "    animation:\n",
              "      spin 1s steps(1) infinite;\n",
              "  }\n",
              "\n",
              "  @keyframes spin {\n",
              "    0% {\n",
              "      border-color: transparent;\n",
              "      border-bottom-color: var(--fill-color);\n",
              "      border-left-color: var(--fill-color);\n",
              "    }\n",
              "    20% {\n",
              "      border-color: transparent;\n",
              "      border-left-color: var(--fill-color);\n",
              "      border-top-color: var(--fill-color);\n",
              "    }\n",
              "    30% {\n",
              "      border-color: transparent;\n",
              "      border-left-color: var(--fill-color);\n",
              "      border-top-color: var(--fill-color);\n",
              "      border-right-color: var(--fill-color);\n",
              "    }\n",
              "    40% {\n",
              "      border-color: transparent;\n",
              "      border-right-color: var(--fill-color);\n",
              "      border-top-color: var(--fill-color);\n",
              "    }\n",
              "    60% {\n",
              "      border-color: transparent;\n",
              "      border-right-color: var(--fill-color);\n",
              "    }\n",
              "    80% {\n",
              "      border-color: transparent;\n",
              "      border-right-color: var(--fill-color);\n",
              "      border-bottom-color: var(--fill-color);\n",
              "    }\n",
              "    90% {\n",
              "      border-color: transparent;\n",
              "      border-bottom-color: var(--fill-color);\n",
              "    }\n",
              "  }\n",
              "</style>\n",
              "\n",
              "  <script>\n",
              "    async function quickchart(key) {\n",
              "      const quickchartButtonEl =\n",
              "        document.querySelector('#' + key + ' button');\n",
              "      quickchartButtonEl.disabled = true;  // To prevent multiple clicks.\n",
              "      quickchartButtonEl.classList.add('colab-df-spinner');\n",
              "      try {\n",
              "        const charts = await google.colab.kernel.invokeFunction(\n",
              "            'suggestCharts', [key], {});\n",
              "      } catch (error) {\n",
              "        console.error('Error during call to suggestCharts:', error);\n",
              "      }\n",
              "      quickchartButtonEl.classList.remove('colab-df-spinner');\n",
              "      quickchartButtonEl.classList.add('colab-df-quickchart-complete');\n",
              "    }\n",
              "    (() => {\n",
              "      let quickchartButtonEl =\n",
              "        document.querySelector('#df-e0a509ab-4c30-45c3-9fce-bfdd490bfce2 button');\n",
              "      quickchartButtonEl.style.display =\n",
              "        google.colab.kernel.accessAllowed ? 'block' : 'none';\n",
              "    })();\n",
              "  </script>\n",
              "</div>\n",
              "    </div>\n",
              "  </div>\n"
            ]
          },
          "metadata": {},
          "execution_count": 12
        }
      ]
    },
    {
      "cell_type": "code",
      "source": [
        "df['text'][0]"
      ],
      "metadata": {
        "colab": {
          "base_uri": "https://localhost:8080/",
          "height": 87
        },
        "id": "fN7frfgOd9lQ",
        "outputId": "145eac62-15fe-4c65-865d-873a7ac437d7"
      },
      "execution_count": null,
      "outputs": [
        {
          "output_type": "execute_result",
          "data": {
            "text/plain": [
              "\"the world health organisation (who) has warned there aren't enough antibiotics being developed to tackle the crisis of drug-resistant infections that kill seven lakh people per year globally. the report further highlights multidrug-resistant tuberculosis for which just 52% of the patients are successfully treated, while only two new antibiotics have reached the market in 70 years.\""
            ],
            "application/vnd.google.colaboratory.intrinsic+json": {
              "type": "string"
            }
          },
          "metadata": {},
          "execution_count": 13
        }
      ]
    },
    {
      "cell_type": "code",
      "source": [
        "test = df['text'][0]"
      ],
      "metadata": {
        "id": "SKPkOSUlCcS5"
      },
      "execution_count": null,
      "outputs": []
    },
    {
      "cell_type": "code",
      "source": [
        "df.headlines = df.headlines.apply(expand_contractions)\n",
        "df.text = df.text.apply(expand_contractions)\n",
        "df.sample(5)"
      ],
      "metadata": {
        "colab": {
          "base_uri": "https://localhost:8080/",
          "height": 206
        },
        "id": "JpaG0JLNjqcV",
        "outputId": "72e09915-b1d4-4515-af50-942b1fde57da"
      },
      "execution_count": null,
      "outputs": [
        {
          "output_type": "execute_result",
          "data": {
            "text/plain": [
              "                                               headlines  \\\n",
              "47211  doors of hinduism open as all of us originally...   \n",
              "66505  lactalis recalls baby milk as 26 children fall...   \n",
              "79590  us senate clears new sanctions against russia,...   \n",
              "94412  rishi kapoor bought his filmfare award for ?30...   \n",
              "83912  russia denies mh17 brought down by its militar...   \n",
              "\n",
              "                                                    text  \n",
              "47211  rss chief mohan bhagwat on monday said the doo...  \n",
              "66505  french baby milk maker lactalis and health aut...  \n",
              "79590  the us senate on thursday voted 98-2 to impose...  \n",
              "94412  actor rishi kapoor bought his filmfare award f...  \n",
              "83912  russia on thursday rejected an international i...  "
            ],
            "text/html": [
              "\n",
              "  <div id=\"df-3e669916-99bf-4284-a480-a87ccf07a349\" class=\"colab-df-container\">\n",
              "    <div>\n",
              "<style scoped>\n",
              "    .dataframe tbody tr th:only-of-type {\n",
              "        vertical-align: middle;\n",
              "    }\n",
              "\n",
              "    .dataframe tbody tr th {\n",
              "        vertical-align: top;\n",
              "    }\n",
              "\n",
              "    .dataframe thead th {\n",
              "        text-align: right;\n",
              "    }\n",
              "</style>\n",
              "<table border=\"1\" class=\"dataframe\">\n",
              "  <thead>\n",
              "    <tr style=\"text-align: right;\">\n",
              "      <th></th>\n",
              "      <th>headlines</th>\n",
              "      <th>text</th>\n",
              "    </tr>\n",
              "  </thead>\n",
              "  <tbody>\n",
              "    <tr>\n",
              "      <th>47211</th>\n",
              "      <td>doors of hinduism open as all of us originally...</td>\n",
              "      <td>rss chief mohan bhagwat on monday said the doo...</td>\n",
              "    </tr>\n",
              "    <tr>\n",
              "      <th>66505</th>\n",
              "      <td>lactalis recalls baby milk as 26 children fall...</td>\n",
              "      <td>french baby milk maker lactalis and health aut...</td>\n",
              "    </tr>\n",
              "    <tr>\n",
              "      <th>79590</th>\n",
              "      <td>us senate clears new sanctions against russia,...</td>\n",
              "      <td>the us senate on thursday voted 98-2 to impose...</td>\n",
              "    </tr>\n",
              "    <tr>\n",
              "      <th>94412</th>\n",
              "      <td>rishi kapoor bought his filmfare award for ?30...</td>\n",
              "      <td>actor rishi kapoor bought his filmfare award f...</td>\n",
              "    </tr>\n",
              "    <tr>\n",
              "      <th>83912</th>\n",
              "      <td>russia denies mh17 brought down by its militar...</td>\n",
              "      <td>russia on thursday rejected an international i...</td>\n",
              "    </tr>\n",
              "  </tbody>\n",
              "</table>\n",
              "</div>\n",
              "    <div class=\"colab-df-buttons\">\n",
              "\n",
              "  <div class=\"colab-df-container\">\n",
              "    <button class=\"colab-df-convert\" onclick=\"convertToInteractive('df-3e669916-99bf-4284-a480-a87ccf07a349')\"\n",
              "            title=\"Convert this dataframe to an interactive table.\"\n",
              "            style=\"display:none;\">\n",
              "\n",
              "  <svg xmlns=\"http://www.w3.org/2000/svg\" height=\"24px\" viewBox=\"0 -960 960 960\">\n",
              "    <path d=\"M120-120v-720h720v720H120Zm60-500h600v-160H180v160Zm220 220h160v-160H400v160Zm0 220h160v-160H400v160ZM180-400h160v-160H180v160Zm440 0h160v-160H620v160ZM180-180h160v-160H180v160Zm440 0h160v-160H620v160Z\"/>\n",
              "  </svg>\n",
              "    </button>\n",
              "\n",
              "  <style>\n",
              "    .colab-df-container {\n",
              "      display:flex;\n",
              "      gap: 12px;\n",
              "    }\n",
              "\n",
              "    .colab-df-convert {\n",
              "      background-color: #E8F0FE;\n",
              "      border: none;\n",
              "      border-radius: 50%;\n",
              "      cursor: pointer;\n",
              "      display: none;\n",
              "      fill: #1967D2;\n",
              "      height: 32px;\n",
              "      padding: 0 0 0 0;\n",
              "      width: 32px;\n",
              "    }\n",
              "\n",
              "    .colab-df-convert:hover {\n",
              "      background-color: #E2EBFA;\n",
              "      box-shadow: 0px 1px 2px rgba(60, 64, 67, 0.3), 0px 1px 3px 1px rgba(60, 64, 67, 0.15);\n",
              "      fill: #174EA6;\n",
              "    }\n",
              "\n",
              "    .colab-df-buttons div {\n",
              "      margin-bottom: 4px;\n",
              "    }\n",
              "\n",
              "    [theme=dark] .colab-df-convert {\n",
              "      background-color: #3B4455;\n",
              "      fill: #D2E3FC;\n",
              "    }\n",
              "\n",
              "    [theme=dark] .colab-df-convert:hover {\n",
              "      background-color: #434B5C;\n",
              "      box-shadow: 0px 1px 3px 1px rgba(0, 0, 0, 0.15);\n",
              "      filter: drop-shadow(0px 1px 2px rgba(0, 0, 0, 0.3));\n",
              "      fill: #FFFFFF;\n",
              "    }\n",
              "  </style>\n",
              "\n",
              "    <script>\n",
              "      const buttonEl =\n",
              "        document.querySelector('#df-3e669916-99bf-4284-a480-a87ccf07a349 button.colab-df-convert');\n",
              "      buttonEl.style.display =\n",
              "        google.colab.kernel.accessAllowed ? 'block' : 'none';\n",
              "\n",
              "      async function convertToInteractive(key) {\n",
              "        const element = document.querySelector('#df-3e669916-99bf-4284-a480-a87ccf07a349');\n",
              "        const dataTable =\n",
              "          await google.colab.kernel.invokeFunction('convertToInteractive',\n",
              "                                                    [key], {});\n",
              "        if (!dataTable) return;\n",
              "\n",
              "        const docLinkHtml = 'Like what you see? Visit the ' +\n",
              "          '<a target=\"_blank\" href=https://colab.research.google.com/notebooks/data_table.ipynb>data table notebook</a>'\n",
              "          + ' to learn more about interactive tables.';\n",
              "        element.innerHTML = '';\n",
              "        dataTable['output_type'] = 'display_data';\n",
              "        await google.colab.output.renderOutput(dataTable, element);\n",
              "        const docLink = document.createElement('div');\n",
              "        docLink.innerHTML = docLinkHtml;\n",
              "        element.appendChild(docLink);\n",
              "      }\n",
              "    </script>\n",
              "  </div>\n",
              "\n",
              "\n",
              "<div id=\"df-f25035f6-a5b9-4ba1-ae4b-d223a7bcf63a\">\n",
              "  <button class=\"colab-df-quickchart\" onclick=\"quickchart('df-f25035f6-a5b9-4ba1-ae4b-d223a7bcf63a')\"\n",
              "            title=\"Suggest charts\"\n",
              "            style=\"display:none;\">\n",
              "\n",
              "<svg xmlns=\"http://www.w3.org/2000/svg\" height=\"24px\"viewBox=\"0 0 24 24\"\n",
              "     width=\"24px\">\n",
              "    <g>\n",
              "        <path d=\"M19 3H5c-1.1 0-2 .9-2 2v14c0 1.1.9 2 2 2h14c1.1 0 2-.9 2-2V5c0-1.1-.9-2-2-2zM9 17H7v-7h2v7zm4 0h-2V7h2v10zm4 0h-2v-4h2v4z\"/>\n",
              "    </g>\n",
              "</svg>\n",
              "  </button>\n",
              "\n",
              "<style>\n",
              "  .colab-df-quickchart {\n",
              "      --bg-color: #E8F0FE;\n",
              "      --fill-color: #1967D2;\n",
              "      --hover-bg-color: #E2EBFA;\n",
              "      --hover-fill-color: #174EA6;\n",
              "      --disabled-fill-color: #AAA;\n",
              "      --disabled-bg-color: #DDD;\n",
              "  }\n",
              "\n",
              "  [theme=dark] .colab-df-quickchart {\n",
              "      --bg-color: #3B4455;\n",
              "      --fill-color: #D2E3FC;\n",
              "      --hover-bg-color: #434B5C;\n",
              "      --hover-fill-color: #FFFFFF;\n",
              "      --disabled-bg-color: #3B4455;\n",
              "      --disabled-fill-color: #666;\n",
              "  }\n",
              "\n",
              "  .colab-df-quickchart {\n",
              "    background-color: var(--bg-color);\n",
              "    border: none;\n",
              "    border-radius: 50%;\n",
              "    cursor: pointer;\n",
              "    display: none;\n",
              "    fill: var(--fill-color);\n",
              "    height: 32px;\n",
              "    padding: 0;\n",
              "    width: 32px;\n",
              "  }\n",
              "\n",
              "  .colab-df-quickchart:hover {\n",
              "    background-color: var(--hover-bg-color);\n",
              "    box-shadow: 0 1px 2px rgba(60, 64, 67, 0.3), 0 1px 3px 1px rgba(60, 64, 67, 0.15);\n",
              "    fill: var(--button-hover-fill-color);\n",
              "  }\n",
              "\n",
              "  .colab-df-quickchart-complete:disabled,\n",
              "  .colab-df-quickchart-complete:disabled:hover {\n",
              "    background-color: var(--disabled-bg-color);\n",
              "    fill: var(--disabled-fill-color);\n",
              "    box-shadow: none;\n",
              "  }\n",
              "\n",
              "  .colab-df-spinner {\n",
              "    border: 2px solid var(--fill-color);\n",
              "    border-color: transparent;\n",
              "    border-bottom-color: var(--fill-color);\n",
              "    animation:\n",
              "      spin 1s steps(1) infinite;\n",
              "  }\n",
              "\n",
              "  @keyframes spin {\n",
              "    0% {\n",
              "      border-color: transparent;\n",
              "      border-bottom-color: var(--fill-color);\n",
              "      border-left-color: var(--fill-color);\n",
              "    }\n",
              "    20% {\n",
              "      border-color: transparent;\n",
              "      border-left-color: var(--fill-color);\n",
              "      border-top-color: var(--fill-color);\n",
              "    }\n",
              "    30% {\n",
              "      border-color: transparent;\n",
              "      border-left-color: var(--fill-color);\n",
              "      border-top-color: var(--fill-color);\n",
              "      border-right-color: var(--fill-color);\n",
              "    }\n",
              "    40% {\n",
              "      border-color: transparent;\n",
              "      border-right-color: var(--fill-color);\n",
              "      border-top-color: var(--fill-color);\n",
              "    }\n",
              "    60% {\n",
              "      border-color: transparent;\n",
              "      border-right-color: var(--fill-color);\n",
              "    }\n",
              "    80% {\n",
              "      border-color: transparent;\n",
              "      border-right-color: var(--fill-color);\n",
              "      border-bottom-color: var(--fill-color);\n",
              "    }\n",
              "    90% {\n",
              "      border-color: transparent;\n",
              "      border-bottom-color: var(--fill-color);\n",
              "    }\n",
              "  }\n",
              "</style>\n",
              "\n",
              "  <script>\n",
              "    async function quickchart(key) {\n",
              "      const quickchartButtonEl =\n",
              "        document.querySelector('#' + key + ' button');\n",
              "      quickchartButtonEl.disabled = true;  // To prevent multiple clicks.\n",
              "      quickchartButtonEl.classList.add('colab-df-spinner');\n",
              "      try {\n",
              "        const charts = await google.colab.kernel.invokeFunction(\n",
              "            'suggestCharts', [key], {});\n",
              "      } catch (error) {\n",
              "        console.error('Error during call to suggestCharts:', error);\n",
              "      }\n",
              "      quickchartButtonEl.classList.remove('colab-df-spinner');\n",
              "      quickchartButtonEl.classList.add('colab-df-quickchart-complete');\n",
              "    }\n",
              "    (() => {\n",
              "      let quickchartButtonEl =\n",
              "        document.querySelector('#df-f25035f6-a5b9-4ba1-ae4b-d223a7bcf63a button');\n",
              "      quickchartButtonEl.style.display =\n",
              "        google.colab.kernel.accessAllowed ? 'block' : 'none';\n",
              "    })();\n",
              "  </script>\n",
              "</div>\n",
              "    </div>\n",
              "  </div>\n"
            ]
          },
          "metadata": {},
          "execution_count": 15
        }
      ]
    },
    {
      "cell_type": "code",
      "source": [
        "# Remove puncuation from word\n",
        "def rm_punc_from_word(word):\n",
        "    clean_alphabet_list = [\n",
        "        alphabet for alphabet in word if alphabet not in string.punctuation\n",
        "    ]\n",
        "    return ''.join(clean_alphabet_list)\n",
        "\n",
        "print(rm_punc_from_word('#cool!'))\n",
        "\n",
        "\n",
        "# Remove puncuation from text\n",
        "def rm_punc_from_text(text):\n",
        "    clean_word_list = [rm_punc_from_word(word) for word in text]\n",
        "    return ''.join(clean_word_list)\n",
        "\n",
        "print(rm_punc_from_text(\"Frankly, my dear, I don't give a damn\"))"
      ],
      "metadata": {
        "colab": {
          "base_uri": "https://localhost:8080/"
        },
        "id": "yNVtHBCljunU",
        "outputId": "781335e5-b2f5-456b-88bb-a035b7921aad"
      },
      "execution_count": null,
      "outputs": [
        {
          "output_type": "stream",
          "name": "stdout",
          "text": [
            "cool\n",
            "Frankly my dear I dont give a damn\n"
          ]
        }
      ]
    },
    {
      "cell_type": "code",
      "source": [
        "# Remove numbers from text\n",
        "def rm_number_from_text(text):\n",
        "    text = re.sub('[0-9]+', '', text)\n",
        "    return ' '.join(text.split())  # to rm `extra` white space\n",
        "\n",
        "print(rm_number_from_text('You are 100times more sexier than me'))\n",
        "print(rm_number_from_text('If you taught yes then you are 10 times more delusional than me'))"
      ],
      "metadata": {
        "colab": {
          "base_uri": "https://localhost:8080/"
        },
        "id": "4q329SMjkFy8",
        "outputId": "6c1e6eb9-b861-40b9-9c1c-3a218f1ecef2"
      },
      "execution_count": null,
      "outputs": [
        {
          "output_type": "stream",
          "name": "stdout",
          "text": [
            "You are times more sexier than me\n",
            "If you taught yes then you are times more delusional than me\n"
          ]
        }
      ]
    },
    {
      "cell_type": "code",
      "source": [
        "import nltk\n",
        "nltk.download('stopwords')"
      ],
      "metadata": {
        "colab": {
          "base_uri": "https://localhost:8080/"
        },
        "id": "UBoU-oOBkQj4",
        "outputId": "1b1ad115-2dd6-4bf3-c0b4-4376fa1162a8"
      },
      "execution_count": null,
      "outputs": [
        {
          "output_type": "stream",
          "name": "stderr",
          "text": [
            "[nltk_data] Downloading package stopwords to /root/nltk_data...\n",
            "[nltk_data]   Unzipping corpora/stopwords.zip.\n"
          ]
        },
        {
          "output_type": "execute_result",
          "data": {
            "text/plain": [
              "True"
            ]
          },
          "metadata": {},
          "execution_count": 18
        }
      ]
    },
    {
      "cell_type": "code",
      "source": [
        "# Remove stopwords from text\n",
        "def rm_stopwords_from_text(text):\n",
        "    _stopwords = stopwords.words('english')\n",
        "    text = text.split()\n",
        "    word_list = [word for word in text if word not in _stopwords]\n",
        "    return ' '.join(word_list)\n",
        "\n",
        "rm_stopwords_from_text(\"Love means never having to say you're sorry\")"
      ],
      "metadata": {
        "colab": {
          "base_uri": "https://localhost:8080/",
          "height": 35
        },
        "id": "wHnWJdOTkK6w",
        "outputId": "3bc9aedc-a528-4e8b-a892-8ec5a8f7cdc6"
      },
      "execution_count": null,
      "outputs": [
        {
          "output_type": "execute_result",
          "data": {
            "text/plain": [
              "'Love means never say sorry'"
            ],
            "application/vnd.google.colaboratory.intrinsic+json": {
              "type": "string"
            }
          },
          "metadata": {},
          "execution_count": 19
        }
      ]
    },
    {
      "cell_type": "code",
      "source": [
        "# Cleaning text\n",
        "def clean_text(text):\n",
        "    text = text.lower()\n",
        "    text = rm_punc_from_text(text)\n",
        "    text = rm_number_from_text(text)\n",
        "    text = rm_stopwords_from_text(text)\n",
        "\n",
        "    # there are hyphen(–) in many titles, so replacing it with empty str\n",
        "    # this hyphen(–) is different from normal hyphen(-)\n",
        "    text = re.sub('–', '', text)\n",
        "    text = ' '.join(text.split())  # removing `extra` white spaces\n",
        "\n",
        "    # Removing unnecessary characters from text\n",
        "    text = re.sub(\"(\\\\t)\", ' ', str(text)).lower()\n",
        "    text = re.sub(\"(\\\\r)\", ' ', str(text)).lower()\n",
        "    text = re.sub(\"(\\\\n)\", ' ', str(text)).lower()\n",
        "\n",
        "    # remove accented chars ('Sómě Áccěntěd těxt' => 'Some Accented text')\n",
        "    text = unicodedata.normalize('NFKD', text).encode('ascii', 'ignore').decode(\n",
        "        'utf-8', 'ignore'\n",
        "    )\n",
        "\n",
        "    text = re.sub(\"(__+)\", ' ', str(text)).lower()\n",
        "    text = re.sub(\"(--+)\", ' ', str(text)).lower()\n",
        "    text = re.sub(\"(~~+)\", ' ', str(text)).lower()\n",
        "    text = re.sub(\"(\\+\\++)\", ' ', str(text)).lower()\n",
        "    text = re.sub(\"(\\.\\.+)\", ' ', str(text)).lower()\n",
        "\n",
        "    text = re.sub(r\"[<>()|&©ø\\[\\]\\'\\\",;?~*!]\", ' ', str(text)).lower()\n",
        "\n",
        "    text = re.sub(\"(mailto:)\", ' ', str(text)).lower()\n",
        "    text = re.sub(r\"(\\\\x9\\d)\", ' ', str(text)).lower()\n",
        "    text = re.sub(\"([iI][nN][cC]\\d+)\", 'INC_NUM', str(text)).lower()\n",
        "    text = re.sub(\"([cC][mM]\\d+)|([cC][hH][gG]\\d+)\", 'CM_NUM',\n",
        "                  str(text)).lower()\n",
        "\n",
        "    text = re.sub(\"(\\.\\s+)\", ' ', str(text)).lower()\n",
        "    text = re.sub(\"(\\-\\s+)\", ' ', str(text)).lower()\n",
        "    text = re.sub(\"(\\:\\s+)\", ' ', str(text)).lower()\n",
        "    text = re.sub(\"(\\s+.\\s+)\", ' ', str(text)).lower()\n",
        "\n",
        "    try:\n",
        "        url = re.search(r'((https*:\\/*)([^\\/\\s]+))(.[^\\s]+)', str(text))\n",
        "        repl_url = url.group(3)\n",
        "        text = re.sub(r'((https*:\\/*)([^\\/\\s]+))(.[^\\s]+)', repl_url, str(text))\n",
        "    except Exception as e:\n",
        "        pass\n",
        "\n",
        "    text = re.sub(\"(\\s+)\", ' ', str(text)).lower()\n",
        "    text = re.sub(\"(\\s+.\\s+)\", ' ', str(text)).lower()\n",
        "\n",
        "    return text\n",
        "\n",
        "clean_text(\"Mrs. Robinson, you're trying to seduce me, aren't you?\")"
      ],
      "metadata": {
        "colab": {
          "base_uri": "https://localhost:8080/",
          "height": 35
        },
        "id": "RZAJHtdnkNqb",
        "outputId": "3f035a07-c838-4e04-ddd6-e6982f101e63"
      },
      "execution_count": null,
      "outputs": [
        {
          "output_type": "execute_result",
          "data": {
            "text/plain": [
              "'mrs robinson youre trying seduce arent'"
            ],
            "application/vnd.google.colaboratory.intrinsic+json": {
              "type": "string"
            }
          },
          "metadata": {},
          "execution_count": 20
        }
      ]
    },
    {
      "cell_type": "code",
      "source": [
        "df.text = df.text.apply(clean_text)\n",
        "df.headlines = df.headlines.apply(clean_text)\n",
        "df.sample(5)"
      ],
      "metadata": {
        "colab": {
          "base_uri": "https://localhost:8080/",
          "height": 206
        },
        "id": "0mKFFKo7ka4v",
        "outputId": "7a101225-efda-4475-abe0-cfab116aa388"
      },
      "execution_count": null,
      "outputs": [
        {
          "output_type": "execute_result",
          "data": {
            "text/plain": [
              "                                               headlines  \\\n",
              "74614      saudi arabia resumes oil exports red sea lane   \n",
              "27540            garbage bins reintroduced bengaluru yrs   \n",
              "21302  ib ministry increases ad rates private tv chan...   \n",
              "90389             bitcoin price soars reach alltime high   \n",
              "65754  kissing baba held sexually exploiting fthemale...   \n",
              "\n",
              "                                                    text  \n",
              "74614  saudi arabia saturday resumed exports oil red ...  \n",
              "27540  karnataka government reintroduced garbage bins...  \n",
              "21302  information broadcasting ib ministry friday in...  \n",
              "90389  price worlds largest cryptocurrency bitcoin th...  \n",
              "65754  selfstyled godman known kissing baba arrested ...  "
            ],
            "text/html": [
              "\n",
              "  <div id=\"df-0931f0e4-4c30-4371-a378-735e3d883e2c\" class=\"colab-df-container\">\n",
              "    <div>\n",
              "<style scoped>\n",
              "    .dataframe tbody tr th:only-of-type {\n",
              "        vertical-align: middle;\n",
              "    }\n",
              "\n",
              "    .dataframe tbody tr th {\n",
              "        vertical-align: top;\n",
              "    }\n",
              "\n",
              "    .dataframe thead th {\n",
              "        text-align: right;\n",
              "    }\n",
              "</style>\n",
              "<table border=\"1\" class=\"dataframe\">\n",
              "  <thead>\n",
              "    <tr style=\"text-align: right;\">\n",
              "      <th></th>\n",
              "      <th>headlines</th>\n",
              "      <th>text</th>\n",
              "    </tr>\n",
              "  </thead>\n",
              "  <tbody>\n",
              "    <tr>\n",
              "      <th>74614</th>\n",
              "      <td>saudi arabia resumes oil exports red sea lane</td>\n",
              "      <td>saudi arabia saturday resumed exports oil red ...</td>\n",
              "    </tr>\n",
              "    <tr>\n",
              "      <th>27540</th>\n",
              "      <td>garbage bins reintroduced bengaluru yrs</td>\n",
              "      <td>karnataka government reintroduced garbage bins...</td>\n",
              "    </tr>\n",
              "    <tr>\n",
              "      <th>21302</th>\n",
              "      <td>ib ministry increases ad rates private tv chan...</td>\n",
              "      <td>information broadcasting ib ministry friday in...</td>\n",
              "    </tr>\n",
              "    <tr>\n",
              "      <th>90389</th>\n",
              "      <td>bitcoin price soars reach alltime high</td>\n",
              "      <td>price worlds largest cryptocurrency bitcoin th...</td>\n",
              "    </tr>\n",
              "    <tr>\n",
              "      <th>65754</th>\n",
              "      <td>kissing baba held sexually exploiting fthemale...</td>\n",
              "      <td>selfstyled godman known kissing baba arrested ...</td>\n",
              "    </tr>\n",
              "  </tbody>\n",
              "</table>\n",
              "</div>\n",
              "    <div class=\"colab-df-buttons\">\n",
              "\n",
              "  <div class=\"colab-df-container\">\n",
              "    <button class=\"colab-df-convert\" onclick=\"convertToInteractive('df-0931f0e4-4c30-4371-a378-735e3d883e2c')\"\n",
              "            title=\"Convert this dataframe to an interactive table.\"\n",
              "            style=\"display:none;\">\n",
              "\n",
              "  <svg xmlns=\"http://www.w3.org/2000/svg\" height=\"24px\" viewBox=\"0 -960 960 960\">\n",
              "    <path d=\"M120-120v-720h720v720H120Zm60-500h600v-160H180v160Zm220 220h160v-160H400v160Zm0 220h160v-160H400v160ZM180-400h160v-160H180v160Zm440 0h160v-160H620v160ZM180-180h160v-160H180v160Zm440 0h160v-160H620v160Z\"/>\n",
              "  </svg>\n",
              "    </button>\n",
              "\n",
              "  <style>\n",
              "    .colab-df-container {\n",
              "      display:flex;\n",
              "      gap: 12px;\n",
              "    }\n",
              "\n",
              "    .colab-df-convert {\n",
              "      background-color: #E8F0FE;\n",
              "      border: none;\n",
              "      border-radius: 50%;\n",
              "      cursor: pointer;\n",
              "      display: none;\n",
              "      fill: #1967D2;\n",
              "      height: 32px;\n",
              "      padding: 0 0 0 0;\n",
              "      width: 32px;\n",
              "    }\n",
              "\n",
              "    .colab-df-convert:hover {\n",
              "      background-color: #E2EBFA;\n",
              "      box-shadow: 0px 1px 2px rgba(60, 64, 67, 0.3), 0px 1px 3px 1px rgba(60, 64, 67, 0.15);\n",
              "      fill: #174EA6;\n",
              "    }\n",
              "\n",
              "    .colab-df-buttons div {\n",
              "      margin-bottom: 4px;\n",
              "    }\n",
              "\n",
              "    [theme=dark] .colab-df-convert {\n",
              "      background-color: #3B4455;\n",
              "      fill: #D2E3FC;\n",
              "    }\n",
              "\n",
              "    [theme=dark] .colab-df-convert:hover {\n",
              "      background-color: #434B5C;\n",
              "      box-shadow: 0px 1px 3px 1px rgba(0, 0, 0, 0.15);\n",
              "      filter: drop-shadow(0px 1px 2px rgba(0, 0, 0, 0.3));\n",
              "      fill: #FFFFFF;\n",
              "    }\n",
              "  </style>\n",
              "\n",
              "    <script>\n",
              "      const buttonEl =\n",
              "        document.querySelector('#df-0931f0e4-4c30-4371-a378-735e3d883e2c button.colab-df-convert');\n",
              "      buttonEl.style.display =\n",
              "        google.colab.kernel.accessAllowed ? 'block' : 'none';\n",
              "\n",
              "      async function convertToInteractive(key) {\n",
              "        const element = document.querySelector('#df-0931f0e4-4c30-4371-a378-735e3d883e2c');\n",
              "        const dataTable =\n",
              "          await google.colab.kernel.invokeFunction('convertToInteractive',\n",
              "                                                    [key], {});\n",
              "        if (!dataTable) return;\n",
              "\n",
              "        const docLinkHtml = 'Like what you see? Visit the ' +\n",
              "          '<a target=\"_blank\" href=https://colab.research.google.com/notebooks/data_table.ipynb>data table notebook</a>'\n",
              "          + ' to learn more about interactive tables.';\n",
              "        element.innerHTML = '';\n",
              "        dataTable['output_type'] = 'display_data';\n",
              "        await google.colab.output.renderOutput(dataTable, element);\n",
              "        const docLink = document.createElement('div');\n",
              "        docLink.innerHTML = docLinkHtml;\n",
              "        element.appendChild(docLink);\n",
              "      }\n",
              "    </script>\n",
              "  </div>\n",
              "\n",
              "\n",
              "<div id=\"df-cea1e3d6-c77f-4081-aa2d-1adbb3ff4764\">\n",
              "  <button class=\"colab-df-quickchart\" onclick=\"quickchart('df-cea1e3d6-c77f-4081-aa2d-1adbb3ff4764')\"\n",
              "            title=\"Suggest charts\"\n",
              "            style=\"display:none;\">\n",
              "\n",
              "<svg xmlns=\"http://www.w3.org/2000/svg\" height=\"24px\"viewBox=\"0 0 24 24\"\n",
              "     width=\"24px\">\n",
              "    <g>\n",
              "        <path d=\"M19 3H5c-1.1 0-2 .9-2 2v14c0 1.1.9 2 2 2h14c1.1 0 2-.9 2-2V5c0-1.1-.9-2-2-2zM9 17H7v-7h2v7zm4 0h-2V7h2v10zm4 0h-2v-4h2v4z\"/>\n",
              "    </g>\n",
              "</svg>\n",
              "  </button>\n",
              "\n",
              "<style>\n",
              "  .colab-df-quickchart {\n",
              "      --bg-color: #E8F0FE;\n",
              "      --fill-color: #1967D2;\n",
              "      --hover-bg-color: #E2EBFA;\n",
              "      --hover-fill-color: #174EA6;\n",
              "      --disabled-fill-color: #AAA;\n",
              "      --disabled-bg-color: #DDD;\n",
              "  }\n",
              "\n",
              "  [theme=dark] .colab-df-quickchart {\n",
              "      --bg-color: #3B4455;\n",
              "      --fill-color: #D2E3FC;\n",
              "      --hover-bg-color: #434B5C;\n",
              "      --hover-fill-color: #FFFFFF;\n",
              "      --disabled-bg-color: #3B4455;\n",
              "      --disabled-fill-color: #666;\n",
              "  }\n",
              "\n",
              "  .colab-df-quickchart {\n",
              "    background-color: var(--bg-color);\n",
              "    border: none;\n",
              "    border-radius: 50%;\n",
              "    cursor: pointer;\n",
              "    display: none;\n",
              "    fill: var(--fill-color);\n",
              "    height: 32px;\n",
              "    padding: 0;\n",
              "    width: 32px;\n",
              "  }\n",
              "\n",
              "  .colab-df-quickchart:hover {\n",
              "    background-color: var(--hover-bg-color);\n",
              "    box-shadow: 0 1px 2px rgba(60, 64, 67, 0.3), 0 1px 3px 1px rgba(60, 64, 67, 0.15);\n",
              "    fill: var(--button-hover-fill-color);\n",
              "  }\n",
              "\n",
              "  .colab-df-quickchart-complete:disabled,\n",
              "  .colab-df-quickchart-complete:disabled:hover {\n",
              "    background-color: var(--disabled-bg-color);\n",
              "    fill: var(--disabled-fill-color);\n",
              "    box-shadow: none;\n",
              "  }\n",
              "\n",
              "  .colab-df-spinner {\n",
              "    border: 2px solid var(--fill-color);\n",
              "    border-color: transparent;\n",
              "    border-bottom-color: var(--fill-color);\n",
              "    animation:\n",
              "      spin 1s steps(1) infinite;\n",
              "  }\n",
              "\n",
              "  @keyframes spin {\n",
              "    0% {\n",
              "      border-color: transparent;\n",
              "      border-bottom-color: var(--fill-color);\n",
              "      border-left-color: var(--fill-color);\n",
              "    }\n",
              "    20% {\n",
              "      border-color: transparent;\n",
              "      border-left-color: var(--fill-color);\n",
              "      border-top-color: var(--fill-color);\n",
              "    }\n",
              "    30% {\n",
              "      border-color: transparent;\n",
              "      border-left-color: var(--fill-color);\n",
              "      border-top-color: var(--fill-color);\n",
              "      border-right-color: var(--fill-color);\n",
              "    }\n",
              "    40% {\n",
              "      border-color: transparent;\n",
              "      border-right-color: var(--fill-color);\n",
              "      border-top-color: var(--fill-color);\n",
              "    }\n",
              "    60% {\n",
              "      border-color: transparent;\n",
              "      border-right-color: var(--fill-color);\n",
              "    }\n",
              "    80% {\n",
              "      border-color: transparent;\n",
              "      border-right-color: var(--fill-color);\n",
              "      border-bottom-color: var(--fill-color);\n",
              "    }\n",
              "    90% {\n",
              "      border-color: transparent;\n",
              "      border-bottom-color: var(--fill-color);\n",
              "    }\n",
              "  }\n",
              "</style>\n",
              "\n",
              "  <script>\n",
              "    async function quickchart(key) {\n",
              "      const quickchartButtonEl =\n",
              "        document.querySelector('#' + key + ' button');\n",
              "      quickchartButtonEl.disabled = true;  // To prevent multiple clicks.\n",
              "      quickchartButtonEl.classList.add('colab-df-spinner');\n",
              "      try {\n",
              "        const charts = await google.colab.kernel.invokeFunction(\n",
              "            'suggestCharts', [key], {});\n",
              "      } catch (error) {\n",
              "        console.error('Error during call to suggestCharts:', error);\n",
              "      }\n",
              "      quickchartButtonEl.classList.remove('colab-df-spinner');\n",
              "      quickchartButtonEl.classList.add('colab-df-quickchart-complete');\n",
              "    }\n",
              "    (() => {\n",
              "      let quickchartButtonEl =\n",
              "        document.querySelector('#df-cea1e3d6-c77f-4081-aa2d-1adbb3ff4764 button');\n",
              "      quickchartButtonEl.style.display =\n",
              "        google.colab.kernel.accessAllowed ? 'block' : 'none';\n",
              "    })();\n",
              "  </script>\n",
              "</div>\n",
              "    </div>\n",
              "  </div>\n"
            ]
          },
          "metadata": {},
          "execution_count": 21
        }
      ]
    },
    {
      "cell_type": "code",
      "source": [
        "df['text'][0]"
      ],
      "metadata": {
        "colab": {
          "base_uri": "https://localhost:8080/",
          "height": 70
        },
        "id": "kpRoLtKYenng",
        "outputId": "f81494d0-970a-412f-b948-d6a213479a97"
      },
      "execution_count": null,
      "outputs": [
        {
          "output_type": "execute_result",
          "data": {
            "text/plain": [
              "'world health organisation warned enough antibiotics developed tackle crisis drugresistant infections kill seven lakh people per year globally report highlights multidrugresistant tuberculosis patients successfully treated two new antibiotics reached et years'"
            ],
            "application/vnd.google.colaboratory.intrinsic+json": {
              "type": "string"
            }
          },
          "metadata": {},
          "execution_count": 22
        }
      ]
    },
    {
      "cell_type": "code",
      "source": [
        "test1=clean_text(test)\n",
        "print(test)\n",
        "print(test1)"
      ],
      "metadata": {
        "colab": {
          "base_uri": "https://localhost:8080/"
        },
        "id": "DriOZnBTCxrG",
        "outputId": "4fa0e768-7177-4cbc-97ce-8c2a29b845d0"
      },
      "execution_count": null,
      "outputs": [
        {
          "output_type": "stream",
          "name": "stdout",
          "text": [
            "the world health organisation (who) has warned there aren't enough antibiotics being developed to tackle the crisis of drug-resistant infections that kill seven lakh people per year globally. the report further highlights multidrug-resistant tuberculosis for which just 52% of the patients are successfully treated, while only two new antibiotics have reached the market in 70 years.\n",
            "world health organisation warned arent enough antibiotics developed tackle crisis drugresistant infections kill seven lakh people per year globally report highlights multidrugresistant tuberculosis patients successfully treated two new antibiotics reached market years\n"
          ]
        }
      ]
    },
    {
      "cell_type": "code",
      "source": [
        "# saving the cleaned data\n",
        "df.to_csv('cleaned_data.csv')"
      ],
      "metadata": {
        "id": "1sz9wDq3kkG_"
      },
      "execution_count": null,
      "outputs": []
    },
    {
      "cell_type": "code",
      "source": [
        "df.head()"
      ],
      "metadata": {
        "colab": {
          "base_uri": "https://localhost:8080/",
          "height": 206
        },
        "id": "XH373qkaEK95",
        "outputId": "aa3becb0-4909-4ea1-f127-08d5a65372fe"
      },
      "execution_count": null,
      "outputs": [
        {
          "output_type": "execute_result",
          "data": {
            "text/plain": [
              "                                           headlines  \\\n",
              "0    enough antibiotics tackle drugresistance crisis   \n",
              "1  ec sets new dates bengal panchayat polls post ...   \n",
              "2    putin critic denis voronenkov shot dead ukraine   \n",
              "3           sasikala allowed jail visits instead rti   \n",
              "4             k women died due dowry harassment ncrb   \n",
              "\n",
              "                                                text  \n",
              "0  world health organisation warned enough antibi...  \n",
              "1  west bengal election commission announced panc...  \n",
              "2  former russian mp denis voronenkov critic russ...  \n",
              "3  rti reply revealed aiadmk leader sasikala allo...  \n",
              "4  national crime records bureau ncrb stated many...  "
            ],
            "text/html": [
              "\n",
              "  <div id=\"df-6076f49e-5ee5-483a-bf21-2eb6cdd84052\" class=\"colab-df-container\">\n",
              "    <div>\n",
              "<style scoped>\n",
              "    .dataframe tbody tr th:only-of-type {\n",
              "        vertical-align: middle;\n",
              "    }\n",
              "\n",
              "    .dataframe tbody tr th {\n",
              "        vertical-align: top;\n",
              "    }\n",
              "\n",
              "    .dataframe thead th {\n",
              "        text-align: right;\n",
              "    }\n",
              "</style>\n",
              "<table border=\"1\" class=\"dataframe\">\n",
              "  <thead>\n",
              "    <tr style=\"text-align: right;\">\n",
              "      <th></th>\n",
              "      <th>headlines</th>\n",
              "      <th>text</th>\n",
              "    </tr>\n",
              "  </thead>\n",
              "  <tbody>\n",
              "    <tr>\n",
              "      <th>0</th>\n",
              "      <td>enough antibiotics tackle drugresistance crisis</td>\n",
              "      <td>world health organisation warned enough antibi...</td>\n",
              "    </tr>\n",
              "    <tr>\n",
              "      <th>1</th>\n",
              "      <td>ec sets new dates bengal panchayat polls post ...</td>\n",
              "      <td>west bengal election commission announced panc...</td>\n",
              "    </tr>\n",
              "    <tr>\n",
              "      <th>2</th>\n",
              "      <td>putin critic denis voronenkov shot dead ukraine</td>\n",
              "      <td>former russian mp denis voronenkov critic russ...</td>\n",
              "    </tr>\n",
              "    <tr>\n",
              "      <th>3</th>\n",
              "      <td>sasikala allowed jail visits instead rti</td>\n",
              "      <td>rti reply revealed aiadmk leader sasikala allo...</td>\n",
              "    </tr>\n",
              "    <tr>\n",
              "      <th>4</th>\n",
              "      <td>k women died due dowry harassment ncrb</td>\n",
              "      <td>national crime records bureau ncrb stated many...</td>\n",
              "    </tr>\n",
              "  </tbody>\n",
              "</table>\n",
              "</div>\n",
              "    <div class=\"colab-df-buttons\">\n",
              "\n",
              "  <div class=\"colab-df-container\">\n",
              "    <button class=\"colab-df-convert\" onclick=\"convertToInteractive('df-6076f49e-5ee5-483a-bf21-2eb6cdd84052')\"\n",
              "            title=\"Convert this dataframe to an interactive table.\"\n",
              "            style=\"display:none;\">\n",
              "\n",
              "  <svg xmlns=\"http://www.w3.org/2000/svg\" height=\"24px\" viewBox=\"0 -960 960 960\">\n",
              "    <path d=\"M120-120v-720h720v720H120Zm60-500h600v-160H180v160Zm220 220h160v-160H400v160Zm0 220h160v-160H400v160ZM180-400h160v-160H180v160Zm440 0h160v-160H620v160ZM180-180h160v-160H180v160Zm440 0h160v-160H620v160Z\"/>\n",
              "  </svg>\n",
              "    </button>\n",
              "\n",
              "  <style>\n",
              "    .colab-df-container {\n",
              "      display:flex;\n",
              "      gap: 12px;\n",
              "    }\n",
              "\n",
              "    .colab-df-convert {\n",
              "      background-color: #E8F0FE;\n",
              "      border: none;\n",
              "      border-radius: 50%;\n",
              "      cursor: pointer;\n",
              "      display: none;\n",
              "      fill: #1967D2;\n",
              "      height: 32px;\n",
              "      padding: 0 0 0 0;\n",
              "      width: 32px;\n",
              "    }\n",
              "\n",
              "    .colab-df-convert:hover {\n",
              "      background-color: #E2EBFA;\n",
              "      box-shadow: 0px 1px 2px rgba(60, 64, 67, 0.3), 0px 1px 3px 1px rgba(60, 64, 67, 0.15);\n",
              "      fill: #174EA6;\n",
              "    }\n",
              "\n",
              "    .colab-df-buttons div {\n",
              "      margin-bottom: 4px;\n",
              "    }\n",
              "\n",
              "    [theme=dark] .colab-df-convert {\n",
              "      background-color: #3B4455;\n",
              "      fill: #D2E3FC;\n",
              "    }\n",
              "\n",
              "    [theme=dark] .colab-df-convert:hover {\n",
              "      background-color: #434B5C;\n",
              "      box-shadow: 0px 1px 3px 1px rgba(0, 0, 0, 0.15);\n",
              "      filter: drop-shadow(0px 1px 2px rgba(0, 0, 0, 0.3));\n",
              "      fill: #FFFFFF;\n",
              "    }\n",
              "  </style>\n",
              "\n",
              "    <script>\n",
              "      const buttonEl =\n",
              "        document.querySelector('#df-6076f49e-5ee5-483a-bf21-2eb6cdd84052 button.colab-df-convert');\n",
              "      buttonEl.style.display =\n",
              "        google.colab.kernel.accessAllowed ? 'block' : 'none';\n",
              "\n",
              "      async function convertToInteractive(key) {\n",
              "        const element = document.querySelector('#df-6076f49e-5ee5-483a-bf21-2eb6cdd84052');\n",
              "        const dataTable =\n",
              "          await google.colab.kernel.invokeFunction('convertToInteractive',\n",
              "                                                    [key], {});\n",
              "        if (!dataTable) return;\n",
              "\n",
              "        const docLinkHtml = 'Like what you see? Visit the ' +\n",
              "          '<a target=\"_blank\" href=https://colab.research.google.com/notebooks/data_table.ipynb>data table notebook</a>'\n",
              "          + ' to learn more about interactive tables.';\n",
              "        element.innerHTML = '';\n",
              "        dataTable['output_type'] = 'display_data';\n",
              "        await google.colab.output.renderOutput(dataTable, element);\n",
              "        const docLink = document.createElement('div');\n",
              "        docLink.innerHTML = docLinkHtml;\n",
              "        element.appendChild(docLink);\n",
              "      }\n",
              "    </script>\n",
              "  </div>\n",
              "\n",
              "\n",
              "<div id=\"df-e575df83-29e5-43be-abd2-855a08753e69\">\n",
              "  <button class=\"colab-df-quickchart\" onclick=\"quickchart('df-e575df83-29e5-43be-abd2-855a08753e69')\"\n",
              "            title=\"Suggest charts\"\n",
              "            style=\"display:none;\">\n",
              "\n",
              "<svg xmlns=\"http://www.w3.org/2000/svg\" height=\"24px\"viewBox=\"0 0 24 24\"\n",
              "     width=\"24px\">\n",
              "    <g>\n",
              "        <path d=\"M19 3H5c-1.1 0-2 .9-2 2v14c0 1.1.9 2 2 2h14c1.1 0 2-.9 2-2V5c0-1.1-.9-2-2-2zM9 17H7v-7h2v7zm4 0h-2V7h2v10zm4 0h-2v-4h2v4z\"/>\n",
              "    </g>\n",
              "</svg>\n",
              "  </button>\n",
              "\n",
              "<style>\n",
              "  .colab-df-quickchart {\n",
              "      --bg-color: #E8F0FE;\n",
              "      --fill-color: #1967D2;\n",
              "      --hover-bg-color: #E2EBFA;\n",
              "      --hover-fill-color: #174EA6;\n",
              "      --disabled-fill-color: #AAA;\n",
              "      --disabled-bg-color: #DDD;\n",
              "  }\n",
              "\n",
              "  [theme=dark] .colab-df-quickchart {\n",
              "      --bg-color: #3B4455;\n",
              "      --fill-color: #D2E3FC;\n",
              "      --hover-bg-color: #434B5C;\n",
              "      --hover-fill-color: #FFFFFF;\n",
              "      --disabled-bg-color: #3B4455;\n",
              "      --disabled-fill-color: #666;\n",
              "  }\n",
              "\n",
              "  .colab-df-quickchart {\n",
              "    background-color: var(--bg-color);\n",
              "    border: none;\n",
              "    border-radius: 50%;\n",
              "    cursor: pointer;\n",
              "    display: none;\n",
              "    fill: var(--fill-color);\n",
              "    height: 32px;\n",
              "    padding: 0;\n",
              "    width: 32px;\n",
              "  }\n",
              "\n",
              "  .colab-df-quickchart:hover {\n",
              "    background-color: var(--hover-bg-color);\n",
              "    box-shadow: 0 1px 2px rgba(60, 64, 67, 0.3), 0 1px 3px 1px rgba(60, 64, 67, 0.15);\n",
              "    fill: var(--button-hover-fill-color);\n",
              "  }\n",
              "\n",
              "  .colab-df-quickchart-complete:disabled,\n",
              "  .colab-df-quickchart-complete:disabled:hover {\n",
              "    background-color: var(--disabled-bg-color);\n",
              "    fill: var(--disabled-fill-color);\n",
              "    box-shadow: none;\n",
              "  }\n",
              "\n",
              "  .colab-df-spinner {\n",
              "    border: 2px solid var(--fill-color);\n",
              "    border-color: transparent;\n",
              "    border-bottom-color: var(--fill-color);\n",
              "    animation:\n",
              "      spin 1s steps(1) infinite;\n",
              "  }\n",
              "\n",
              "  @keyframes spin {\n",
              "    0% {\n",
              "      border-color: transparent;\n",
              "      border-bottom-color: var(--fill-color);\n",
              "      border-left-color: var(--fill-color);\n",
              "    }\n",
              "    20% {\n",
              "      border-color: transparent;\n",
              "      border-left-color: var(--fill-color);\n",
              "      border-top-color: var(--fill-color);\n",
              "    }\n",
              "    30% {\n",
              "      border-color: transparent;\n",
              "      border-left-color: var(--fill-color);\n",
              "      border-top-color: var(--fill-color);\n",
              "      border-right-color: var(--fill-color);\n",
              "    }\n",
              "    40% {\n",
              "      border-color: transparent;\n",
              "      border-right-color: var(--fill-color);\n",
              "      border-top-color: var(--fill-color);\n",
              "    }\n",
              "    60% {\n",
              "      border-color: transparent;\n",
              "      border-right-color: var(--fill-color);\n",
              "    }\n",
              "    80% {\n",
              "      border-color: transparent;\n",
              "      border-right-color: var(--fill-color);\n",
              "      border-bottom-color: var(--fill-color);\n",
              "    }\n",
              "    90% {\n",
              "      border-color: transparent;\n",
              "      border-bottom-color: var(--fill-color);\n",
              "    }\n",
              "  }\n",
              "</style>\n",
              "\n",
              "  <script>\n",
              "    async function quickchart(key) {\n",
              "      const quickchartButtonEl =\n",
              "        document.querySelector('#' + key + ' button');\n",
              "      quickchartButtonEl.disabled = true;  // To prevent multiple clicks.\n",
              "      quickchartButtonEl.classList.add('colab-df-spinner');\n",
              "      try {\n",
              "        const charts = await google.colab.kernel.invokeFunction(\n",
              "            'suggestCharts', [key], {});\n",
              "      } catch (error) {\n",
              "        console.error('Error during call to suggestCharts:', error);\n",
              "      }\n",
              "      quickchartButtonEl.classList.remove('colab-df-spinner');\n",
              "      quickchartButtonEl.classList.add('colab-df-quickchart-complete');\n",
              "    }\n",
              "    (() => {\n",
              "      let quickchartButtonEl =\n",
              "        document.querySelector('#df-e575df83-29e5-43be-abd2-855a08753e69 button');\n",
              "      quickchartButtonEl.style.display =\n",
              "        google.colab.kernel.accessAllowed ? 'block' : 'none';\n",
              "    })();\n",
              "  </script>\n",
              "</div>\n",
              "    </div>\n",
              "  </div>\n"
            ]
          },
          "metadata": {},
          "execution_count": 25
        }
      ]
    },
    {
      "cell_type": "code",
      "source": [
        "df.headlines = df.headlines.apply(lambda x: f'_START_ {x} _END_')\n"
      ],
      "metadata": {
        "id": "gPgp4CG0l1F_"
      },
      "execution_count": null,
      "outputs": []
    },
    {
      "cell_type": "code",
      "source": [
        "start_token = 'sostok'\n",
        "end_token = 'eostok'\n",
        "df.headlines = df.headlines.apply(lambda x: f'{start_token} {x} {end_token}')"
      ],
      "metadata": {
        "id": "pG-PwcffmGdh"
      },
      "execution_count": null,
      "outputs": []
    },
    {
      "cell_type": "code",
      "source": [
        "df.sample(5)\n"
      ],
      "metadata": {
        "colab": {
          "base_uri": "https://localhost:8080/",
          "height": 206
        },
        "id": "Gs8hXsvZmJZI",
        "outputId": "b7173cdf-5473-4dd8-c703-f849b375930f"
      },
      "execution_count": null,
      "outputs": [
        {
          "output_type": "execute_result",
          "data": {
            "text/plain": [
              "                                               headlines  \\\n",
              "77962  sostok _START_ sushant praises exgirlfriend an...   \n",
              "37302  sostok _START_ shashi tharoor derek ofbrien ta...   \n",
              "74770  sostok _START_ man arrested shoving railway th...   \n",
              "36312  sostok _START_ snake longest python species la...   \n",
              "59627  sostok _START_ disagree mock others dignity pr...   \n",
              "\n",
              "                                                    text  \n",
              "77962  praising exgirlfriend ankita lokhandes look up...  \n",
              "37302  congress mp shashi tharoor tmc mp derek ofbrie...  \n",
              "74770  man arrested shoving yearold cleaner onto trai...  \n",
              "36312  reticulated python longest snake species world...  \n",
              "59627  addressing nation eve republic day president r...  "
            ],
            "text/html": [
              "\n",
              "  <div id=\"df-ad176152-dfe5-42dc-9a2a-f428949ba7e8\" class=\"colab-df-container\">\n",
              "    <div>\n",
              "<style scoped>\n",
              "    .dataframe tbody tr th:only-of-type {\n",
              "        vertical-align: middle;\n",
              "    }\n",
              "\n",
              "    .dataframe tbody tr th {\n",
              "        vertical-align: top;\n",
              "    }\n",
              "\n",
              "    .dataframe thead th {\n",
              "        text-align: right;\n",
              "    }\n",
              "</style>\n",
              "<table border=\"1\" class=\"dataframe\">\n",
              "  <thead>\n",
              "    <tr style=\"text-align: right;\">\n",
              "      <th></th>\n",
              "      <th>headlines</th>\n",
              "      <th>text</th>\n",
              "    </tr>\n",
              "  </thead>\n",
              "  <tbody>\n",
              "    <tr>\n",
              "      <th>77962</th>\n",
              "      <td>sostok _START_ sushant praises exgirlfriend an...</td>\n",
              "      <td>praising exgirlfriend ankita lokhandes look up...</td>\n",
              "    </tr>\n",
              "    <tr>\n",
              "      <th>37302</th>\n",
              "      <td>sostok _START_ shashi tharoor derek ofbrien ta...</td>\n",
              "      <td>congress mp shashi tharoor tmc mp derek ofbrie...</td>\n",
              "    </tr>\n",
              "    <tr>\n",
              "      <th>74770</th>\n",
              "      <td>sostok _START_ man arrested shoving railway th...</td>\n",
              "      <td>man arrested shoving yearold cleaner onto trai...</td>\n",
              "    </tr>\n",
              "    <tr>\n",
              "      <th>36312</th>\n",
              "      <td>sostok _START_ snake longest python species la...</td>\n",
              "      <td>reticulated python longest snake species world...</td>\n",
              "    </tr>\n",
              "    <tr>\n",
              "      <th>59627</th>\n",
              "      <td>sostok _START_ disagree mock others dignity pr...</td>\n",
              "      <td>addressing nation eve republic day president r...</td>\n",
              "    </tr>\n",
              "  </tbody>\n",
              "</table>\n",
              "</div>\n",
              "    <div class=\"colab-df-buttons\">\n",
              "\n",
              "  <div class=\"colab-df-container\">\n",
              "    <button class=\"colab-df-convert\" onclick=\"convertToInteractive('df-ad176152-dfe5-42dc-9a2a-f428949ba7e8')\"\n",
              "            title=\"Convert this dataframe to an interactive table.\"\n",
              "            style=\"display:none;\">\n",
              "\n",
              "  <svg xmlns=\"http://www.w3.org/2000/svg\" height=\"24px\" viewBox=\"0 -960 960 960\">\n",
              "    <path d=\"M120-120v-720h720v720H120Zm60-500h600v-160H180v160Zm220 220h160v-160H400v160Zm0 220h160v-160H400v160ZM180-400h160v-160H180v160Zm440 0h160v-160H620v160ZM180-180h160v-160H180v160Zm440 0h160v-160H620v160Z\"/>\n",
              "  </svg>\n",
              "    </button>\n",
              "\n",
              "  <style>\n",
              "    .colab-df-container {\n",
              "      display:flex;\n",
              "      gap: 12px;\n",
              "    }\n",
              "\n",
              "    .colab-df-convert {\n",
              "      background-color: #E8F0FE;\n",
              "      border: none;\n",
              "      border-radius: 50%;\n",
              "      cursor: pointer;\n",
              "      display: none;\n",
              "      fill: #1967D2;\n",
              "      height: 32px;\n",
              "      padding: 0 0 0 0;\n",
              "      width: 32px;\n",
              "    }\n",
              "\n",
              "    .colab-df-convert:hover {\n",
              "      background-color: #E2EBFA;\n",
              "      box-shadow: 0px 1px 2px rgba(60, 64, 67, 0.3), 0px 1px 3px 1px rgba(60, 64, 67, 0.15);\n",
              "      fill: #174EA6;\n",
              "    }\n",
              "\n",
              "    .colab-df-buttons div {\n",
              "      margin-bottom: 4px;\n",
              "    }\n",
              "\n",
              "    [theme=dark] .colab-df-convert {\n",
              "      background-color: #3B4455;\n",
              "      fill: #D2E3FC;\n",
              "    }\n",
              "\n",
              "    [theme=dark] .colab-df-convert:hover {\n",
              "      background-color: #434B5C;\n",
              "      box-shadow: 0px 1px 3px 1px rgba(0, 0, 0, 0.15);\n",
              "      filter: drop-shadow(0px 1px 2px rgba(0, 0, 0, 0.3));\n",
              "      fill: #FFFFFF;\n",
              "    }\n",
              "  </style>\n",
              "\n",
              "    <script>\n",
              "      const buttonEl =\n",
              "        document.querySelector('#df-ad176152-dfe5-42dc-9a2a-f428949ba7e8 button.colab-df-convert');\n",
              "      buttonEl.style.display =\n",
              "        google.colab.kernel.accessAllowed ? 'block' : 'none';\n",
              "\n",
              "      async function convertToInteractive(key) {\n",
              "        const element = document.querySelector('#df-ad176152-dfe5-42dc-9a2a-f428949ba7e8');\n",
              "        const dataTable =\n",
              "          await google.colab.kernel.invokeFunction('convertToInteractive',\n",
              "                                                    [key], {});\n",
              "        if (!dataTable) return;\n",
              "\n",
              "        const docLinkHtml = 'Like what you see? Visit the ' +\n",
              "          '<a target=\"_blank\" href=https://colab.research.google.com/notebooks/data_table.ipynb>data table notebook</a>'\n",
              "          + ' to learn more about interactive tables.';\n",
              "        element.innerHTML = '';\n",
              "        dataTable['output_type'] = 'display_data';\n",
              "        await google.colab.output.renderOutput(dataTable, element);\n",
              "        const docLink = document.createElement('div');\n",
              "        docLink.innerHTML = docLinkHtml;\n",
              "        element.appendChild(docLink);\n",
              "      }\n",
              "    </script>\n",
              "  </div>\n",
              "\n",
              "\n",
              "<div id=\"df-5e7fb1e3-8e95-4d4b-8f94-82b51d415c5c\">\n",
              "  <button class=\"colab-df-quickchart\" onclick=\"quickchart('df-5e7fb1e3-8e95-4d4b-8f94-82b51d415c5c')\"\n",
              "            title=\"Suggest charts\"\n",
              "            style=\"display:none;\">\n",
              "\n",
              "<svg xmlns=\"http://www.w3.org/2000/svg\" height=\"24px\"viewBox=\"0 0 24 24\"\n",
              "     width=\"24px\">\n",
              "    <g>\n",
              "        <path d=\"M19 3H5c-1.1 0-2 .9-2 2v14c0 1.1.9 2 2 2h14c1.1 0 2-.9 2-2V5c0-1.1-.9-2-2-2zM9 17H7v-7h2v7zm4 0h-2V7h2v10zm4 0h-2v-4h2v4z\"/>\n",
              "    </g>\n",
              "</svg>\n",
              "  </button>\n",
              "\n",
              "<style>\n",
              "  .colab-df-quickchart {\n",
              "      --bg-color: #E8F0FE;\n",
              "      --fill-color: #1967D2;\n",
              "      --hover-bg-color: #E2EBFA;\n",
              "      --hover-fill-color: #174EA6;\n",
              "      --disabled-fill-color: #AAA;\n",
              "      --disabled-bg-color: #DDD;\n",
              "  }\n",
              "\n",
              "  [theme=dark] .colab-df-quickchart {\n",
              "      --bg-color: #3B4455;\n",
              "      --fill-color: #D2E3FC;\n",
              "      --hover-bg-color: #434B5C;\n",
              "      --hover-fill-color: #FFFFFF;\n",
              "      --disabled-bg-color: #3B4455;\n",
              "      --disabled-fill-color: #666;\n",
              "  }\n",
              "\n",
              "  .colab-df-quickchart {\n",
              "    background-color: var(--bg-color);\n",
              "    border: none;\n",
              "    border-radius: 50%;\n",
              "    cursor: pointer;\n",
              "    display: none;\n",
              "    fill: var(--fill-color);\n",
              "    height: 32px;\n",
              "    padding: 0;\n",
              "    width: 32px;\n",
              "  }\n",
              "\n",
              "  .colab-df-quickchart:hover {\n",
              "    background-color: var(--hover-bg-color);\n",
              "    box-shadow: 0 1px 2px rgba(60, 64, 67, 0.3), 0 1px 3px 1px rgba(60, 64, 67, 0.15);\n",
              "    fill: var(--button-hover-fill-color);\n",
              "  }\n",
              "\n",
              "  .colab-df-quickchart-complete:disabled,\n",
              "  .colab-df-quickchart-complete:disabled:hover {\n",
              "    background-color: var(--disabled-bg-color);\n",
              "    fill: var(--disabled-fill-color);\n",
              "    box-shadow: none;\n",
              "  }\n",
              "\n",
              "  .colab-df-spinner {\n",
              "    border: 2px solid var(--fill-color);\n",
              "    border-color: transparent;\n",
              "    border-bottom-color: var(--fill-color);\n",
              "    animation:\n",
              "      spin 1s steps(1) infinite;\n",
              "  }\n",
              "\n",
              "  @keyframes spin {\n",
              "    0% {\n",
              "      border-color: transparent;\n",
              "      border-bottom-color: var(--fill-color);\n",
              "      border-left-color: var(--fill-color);\n",
              "    }\n",
              "    20% {\n",
              "      border-color: transparent;\n",
              "      border-left-color: var(--fill-color);\n",
              "      border-top-color: var(--fill-color);\n",
              "    }\n",
              "    30% {\n",
              "      border-color: transparent;\n",
              "      border-left-color: var(--fill-color);\n",
              "      border-top-color: var(--fill-color);\n",
              "      border-right-color: var(--fill-color);\n",
              "    }\n",
              "    40% {\n",
              "      border-color: transparent;\n",
              "      border-right-color: var(--fill-color);\n",
              "      border-top-color: var(--fill-color);\n",
              "    }\n",
              "    60% {\n",
              "      border-color: transparent;\n",
              "      border-right-color: var(--fill-color);\n",
              "    }\n",
              "    80% {\n",
              "      border-color: transparent;\n",
              "      border-right-color: var(--fill-color);\n",
              "      border-bottom-color: var(--fill-color);\n",
              "    }\n",
              "    90% {\n",
              "      border-color: transparent;\n",
              "      border-bottom-color: var(--fill-color);\n",
              "    }\n",
              "  }\n",
              "</style>\n",
              "\n",
              "  <script>\n",
              "    async function quickchart(key) {\n",
              "      const quickchartButtonEl =\n",
              "        document.querySelector('#' + key + ' button');\n",
              "      quickchartButtonEl.disabled = true;  // To prevent multiple clicks.\n",
              "      quickchartButtonEl.classList.add('colab-df-spinner');\n",
              "      try {\n",
              "        const charts = await google.colab.kernel.invokeFunction(\n",
              "            'suggestCharts', [key], {});\n",
              "      } catch (error) {\n",
              "        console.error('Error during call to suggestCharts:', error);\n",
              "      }\n",
              "      quickchartButtonEl.classList.remove('colab-df-spinner');\n",
              "      quickchartButtonEl.classList.add('colab-df-quickchart-complete');\n",
              "    }\n",
              "    (() => {\n",
              "      let quickchartButtonEl =\n",
              "        document.querySelector('#df-5e7fb1e3-8e95-4d4b-8f94-82b51d415c5c button');\n",
              "      quickchartButtonEl.style.display =\n",
              "        google.colab.kernel.accessAllowed ? 'block' : 'none';\n",
              "    })();\n",
              "  </script>\n",
              "</div>\n",
              "    </div>\n",
              "  </div>\n"
            ]
          },
          "metadata": {},
          "execution_count": 28
        }
      ]
    },
    {
      "cell_type": "code",
      "source": [
        "text_count = [len(sentence.split()) for sentence in df.text]\n",
        "headlines_count = [len(sentence.split()) for sentence in df.headlines]\n",
        "\n",
        "pd.DataFrame({'text': text_count, 'headlines': headlines_count}).hist(bins=100, figsize=(16, 4), range=[0, 50])\n",
        "plt.show()"
      ],
      "metadata": {
        "colab": {
          "base_uri": "https://localhost:8080/",
          "height": 286
        },
        "id": "PMi2z9-RmL13",
        "outputId": "88a2fce6-c9eb-43f9-864d-f09e737cd02d"
      },
      "execution_count": null,
      "outputs": [
        {
          "output_type": "display_data",
          "data": {
            "text/plain": [
              "<Figure size 1600x400 with 2 Axes>"
            ],
            "image/png": "[encoded data removed]"
          },
          "metadata": {}
        }
      ]
    },
    {
      "cell_type": "code",
      "source": [
        "# To check how many rows in a column has length (of the text) <= limit\n",
        "def get_word_percent(column, limit):\n",
        "    count = 0\n",
        "    for sentence in column:\n",
        "        if len(sentence.split()) <= limit:\n",
        "            count += 1\n",
        "\n",
        "    return round(count / len(column), 2)\n",
        "\n",
        "\n",
        "# Check how many % of headlines have 0-13 words\n",
        "print(get_word_percent(df.headlines, 13))\n",
        "\n",
        "# Check how many % of summary have 0-42 words\n",
        "print(get_word_percent(df.text, 42))"
      ],
      "metadata": {
        "colab": {
          "base_uri": "https://localhost:8080/"
        },
        "id": "7kGzueKXmPYu",
        "outputId": "0bdc8c5c-af9d-4920-851d-9ec8e4634bae"
      },
      "execution_count": null,
      "outputs": [
        {
          "output_type": "stream",
          "name": "stdout",
          "text": [
            "0.99\n",
            "0.99\n"
          ]
        }
      ]
    },
    {
      "cell_type": "code",
      "source": [
        "max_text_len = 42\n",
        "max_summary_len = 13"
      ],
      "metadata": {
        "id": "pAEuX1gQmU75"
      },
      "execution_count": null,
      "outputs": []
    },
    {
      "cell_type": "code",
      "source": [
        "# select the summary and text between their defined max lens respectively\n",
        "def trim_text_and_summary(df, max_text_len, max_summary_len):\n",
        "    cleaned_text = np.array(df['text'])\n",
        "    cleaned_summary = np.array(df['headlines'])\n",
        "\n",
        "    short_text = []\n",
        "    short_summary = []\n",
        "\n",
        "    for i in range(len(cleaned_text)):\n",
        "        if len(cleaned_text[i].split()) <= max_text_len and len(\n",
        "            cleaned_summary[i].split()\n",
        "        ) <= max_summary_len:\n",
        "            short_text.append(cleaned_text[i])\n",
        "            short_summary.append(cleaned_summary[i])\n",
        "\n",
        "    df = pd.DataFrame({'text': short_text, 'summary': short_summary})\n",
        "    return df\n",
        "\n",
        "\n",
        "df = trim_text_and_summary(df, max_text_len, max_summary_len)\n",
        "print(f'Dataset size: {len(df)}')\n",
        "df.sample(5)"
      ],
      "metadata": {
        "colab": {
          "base_uri": "https://localhost:8080/",
          "height": 224
        },
        "id": "oOtIzS-Zmbjz",
        "outputId": "824a381a-c7d1-42d4-b4c1-bcb3f5d61f9f"
      },
      "execution_count": null,
      "outputs": [
        {
          "output_type": "stream",
          "name": "stdout",
          "text": [
            "Dataset size: 100258\n"
          ]
        },
        {
          "output_type": "execute_result",
          "data": {
            "text/plain": [
              "                                                    text  \\\n",
              "36064  us president donald trump announced support le...   \n",
              "90906  people rent luxury hotel rooms minute new york...   \n",
              "89394  official twitter account county championship s...   \n",
              "29591  pakistani actress mahira khan said completely ...   \n",
              "40779  replying shah rukh khans tweet film baazigar c...   \n",
              "\n",
              "                                                 summary  \n",
              "36064  sostok _START_ trumps new immigration policy f...  \n",
              "90906  sostok _START_ people rent hotel rooms minute ...  \n",
              "89394  sostok _START_ county calls keeper crickets de...  \n",
              "29591  sostok _START_ shattered broken mahira pic ran...  \n",
              "40779  sostok _START_ kaali kaali aankhen ipl srk roh...  "
            ],
            "text/html": [
              "\n",
              "  <div id=\"df-3a100e1f-46c1-4b29-90ed-e98b6e1be2c4\" class=\"colab-df-container\">\n",
              "    <div>\n",
              "<style scoped>\n",
              "    .dataframe tbody tr th:only-of-type {\n",
              "        vertical-align: middle;\n",
              "    }\n",
              "\n",
              "    .dataframe tbody tr th {\n",
              "        vertical-align: top;\n",
              "    }\n",
              "\n",
              "    .dataframe thead th {\n",
              "        text-align: right;\n",
              "    }\n",
              "</style>\n",
              "<table border=\"1\" class=\"dataframe\">\n",
              "  <thead>\n",
              "    <tr style=\"text-align: right;\">\n",
              "      <th></th>\n",
              "      <th>text</th>\n",
              "      <th>summary</th>\n",
              "    </tr>\n",
              "  </thead>\n",
              "  <tbody>\n",
              "    <tr>\n",
              "      <th>36064</th>\n",
              "      <td>us president donald trump announced support le...</td>\n",
              "      <td>sostok _START_ trumps new immigration policy f...</td>\n",
              "    </tr>\n",
              "    <tr>\n",
              "      <th>90906</th>\n",
              "      <td>people rent luxury hotel rooms minute new york...</td>\n",
              "      <td>sostok _START_ people rent hotel rooms minute ...</td>\n",
              "    </tr>\n",
              "    <tr>\n",
              "      <th>89394</th>\n",
              "      <td>official twitter account county championship s...</td>\n",
              "      <td>sostok _START_ county calls keeper crickets de...</td>\n",
              "    </tr>\n",
              "    <tr>\n",
              "      <th>29591</th>\n",
              "      <td>pakistani actress mahira khan said completely ...</td>\n",
              "      <td>sostok _START_ shattered broken mahira pic ran...</td>\n",
              "    </tr>\n",
              "    <tr>\n",
              "      <th>40779</th>\n",
              "      <td>replying shah rukh khans tweet film baazigar c...</td>\n",
              "      <td>sostok _START_ kaali kaali aankhen ipl srk roh...</td>\n",
              "    </tr>\n",
              "  </tbody>\n",
              "</table>\n",
              "</div>\n",
              "    <div class=\"colab-df-buttons\">\n",
              "\n",
              "  <div class=\"colab-df-container\">\n",
              "    <button class=\"colab-df-convert\" onclick=\"convertToInteractive('df-3a100e1f-46c1-4b29-90ed-e98b6e1be2c4')\"\n",
              "            title=\"Convert this dataframe to an interactive table.\"\n",
              "            style=\"display:none;\">\n",
              "\n",
              "  <svg xmlns=\"http://www.w3.org/2000/svg\" height=\"24px\" viewBox=\"0 -960 960 960\">\n",
              "    <path d=\"M120-120v-720h720v720H120Zm60-500h600v-160H180v160Zm220 220h160v-160H400v160Zm0 220h160v-160H400v160ZM180-400h160v-160H180v160Zm440 0h160v-160H620v160ZM180-180h160v-160H180v160Zm440 0h160v-160H620v160Z\"/>\n",
              "  </svg>\n",
              "    </button>\n",
              "\n",
              "  <style>\n",
              "    .colab-df-container {\n",
              "      display:flex;\n",
              "      gap: 12px;\n",
              "    }\n",
              "\n",
              "    .colab-df-convert {\n",
              "      background-color: #E8F0FE;\n",
              "      border: none;\n",
              "      border-radius: 50%;\n",
              "      cursor: pointer;\n",
              "      display: none;\n",
              "      fill: #1967D2;\n",
              "      height: 32px;\n",
              "      padding: 0 0 0 0;\n",
              "      width: 32px;\n",
              "    }\n",
              "\n",
              "    .colab-df-convert:hover {\n",
              "      background-color: #E2EBFA;\n",
              "      box-shadow: 0px 1px 2px rgba(60, 64, 67, 0.3), 0px 1px 3px 1px rgba(60, 64, 67, 0.15);\n",
              "      fill: #174EA6;\n",
              "    }\n",
              "\n",
              "    .colab-df-buttons div {\n",
              "      margin-bottom: 4px;\n",
              "    }\n",
              "\n",
              "    [theme=dark] .colab-df-convert {\n",
              "      background-color: #3B4455;\n",
              "      fill: #D2E3FC;\n",
              "    }\n",
              "\n",
              "    [theme=dark] .colab-df-convert:hover {\n",
              "      background-color: #434B5C;\n",
              "      box-shadow: 0px 1px 3px 1px rgba(0, 0, 0, 0.15);\n",
              "      filter: drop-shadow(0px 1px 2px rgba(0, 0, 0, 0.3));\n",
              "      fill: #FFFFFF;\n",
              "    }\n",
              "  </style>\n",
              "\n",
              "    <script>\n",
              "      const buttonEl =\n",
              "        document.querySelector('#df-3a100e1f-46c1-4b29-90ed-e98b6e1be2c4 button.colab-df-convert');\n",
              "      buttonEl.style.display =\n",
              "        google.colab.kernel.accessAllowed ? 'block' : 'none';\n",
              "\n",
              "      async function convertToInteractive(key) {\n",
              "        const element = document.querySelector('#df-3a100e1f-46c1-4b29-90ed-e98b6e1be2c4');\n",
              "        const dataTable =\n",
              "          await google.colab.kernel.invokeFunction('convertToInteractive',\n",
              "                                                    [key], {});\n",
              "        if (!dataTable) return;\n",
              "\n",
              "        const docLinkHtml = 'Like what you see? Visit the ' +\n",
              "          '<a target=\"_blank\" href=https://colab.research.google.com/notebooks/data_table.ipynb>data table notebook</a>'\n",
              "          + ' to learn more about interactive tables.';\n",
              "        element.innerHTML = '';\n",
              "        dataTable['output_type'] = 'display_data';\n",
              "        await google.colab.output.renderOutput(dataTable, element);\n",
              "        const docLink = document.createElement('div');\n",
              "        docLink.innerHTML = docLinkHtml;\n",
              "        element.appendChild(docLink);\n",
              "      }\n",
              "    </script>\n",
              "  </div>\n",
              "\n",
              "\n",
              "<div id=\"df-5d68bb6f-9403-4c0d-890f-96053704bc14\">\n",
              "  <button class=\"colab-df-quickchart\" onclick=\"quickchart('df-5d68bb6f-9403-4c0d-890f-96053704bc14')\"\n",
              "            title=\"Suggest charts\"\n",
              "            style=\"display:none;\">\n",
              "\n",
              "<svg xmlns=\"http://www.w3.org/2000/svg\" height=\"24px\"viewBox=\"0 0 24 24\"\n",
              "     width=\"24px\">\n",
              "    <g>\n",
              "        <path d=\"M19 3H5c-1.1 0-2 .9-2 2v14c0 1.1.9 2 2 2h14c1.1 0 2-.9 2-2V5c0-1.1-.9-2-2-2zM9 17H7v-7h2v7zm4 0h-2V7h2v10zm4 0h-2v-4h2v4z\"/>\n",
              "    </g>\n",
              "</svg>\n",
              "  </button>\n",
              "\n",
              "<style>\n",
              "  .colab-df-quickchart {\n",
              "      --bg-color: #E8F0FE;\n",
              "      --fill-color: #1967D2;\n",
              "      --hover-bg-color: #E2EBFA;\n",
              "      --hover-fill-color: #174EA6;\n",
              "      --disabled-fill-color: #AAA;\n",
              "      --disabled-bg-color: #DDD;\n",
              "  }\n",
              "\n",
              "  [theme=dark] .colab-df-quickchart {\n",
              "      --bg-color: #3B4455;\n",
              "      --fill-color: #D2E3FC;\n",
              "      --hover-bg-color: #434B5C;\n",
              "      --hover-fill-color: #FFFFFF;\n",
              "      --disabled-bg-color: #3B4455;\n",
              "      --disabled-fill-color: #666;\n",
              "  }\n",
              "\n",
              "  .colab-df-quickchart {\n",
              "    background-color: var(--bg-color);\n",
              "    border: none;\n",
              "    border-radius: 50%;\n",
              "    cursor: pointer;\n",
              "    display: none;\n",
              "    fill: var(--fill-color);\n",
              "    height: 32px;\n",
              "    padding: 0;\n",
              "    width: 32px;\n",
              "  }\n",
              "\n",
              "  .colab-df-quickchart:hover {\n",
              "    background-color: var(--hover-bg-color);\n",
              "    box-shadow: 0 1px 2px rgba(60, 64, 67, 0.3), 0 1px 3px 1px rgba(60, 64, 67, 0.15);\n",
              "    fill: var(--button-hover-fill-color);\n",
              "  }\n",
              "\n",
              "  .colab-df-quickchart-complete:disabled,\n",
              "  .colab-df-quickchart-complete:disabled:hover {\n",
              "    background-color: var(--disabled-bg-color);\n",
              "    fill: var(--disabled-fill-color);\n",
              "    box-shadow: none;\n",
              "  }\n",
              "\n",
              "  .colab-df-spinner {\n",
              "    border: 2px solid var(--fill-color);\n",
              "    border-color: transparent;\n",
              "    border-bottom-color: var(--fill-color);\n",
              "    animation:\n",
              "      spin 1s steps(1) infinite;\n",
              "  }\n",
              "\n",
              "  @keyframes spin {\n",
              "    0% {\n",
              "      border-color: transparent;\n",
              "      border-bottom-color: var(--fill-color);\n",
              "      border-left-color: var(--fill-color);\n",
              "    }\n",
              "    20% {\n",
              "      border-color: transparent;\n",
              "      border-left-color: var(--fill-color);\n",
              "      border-top-color: var(--fill-color);\n",
              "    }\n",
              "    30% {\n",
              "      border-color: transparent;\n",
              "      border-left-color: var(--fill-color);\n",
              "      border-top-color: var(--fill-color);\n",
              "      border-right-color: var(--fill-color);\n",
              "    }\n",
              "    40% {\n",
              "      border-color: transparent;\n",
              "      border-right-color: var(--fill-color);\n",
              "      border-top-color: var(--fill-color);\n",
              "    }\n",
              "    60% {\n",
              "      border-color: transparent;\n",
              "      border-right-color: var(--fill-color);\n",
              "    }\n",
              "    80% {\n",
              "      border-color: transparent;\n",
              "      border-right-color: var(--fill-color);\n",
              "      border-bottom-color: var(--fill-color);\n",
              "    }\n",
              "    90% {\n",
              "      border-color: transparent;\n",
              "      border-bottom-color: var(--fill-color);\n",
              "    }\n",
              "  }\n",
              "</style>\n",
              "\n",
              "  <script>\n",
              "    async function quickchart(key) {\n",
              "      const quickchartButtonEl =\n",
              "        document.querySelector('#' + key + ' button');\n",
              "      quickchartButtonEl.disabled = true;  // To prevent multiple clicks.\n",
              "      quickchartButtonEl.classList.add('colab-df-spinner');\n",
              "      try {\n",
              "        const charts = await google.colab.kernel.invokeFunction(\n",
              "            'suggestCharts', [key], {});\n",
              "      } catch (error) {\n",
              "        console.error('Error during call to suggestCharts:', error);\n",
              "      }\n",
              "      quickchartButtonEl.classList.remove('colab-df-spinner');\n",
              "      quickchartButtonEl.classList.add('colab-df-quickchart-complete');\n",
              "    }\n",
              "    (() => {\n",
              "      let quickchartButtonEl =\n",
              "        document.querySelector('#df-5d68bb6f-9403-4c0d-890f-96053704bc14 button');\n",
              "      quickchartButtonEl.style.display =\n",
              "        google.colab.kernel.accessAllowed ? 'block' : 'none';\n",
              "    })();\n",
              "  </script>\n",
              "</div>\n",
              "    </div>\n",
              "  </div>\n"
            ]
          },
          "metadata": {},
          "execution_count": 32
        }
      ]
    },
    {
      "cell_type": "code",
      "source": [
        "# rare word analysis\n",
        "def get_rare_word_percent(tokenizer, threshold):\n",
        "    # threshold: if the word's occurrence is less than this then it's rare word\n",
        "\n",
        "    count = 0\n",
        "    total_count = 0\n",
        "    frequency = 0\n",
        "    total_frequency = 0\n",
        "\n",
        "    for key, value in tokenizer.word_counts.items():\n",
        "        total_count += 1\n",
        "        total_frequency += value\n",
        "        if value < threshold:\n",
        "            count += 1\n",
        "            frequency += value\n",
        "\n",
        "    return {\n",
        "        'percent': round((count / total_count) * 100, 2),\n",
        "        'total_coverage': round(frequency / total_frequency * 100, 2),\n",
        "        'count': count,\n",
        "        'total_count': total_count\n",
        "    }"
      ],
      "metadata": {
        "id": "zB_oCESgmfd1"
      },
      "execution_count": null,
      "outputs": []
    },
    {
      "cell_type": "code",
      "source": [
        "# Splitting the training and validation sets\n",
        "x_train, x_val, y_train, y_val = train_test_split(\n",
        "    np.array(df['text']),\n",
        "    np.array(df['summary']),\n",
        "    test_size=0.1,\n",
        "    random_state=1,\n",
        "    shuffle=True\n",
        ")"
      ],
      "metadata": {
        "id": "9NI23czcmlX3"
      },
      "execution_count": null,
      "outputs": []
    },
    {
      "cell_type": "code",
      "source": [
        "df['text'][0]"
      ],
      "metadata": {
        "colab": {
          "base_uri": "https://localhost:8080/",
          "height": 70
        },
        "id": "VLmylEJZe_Xq",
        "outputId": "3167d9d5-f1a4-4cd2-967d-f45a20df64ac"
      },
      "execution_count": null,
      "outputs": [
        {
          "output_type": "execute_result",
          "data": {
            "text/plain": [
              "'world health organisation warned enough antibiotics developed tackle crisis drugresistant infections kill seven lakh people per year globally report highlights multidrugresistant tuberculosis patients successfully treated two new antibiotics reached et years'"
            ],
            "application/vnd.google.colaboratory.intrinsic+json": {
              "type": "string"
            }
          },
          "metadata": {},
          "execution_count": 35
        }
      ]
    },
    {
      "cell_type": "code",
      "source": [
        "given=x_val[0:1]"
      ],
      "metadata": {
        "id": "qFXrEeNUhyvD"
      },
      "execution_count": null,
      "outputs": []
    },
    {
      "cell_type": "code",
      "source": [
        "print(x_val[0])\n",
        "given[0]=\"cricket match hinckley amateur thirds hathern old seconds swallows green hinckley leicestershire halted macaw landed shoulders sexagenarian fielder hathern old seconds innings stop game bird big enough take someone finger batting sides captain said\"\n",
        "print(type(given))"
      ],
      "metadata": {
        "colab": {
          "base_uri": "https://localhost:8080/"
        },
        "id": "MNZLCmtBEH1A",
        "outputId": "83aaba3a-2262-46b5-b2f5-e716dbdbb117"
      },
      "execution_count": null,
      "outputs": [
        {
          "output_type": "stream",
          "name": "stdout",
          "text": [
            "least tourists including foreigners usa singapore oman saudi arabia russia uae trapped resort thursday landslide near munnar kerala following heavy showers third time landslide occurred near resort closed twice earlier located environmentallyfragile area\n",
            "<class 'numpy.ndarray'>\n"
          ]
        }
      ]
    },
    {
      "cell_type": "code",
      "source": [
        "x_tokenizer = Tokenizer()\n",
        "x_tokenizer.fit_on_texts(list(x_train))\n",
        "\n",
        "x_tokens_data = get_rare_word_percent(x_tokenizer, 4)\n",
        "print(x_tokens_data)"
      ],
      "metadata": {
        "colab": {
          "base_uri": "https://localhost:8080/"
        },
        "id": "uYAUu4CzmoAl",
        "outputId": "a9e5c081-d853-4844-c08e-19fe49ec0f51"
      },
      "execution_count": null,
      "outputs": [
        {
          "output_type": "stream",
          "name": "stdout",
          "text": [
            "{'percent': 65.39, 'total_coverage': 2.96, 'count': 65317, 'total_count': 99887}\n"
          ]
        }
      ]
    },
    {
      "cell_type": "code",
      "source": [
        "test_tokenizer = Tokenizer()\n",
        "test_tokenizer.fit_on_texts(list(x_train))\n",
        "\n",
        "x_tokens_data = get_rare_word_percent(x_tokenizer, 4)"
      ],
      "metadata": {
        "id": "b9c8leWZGh8r"
      },
      "execution_count": null,
      "outputs": []
    },
    {
      "cell_type": "code",
      "source": [
        "test1_tokenizer=Tokenizer()\n",
        "test1_tokenizer.fit_on_texts(test1)"
      ],
      "metadata": {
        "id": "O33ZRFb9EtY_"
      },
      "execution_count": null,
      "outputs": []
    },
    {
      "cell_type": "code",
      "source": [
        "# x_tokenizer = Tokenizer(num_words=x_tokens_data['total_count'] - x_tokens_data['count'])"
      ],
      "metadata": {
        "id": "toV1zIs3mqHw"
      },
      "execution_count": null,
      "outputs": []
    },
    {
      "cell_type": "code",
      "source": [
        "# save tokenizer\n",
        "with open('x_tokenizer', 'wb') as f:\n",
        "    pickle.dump(x_tokenizer, f, protocol=pickle.HIGHEST_PROTOCOL)"
      ],
      "metadata": {
        "id": "RvZC9CDPmzpl"
      },
      "execution_count": null,
      "outputs": []
    },
    {
      "cell_type": "code",
      "source": [
        "# one-hot-encoding\n",
        "x_train_sequence = x_tokenizer.texts_to_sequences(x_train)\n",
        "x_val_sequence = x_tokenizer.texts_to_sequences(x_val)\n",
        "\n",
        "# padding upto max_text_len\n",
        "x_train_padded = pad_sequences(x_train_sequence, maxlen=max_text_len, padding='post')\n",
        "x_val_padded = pad_sequences(x_val_sequence, maxlen=max_text_len, padding='post')\n",
        "\n",
        "# if you're not using num_words parameter in Tokenizer then use this\n",
        "x_vocab_size = len(x_tokenizer.word_index) + 1\n",
        "\n",
        "# else use this\n",
        "# x_vocab_size = x_tokenizer.num_words + 1\n",
        "\n",
        "print(x_vocab_size)"
      ],
      "metadata": {
        "colab": {
          "base_uri": "https://localhost:8080/"
        },
        "id": "Z3lF_TnGm238",
        "outputId": "185f60bf-0c2b-4b9d-9f5c-d9d968bdce6f"
      },
      "execution_count": null,
      "outputs": [
        {
          "output_type": "stream",
          "name": "stdout",
          "text": [
            "99888\n"
          ]
        }
      ]
    },
    {
      "cell_type": "code",
      "source": [
        "given_sequence=x_tokenizer.texts_to_sequences(given)\n",
        "given_padded=pad_sequences(given_sequence, maxlen=max_text_len, padding='post')"
      ],
      "metadata": {
        "id": "hdaMFaBFK8mS"
      },
      "execution_count": null,
      "outputs": []
    },
    {
      "cell_type": "code",
      "source": [
        "print(type(x_val_padded))\n",
        "print(type(given_padded))"
      ],
      "metadata": {
        "colab": {
          "base_uri": "https://localhost:8080/"
        },
        "id": "FgNHJ5lHLLDS",
        "outputId": "0c67f921-4704-48a4-98d1-8987cada8b26"
      },
      "execution_count": null,
      "outputs": [
        {
          "output_type": "stream",
          "name": "stdout",
          "text": [
            "<class 'numpy.ndarray'>\n",
            "<class 'numpy.ndarray'>\n"
          ]
        }
      ]
    },
    {
      "cell_type": "code",
      "source": [
        "print(x_train_sequence[0])"
      ],
      "metadata": {
        "colab": {
          "base_uri": "https://localhost:8080/"
        },
        "id": "ZzqafamgGKYC",
        "outputId": "5d5a7a5f-66a6-42f2-9ee0-eb9db4467b18"
      },
      "execution_count": null,
      "outputs": [
        {
          "output_type": "stream",
          "name": "stdout",
          "text": [
            "[14, 466, 5768, 303, 1377, 3636, 3608, 10079, 36, 16485, 2086, 4733, 491, 6218, 8118, 20, 1275, 22018, 54998, 70, 3609, 466, 225, 20, 3608, 900, 18666, 135, 36, 809, 2127, 2372, 18667]\n"
          ]
        }
      ]
    },
    {
      "cell_type": "code",
      "source": [
        "y_tokenizer = Tokenizer()\n",
        "y_tokenizer.fit_on_texts(list(y_train))\n",
        "\n",
        "y_tokens_data = get_rare_word_percent(y_tokenizer, 6)\n",
        "print(y_tokens_data)"
      ],
      "metadata": {
        "colab": {
          "base_uri": "https://localhost:8080/"
        },
        "id": "vJZeLKM_m7ye",
        "outputId": "163b8708-9d87-42df-c414-0cc054a0ea17"
      },
      "execution_count": null,
      "outputs": [
        {
          "output_type": "stream",
          "name": "stdout",
          "text": [
            "{'percent': 69.13, 'total_coverage': 4.79, 'count': 25865, 'total_count': 37413}\n"
          ]
        }
      ]
    },
    {
      "cell_type": "code",
      "source": [
        "# y_tokenizer = Tokenizer(num_words=y_tokens_data['total_count'] - y_tokens_data['count'])"
      ],
      "metadata": {
        "id": "bIgBIqORnUeL"
      },
      "execution_count": null,
      "outputs": []
    },
    {
      "cell_type": "code",
      "source": [
        "# save tokenizer\n",
        "with open('y_tokenizer', 'wb') as f:\n",
        "    pickle.dump(y_tokenizer, f, protocol=pickle.HIGHEST_PROTOCOL)"
      ],
      "metadata": {
        "id": "uyQbPr7onb-1"
      },
      "execution_count": null,
      "outputs": []
    },
    {
      "cell_type": "code",
      "source": [
        "# one-hot-encoding\n",
        "y_train_sequence = y_tokenizer.texts_to_sequences(y_train)\n",
        "y_val_sequence = y_tokenizer.texts_to_sequences(y_val)\n",
        "\n",
        "# padding upto max_summary_len\n",
        "y_train_padded = pad_sequences(y_train_sequence, maxlen=max_summary_len, padding='post')\n",
        "y_val_padded = pad_sequences(y_val_sequence, maxlen=max_summary_len, padding='post')\n",
        "\n",
        "# if you're not using num_words parameter in Tokenizer then use this\n",
        "y_vocab_size = len(y_tokenizer.word_index) + 1\n",
        "\n",
        "# else use this\n",
        "# y_vocab_size = y_tokenizer.num_words + 1\n",
        "\n",
        "print(y_vocab_size)"
      ],
      "metadata": {
        "colab": {
          "base_uri": "https://localhost:8080/"
        },
        "id": "Mf17bLwcoN1Y",
        "outputId": "8d2fb858-15d2-416b-a3db-df2bb59583a8"
      },
      "execution_count": null,
      "outputs": [
        {
          "output_type": "stream",
          "name": "stdout",
          "text": [
            "37414\n"
          ]
        }
      ]
    },
    {
      "cell_type": "code",
      "source": [],
      "metadata": {
        "id": "CnNrrCXCLcmb"
      },
      "execution_count": null,
      "outputs": []
    },
    {
      "cell_type": "code",
      "source": [
        "# removing summary which only has sostok & eostok\n",
        "def remove_indexes(summary_array):\n",
        "    remove_indexes = []\n",
        "    for i in range(len(summary_array)):\n",
        "        count = 0\n",
        "        for j in summary_array[i]:\n",
        "            if j != 0:\n",
        "                count += 1\n",
        "        if count == 2:\n",
        "            remove_indexes.append(i)\n",
        "    return remove_indexes\n",
        "\n",
        "\n",
        "remove_train_indexes = remove_indexes(y_train_padded)\n",
        "remove_val_indexes = remove_indexes(y_val_padded)\n",
        "\n",
        "y_train_padded = np.delete(y_train_padded, remove_train_indexes, axis=0)\n",
        "x_train_padded = np.delete(x_train_padded, remove_train_indexes, axis=0)\n",
        "\n",
        "y_val_padded = np.delete(y_val_padded, remove_val_indexes, axis=0)\n",
        "x_val_padded = np.delete(x_val_padded, remove_val_indexes, axis=0)"
      ],
      "metadata": {
        "id": "hKjmovT6oUWK"
      },
      "execution_count": null,
      "outputs": []
    },
    {
      "cell_type": "code",
      "source": [
        "given_padded = np.delete(given_padded, remove_val_indexes, axis=0)\n",
        "print((x_val_padded[0]))\n",
        "print((given_padded[0]))"
      ],
      "metadata": {
        "colab": {
          "base_uri": "https://localhost:8080/"
        },
        "id": "q7SCeixdLnAa",
        "outputId": "84cf05f0-e328-4b45-fdf2-47f17e210ebb"
      },
      "execution_count": null,
      "outputs": [
        {
          "output_type": "stream",
          "name": "stdout",
          "text": [
            "[  110   109 40701 10982 86134 52875   580  1239 86135  1438 40701 27179\n",
            "  4597 34408  1984  8275 86136 10613 52875   580  1239   599   476   520\n",
            "  3853   569  1088    99   800  4695  1951  2208   102     1     0     0\n",
            "     0     0     0     0     0     0]\n",
            "[  110   109 40701 10982 86134 52875   580  1239 86135  1438 40701 27179\n",
            "  4597 34408  1984  8275 86136 10613 52875   580  1239   599   476   520\n",
            "  3853   569  1088    99   800  4695  1951  2208   102     1     0     0\n",
            "     0     0     0     0     0     0]\n"
          ]
        }
      ]
    },
    {
      "cell_type": "code",
      "source": [
        "x_val_padded[0]\n",
        "# test1_padded[0]"
      ],
      "metadata": {
        "colab": {
          "base_uri": "https://localhost:8080/"
        },
        "id": "FAxVY8X3HyjV",
        "outputId": "b3b554d2-1666-4088-c758-cc4b39ab0135"
      },
      "execution_count": null,
      "outputs": [
        {
          "output_type": "execute_result",
          "data": {
            "text/plain": [
              "array([  110,   109, 40701, 10982, 86134, 52875,   580,  1239, 86135,\n",
              "        1438, 40701, 27179,  4597, 34408,  1984,  8275, 86136, 10613,\n",
              "       52875,   580,  1239,   599,   476,   520,  3853,   569,  1088,\n",
              "          99,   800,  4695,  1951,  2208,   102,     1,     0,     0,\n",
              "           0,     0,     0,     0,     0,     0], dtype=int32)"
            ]
          },
          "metadata": {},
          "execution_count": 53
        }
      ]
    },
    {
      "cell_type": "code",
      "source": [
        "latent_dim = 240\n",
        "embedding_dim = 300\n",
        "num_epochs = 50"
      ],
      "metadata": {
        "id": "BiywWwXCobrL"
      },
      "execution_count": null,
      "outputs": []
    },
    {
      "cell_type": "code",
      "source": [
        "! kaggle datasets download -d nirbhayadhikari/glove6b\n",
        "! unzip glove6b.zip -d train"
      ],
      "metadata": {
        "colab": {
          "base_uri": "https://localhost:8080/"
        },
        "id": "3u95BkBdqHMg",
        "outputId": "4f368fb4-b3f4-47bb-b13e-024ebffcf409"
      },
      "execution_count": null,
      "outputs": [
        {
          "output_type": "stream",
          "name": "stdout",
          "text": [
            "Downloading glove6b.zip to /content\n",
            " 97% 439M/454M [00:06<00:00, 102MB/s]\n",
            "100% 454M/454M [00:06<00:00, 77.0MB/s]\n",
            "Archive:  glove6b.zip\n",
            "  inflating: train/glove.6B.300d.txt/glove.6B.300d.txt  \n",
            "  inflating: train/glove.6B.50d.txt/glove.6B.50d.txt  \n"
          ]
        }
      ]
    },
    {
      "cell_type": "code",
      "source": [
        "def get_embedding_matrix(tokenizer, embedding_dim, vocab_size=None):\n",
        "    word_index = tokenizer.word_index\n",
        "    voc = list(word_index.keys())\n",
        "\n",
        "    path_to_glove_file = 'train/glove.6B.300d.txt/glove.6B.300d.txt'\n",
        "\n",
        "    embeddings_index = {}\n",
        "    with open(path_to_glove_file) as f:\n",
        "        for line in f:\n",
        "            word, coefs = line.split(maxsplit=1)\n",
        "            coefs = np.fromstring(coefs, \"f\", sep=\" \")\n",
        "            embeddings_index[word] = coefs\n",
        "\n",
        "    print(\"Found %s word vectors.\" % len(embeddings_index))\n",
        "\n",
        "    num_tokens = len(voc) + 2 if not vocab_size else vocab_size\n",
        "    hits = 0\n",
        "    misses = 0\n",
        "\n",
        "    # Prepare embedding matrix\n",
        "    embedding_matrix = np.zeros((num_tokens, embedding_dim))\n",
        "    for word, i in word_index.items():\n",
        "        embedding_vector = embeddings_index.get(word)\n",
        "        if embedding_vector is not None:\n",
        "            # Words not found in embedding index will be all-zeros.\n",
        "            # This includes the representation for \"padding\" and \"OOV\"\n",
        "            embedding_matrix[i] = embedding_vector\n",
        "            hits += 1\n",
        "        else:\n",
        "            misses += 1\n",
        "    print(\"Converted %d words (%d misses)\" % (hits, misses))\n",
        "\n",
        "    return embedding_matrix\n",
        "\n",
        "\n",
        "x_embedding_matrix = get_embedding_matrix(x_tokenizer, embedding_dim, x_vocab_size)\n",
        "y_embedding_matrix = get_embedding_matrix(y_tokenizer, embedding_dim, y_vocab_size)"
      ],
      "metadata": {
        "colab": {
          "base_uri": "https://localhost:8080/"
        },
        "id": "xmCcOeZIogXX",
        "outputId": "2f697e2f-1fa4-41c3-939b-68bb8217b1f5"
      },
      "execution_count": null,
      "outputs": [
        {
          "output_type": "stream",
          "name": "stdout",
          "text": [
            "Found 400000 word vectors.\n",
            "Converted 55300 words (44587 misses)\n",
            "Found 400000 word vectors.\n",
            "Converted 27055 words (10358 misses)\n"
          ]
        }
      ]
    },
    {
      "cell_type": "code",
      "source": [
        "print(x_embedding_matrix.shape)\n",
        "print(y_embedding_matrix.shape)"
      ],
      "metadata": {
        "colab": {
          "base_uri": "https://localhost:8080/"
        },
        "id": "XUIKLldAol81",
        "outputId": "4e2378f6-f872-46c4-9a1a-559877e8ede1"
      },
      "execution_count": null,
      "outputs": [
        {
          "output_type": "stream",
          "name": "stdout",
          "text": [
            "(99888, 300)\n",
            "(37414, 300)\n"
          ]
        }
      ]
    },
    {
      "cell_type": "code",
      "source": [
        "def build_seq2seq_model_with_just_lstm(\n",
        "    embedding_dim, latent_dim, max_text_len,\n",
        "    x_vocab_size, y_vocab_size,\n",
        "    x_embedding_matrix, y_embedding_matrix\n",
        "):\n",
        "    # instantiating the model in the strategy scope creates the model on the TPU\n",
        "    with tpu_strategy.scope():\n",
        "\n",
        "\n",
        "        # =====================\n",
        "        encoder_input = Input(shape=(max_text_len, ))\n",
        "\n",
        "        # encoder embedding layer\n",
        "        encoder_embedding = Embedding(\n",
        "            x_vocab_size,\n",
        "            embedding_dim,\n",
        "            embeddings_initializer=tf.keras.initializers.Constant(x_embedding_matrix),\n",
        "            trainable=False\n",
        "        )(encoder_input)\n",
        "\n",
        "        # encoder lstm 1\n",
        "        encoder_lstm1 = LSTM(\n",
        "            latent_dim,\n",
        "            return_sequences=True,\n",
        "            return_state=True,\n",
        "            dropout=0.4,\n",
        "            recurrent_dropout=0.4\n",
        "        )\n",
        "        encoder_output1, state_h1, state_c1 = encoder_lstm1(encoder_embedding)\n",
        "\n",
        "        # encoder lstm 2\n",
        "        encoder_lstm2 = LSTM(\n",
        "            latent_dim,\n",
        "            return_sequences=True,\n",
        "            return_state=True,\n",
        "            dropout=0.4,\n",
        "            recurrent_dropout=0.4\n",
        "        )\n",
        "        encoder_output, *encoder_final_states = encoder_lstm2(encoder_output1)\n",
        "\n",
        "        # =====================\n",
        "        #  Decoder\n",
        "        # =====================\n",
        "\n",
        "        # Set up the decoder, using `encoder_states` as initial state.\n",
        "\n",
        "        decoder_input = Input(shape=(None, ))\n",
        "\n",
        "        # decoder embedding layer\n",
        "        decoder_embedding_layer = Embedding(\n",
        "            y_vocab_size,\n",
        "            embedding_dim,\n",
        "            embeddings_initializer=tf.keras.initializers.Constant(y_embedding_matrix),\n",
        "            trainable=True\n",
        "        )\n",
        "        decoder_embedding = decoder_embedding_layer(decoder_input)\n",
        "\n",
        "        # decoder lstm 1\n",
        "        decoder_lstm = LSTM(\n",
        "            latent_dim,\n",
        "            return_sequences=True,\n",
        "            return_state=True,\n",
        "            dropout=0.4,\n",
        "            recurrent_dropout=0.4\n",
        "        )\n",
        "        decoder_output, *decoder_final_states = decoder_lstm(\n",
        "            decoder_embedding, initial_state=encoder_final_states\n",
        "        )\n",
        "\n",
        "        # dense layer\n",
        "        decoder_dense = TimeDistributed(\n",
        "            Dense(y_vocab_size, activation='softmax')\n",
        "        )\n",
        "        decoder_output = decoder_dense(decoder_output)\n",
        "\n",
        "        # =====================\n",
        "        # ⚡️ Model\n",
        "        # =====================\n",
        "        model = Model([encoder_input, decoder_input], decoder_output)\n",
        "        model.summary()\n",
        "\n",
        "        optimizer = tf.keras.optimizers.RMSprop(learning_rate=0.001)\n",
        "        model.compile(\n",
        "            optimizer=optimizer,\n",
        "            loss='sparse_categorical_crossentropy',\n",
        "            metrics=['accuracy']\n",
        "        )\n",
        "\n",
        "        return {\n",
        "            'model': model,\n",
        "            'inputs': {\n",
        "                'encoder': encoder_input,\n",
        "                'decoder': decoder_input\n",
        "            },\n",
        "            'outputs': {\n",
        "                'encoder': encoder_output,\n",
        "                'decoder': decoder_output\n",
        "            },\n",
        "            'states': {\n",
        "                'encoder': encoder_final_states,\n",
        "                'decoder': decoder_final_states\n",
        "            },\n",
        "            'layers': {\n",
        "                'decoder': {\n",
        "                    'embedding': decoder_embedding_layer,\n",
        "                    'last_decoder_lstm': decoder_lstm,\n",
        "                    'dense': decoder_dense\n",
        "                }\n",
        "            }\n",
        "        }"
      ],
      "metadata": {
        "id": "ET2DAjhCtIG_"
      },
      "execution_count": null,
      "outputs": []
    },
    {
      "cell_type": "code",
      "source": [
        "seq2seq = build_seq2seq_model_with_just_lstm(\n",
        "    embedding_dim, latent_dim, max_text_len,\n",
        "    x_vocab_size, y_vocab_size,\n",
        "    x_embedding_matrix, y_embedding_matrix\n",
        ")"
      ],
      "metadata": {
        "colab": {
          "base_uri": "https://localhost:8080/"
        },
        "id": "Ap2-Q0Bstjuu",
        "outputId": "517defc9-4930-4b1a-a66b-d6afbb09adb4"
      },
      "execution_count": null,
      "outputs": [
        {
          "output_type": "stream",
          "name": "stdout",
          "text": [
            "Model: \"model\"\n",
            "__________________________________________________________________________________________________\n",
            " Layer (type)                   Output Shape         Param #     Connected to                     \n",
            "==================================================================================================\n",
            " input_1 (InputLayer)           [(None, 42)]         0           []                               \n",
            "                                                                                                  \n",
            " embedding (Embedding)          (None, 42, 300)      29966400    ['input_1[0][0]']                \n",
            "                                                                                                  \n",
            " input_2 (InputLayer)           [(None, None)]       0           []                               \n",
            "                                                                                                  \n",
            " lstm (LSTM)                    [(None, 42, 240),    519360      ['embedding[0][0]']              \n",
            "                                 (None, 240),                                                     \n",
            "                                 (None, 240)]                                                     \n",
            "                                                                                                  \n",
            " embedding_1 (Embedding)        (None, None, 300)    11224200    ['input_2[0][0]']                \n",
            "                                                                                                  \n",
            " lstm_1 (LSTM)                  [(None, 42, 240),    461760      ['lstm[0][0]']                   \n",
            "                                 (None, 240),                                                     \n",
            "                                 (None, 240)]                                                     \n",
            "                                                                                                  \n",
            " lstm_2 (LSTM)                  [(None, None, 240),  519360      ['embedding_1[0][0]',            \n",
            "                                 (None, 240),                     'lstm_1[0][1]',                 \n",
            "                                 (None, 240)]                     'lstm_1[0][2]']                 \n",
            "                                                                                                  \n",
            " time_distributed (TimeDistribu  (None, None, 37414)  9016774    ['lstm_2[0][0]']                 \n",
            " ted)                                                                                             \n",
            "                                                                                                  \n",
            "==================================================================================================\n",
            "Total params: 51,707,854\n",
            "Trainable params: 21,741,454\n",
            "Non-trainable params: 29,966,400\n",
            "__________________________________________________________________________________________________\n"
          ]
        }
      ]
    },
    {
      "cell_type": "code",
      "source": [
        "model = seq2seq['model']\n",
        "\n",
        "encoder_input = seq2seq['inputs']['encoder']\n",
        "decoder_input = seq2seq['inputs']['decoder']\n",
        "\n",
        "encoder_output = seq2seq['outputs']['encoder']\n",
        "decoder_output = seq2seq['outputs']['decoder']\n",
        "\n",
        "encoder_final_states = seq2seq['states']['encoder']\n",
        "decoder_final_states = seq2seq['states']['decoder']\n",
        "\n",
        "decoder_embedding_layer = seq2seq['layers']['decoder']['embedding']\n",
        "last_decoder_lstm = seq2seq['layers']['decoder']['last_decoder_lstm']\n",
        "decoder_dense = seq2seq['layers']['decoder']['dense']"
      ],
      "metadata": {
        "id": "vXfNXm8ptsaf"
      },
      "execution_count": null,
      "outputs": []
    },
    {
      "cell_type": "code",
      "source": [
        "model.layers[-2].input\n"
      ],
      "metadata": {
        "colab": {
          "base_uri": "https://localhost:8080/"
        },
        "id": "7uz65A8ft4gg",
        "outputId": "6966a3fb-e0e5-4cd1-811c-f74942a36f22"
      },
      "execution_count": null,
      "outputs": [
        {
          "output_type": "execute_result",
          "data": {
            "text/plain": [
              "[<KerasTensor: shape=(None, None, 300) dtype=float32 (created by layer 'embedding_1')>,\n",
              " <KerasTensor: shape=(None, 240) dtype=float32 (created by layer 'lstm_1')>,\n",
              " <KerasTensor: shape=(None, 240) dtype=float32 (created by layer 'lstm_1')>]"
            ]
          },
          "metadata": {},
          "execution_count": 61
        }
      ]
    },
    {
      "cell_type": "code",
      "source": [
        "callbacks = [\n",
        "    EarlyStopping(monitor='val_loss', mode='min', verbose=1, patience=2),\n",
        "    ReduceLROnPlateau(monitor='val_loss', factor=0.1, patience=2, min_lr=0.000001, verbose=1),\n",
        "]"
      ],
      "metadata": {
        "id": "6bsMnvNQt7UC"
      },
      "execution_count": null,
      "outputs": []
    },
    {
      "cell_type": "code",
      "source": [
        "history = model.fit(\n",
        "    [x_train_padded, y_train_padded[:, :-1]],\n",
        "    y_train_padded.reshape(y_train_padded.shape[0], y_train_padded.shape[1], 1)[:, 1:],\n",
        "    epochs=num_epochs,\n",
        "    # batch_size=128 * tpu_strategy.num_replicas_in_sync,\n",
        "\n",
        "    batch_size=128,\n",
        "callbacks=callbacks,\n",
        "    validation_data=(\n",
        "        [x_val_padded, y_val_padded[:, :-1]],\n",
        "        y_val_padded.reshape(y_val_padded.shape[0], y_val_padded.shape[1], 1)[:, 1:]\n",
        "    )\n",
        ")"
      ],
      "metadata": {
        "colab": {
          "base_uri": "https://localhost:8080/"
        },
        "id": "1vFqTBZDt-jR",
        "outputId": "cdf411bc-bec1-4c77-8b80-58e45b4e7f0c"
      },
      "execution_count": null,
      "outputs": [
        {
          "output_type": "stream",
          "name": "stdout",
          "text": [
            "Epoch 1/50\n",
            "705/705 [==============================] - 85s 86ms/step - loss: 5.4595 - accuracy: 0.3868 - val_loss: 5.0244 - val_accuracy: 0.4338 - lr: 0.0010\n",
            "Epoch 2/50\n",
            "705/705 [==============================] - 37s 52ms/step - loss: 5.1332 - accuracy: 0.4212 - val_loss: 4.9185 - val_accuracy: 0.4361 - lr: 0.0010\n",
            "Epoch 3/50\n",
            "705/705 [==============================] - 37s 53ms/step - loss: 4.9536 - accuracy: 0.4259 - val_loss: 4.6975 - val_accuracy: 0.4396 - lr: 0.0010\n",
            "Epoch 4/50\n",
            "705/705 [==============================] - 38s 54ms/step - loss: 4.6993 - accuracy: 0.4329 - val_loss: 4.4475 - val_accuracy: 0.4481 - lr: 0.0010\n",
            "Epoch 5/50\n",
            "705/705 [==============================] - 37s 53ms/step - loss: 4.5096 - accuracy: 0.4389 - val_loss: 4.2894 - val_accuracy: 0.4544 - lr: 0.0010\n",
            "Epoch 6/50\n",
            "705/705 [==============================] - 37s 52ms/step - loss: 4.3477 - accuracy: 0.4448 - val_loss: 4.1645 - val_accuracy: 0.4586 - lr: 0.0010\n",
            "Epoch 7/50\n",
            "705/705 [==============================] - 37s 52ms/step - loss: 4.2041 - accuracy: 0.4510 - val_loss: 4.0337 - val_accuracy: 0.4664 - lr: 0.0010\n",
            "Epoch 8/50\n",
            "705/705 [==============================] - 37s 53ms/step - loss: 4.0754 - accuracy: 0.4570 - val_loss: 3.9183 - val_accuracy: 0.4740 - lr: 0.0010\n",
            "Epoch 9/50\n",
            "705/705 [==============================] - 38s 53ms/step - loss: 3.9592 - accuracy: 0.4626 - val_loss: 3.8424 - val_accuracy: 0.4762 - lr: 0.0010\n",
            "Epoch 10/50\n",
            "705/705 [==============================] - 37s 52ms/step - loss: 3.8546 - accuracy: 0.4681 - val_loss: 3.7600 - val_accuracy: 0.4814 - lr: 0.0010\n",
            "Epoch 11/50\n",
            "705/705 [==============================] - 36s 52ms/step - loss: 3.7612 - accuracy: 0.4731 - val_loss: 3.6889 - val_accuracy: 0.4856 - lr: 0.0010\n",
            "Epoch 12/50\n",
            "705/705 [==============================] - 39s 55ms/step - loss: 3.6758 - accuracy: 0.4777 - val_loss: 3.6239 - val_accuracy: 0.4891 - lr: 0.0010\n",
            "Epoch 13/50\n",
            "705/705 [==============================] - 38s 54ms/step - loss: 3.5971 - accuracy: 0.4823 - val_loss: 3.5894 - val_accuracy: 0.4900 - lr: 0.0010\n",
            "Epoch 14/50\n",
            "705/705 [==============================] - 37s 52ms/step - loss: 3.5259 - accuracy: 0.4864 - val_loss: 3.5197 - val_accuracy: 0.4960 - lr: 0.0010\n",
            "Epoch 15/50\n",
            "705/705 [==============================] - 37s 53ms/step - loss: 3.4590 - accuracy: 0.4904 - val_loss: 3.4712 - val_accuracy: 0.4996 - lr: 0.0010\n",
            "Epoch 16/50\n",
            "705/705 [==============================] - 37s 52ms/step - loss: 3.3985 - accuracy: 0.4939 - val_loss: 3.4329 - val_accuracy: 0.5020 - lr: 0.0010\n",
            "Epoch 17/50\n",
            "705/705 [==============================] - 37s 53ms/step - loss: 3.3412 - accuracy: 0.4977 - val_loss: 3.4015 - val_accuracy: 0.5042 - lr: 0.0010\n",
            "Epoch 18/50\n",
            "705/705 [==============================] - 38s 53ms/step - loss: 3.2863 - accuracy: 0.5007 - val_loss: 3.3688 - val_accuracy: 0.5070 - lr: 0.0010\n",
            "Epoch 19/50\n",
            "705/705 [==============================] - 37s 53ms/step - loss: 3.2358 - accuracy: 0.5041 - val_loss: 3.3459 - val_accuracy: 0.5064 - lr: 0.0010\n",
            "Epoch 20/50\n",
            "705/705 [==============================] - 37s 53ms/step - loss: 3.1872 - accuracy: 0.5073 - val_loss: 3.3174 - val_accuracy: 0.5095 - lr: 0.0010\n",
            "Epoch 21/50\n",
            "705/705 [==============================] - 38s 53ms/step - loss: 3.1411 - accuracy: 0.5105 - val_loss: 3.2829 - val_accuracy: 0.5135 - lr: 0.0010\n",
            "Epoch 22/50\n",
            "705/705 [==============================] - 37s 53ms/step - loss: 3.0981 - accuracy: 0.5132 - val_loss: 3.2639 - val_accuracy: 0.5140 - lr: 0.0010\n",
            "Epoch 23/50\n",
            "705/705 [==============================] - 37s 52ms/step - loss: 3.0563 - accuracy: 0.5161 - val_loss: 3.2512 - val_accuracy: 0.5134 - lr: 0.0010\n",
            "Epoch 24/50\n",
            "705/705 [==============================] - 37s 53ms/step - loss: 3.0162 - accuracy: 0.5186 - val_loss: 3.2261 - val_accuracy: 0.5164 - lr: 0.0010\n",
            "Epoch 25/50\n",
            "705/705 [==============================] - 37s 53ms/step - loss: 2.9792 - accuracy: 0.5213 - val_loss: 3.2050 - val_accuracy: 0.5178 - lr: 0.0010\n",
            "Epoch 26/50\n",
            "705/705 [==============================] - 37s 53ms/step - loss: 2.9425 - accuracy: 0.5242 - val_loss: 3.1914 - val_accuracy: 0.5191 - lr: 0.0010\n",
            "Epoch 27/50\n",
            "705/705 [==============================] - 37s 53ms/step - loss: 2.9071 - accuracy: 0.5265 - val_loss: 3.1801 - val_accuracy: 0.5197 - lr: 0.0010\n",
            "Epoch 28/50\n",
            "705/705 [==============================] - 39s 55ms/step - loss: 2.8742 - accuracy: 0.5289 - val_loss: 3.1627 - val_accuracy: 0.5211 - lr: 0.0010\n",
            "Epoch 29/50\n",
            "705/705 [==============================] - 37s 53ms/step - loss: 2.8420 - accuracy: 0.5310 - val_loss: 3.1631 - val_accuracy: 0.5200 - lr: 0.0010\n",
            "Epoch 30/50\n",
            "705/705 [==============================] - 37s 52ms/step - loss: 2.8114 - accuracy: 0.5331 - val_loss: 3.1555 - val_accuracy: 0.5194 - lr: 0.0010\n",
            "Epoch 31/50\n",
            "705/705 [==============================] - 37s 53ms/step - loss: 2.7812 - accuracy: 0.5357 - val_loss: 3.1289 - val_accuracy: 0.5225 - lr: 0.0010\n",
            "Epoch 32/50\n",
            "705/705 [==============================] - 37s 52ms/step - loss: 2.7520 - accuracy: 0.5376 - val_loss: 3.1319 - val_accuracy: 0.5209 - lr: 0.0010\n",
            "Epoch 33/50\n",
            "705/705 [==============================] - 37s 52ms/step - loss: 2.7254 - accuracy: 0.5395 - val_loss: 3.1118 - val_accuracy: 0.5234 - lr: 0.0010\n",
            "Epoch 34/50\n",
            "705/705 [==============================] - 37s 52ms/step - loss: 2.6972 - accuracy: 0.5420 - val_loss: 3.1151 - val_accuracy: 0.5220 - lr: 0.0010\n",
            "Epoch 35/50\n",
            "705/705 [==============================] - 37s 53ms/step - loss: 2.6710 - accuracy: 0.5437 - val_loss: 3.0900 - val_accuracy: 0.5269 - lr: 0.0010\n",
            "Epoch 36/50\n",
            "705/705 [==============================] - 38s 53ms/step - loss: 2.6455 - accuracy: 0.5460 - val_loss: 3.0890 - val_accuracy: 0.5258 - lr: 0.0010\n",
            "Epoch 37/50\n",
            "705/705 [==============================] - 37s 53ms/step - loss: 2.6203 - accuracy: 0.5477 - val_loss: 3.0726 - val_accuracy: 0.5283 - lr: 0.0010\n",
            "Epoch 38/50\n",
            "705/705 [==============================] - 37s 53ms/step - loss: 2.5968 - accuracy: 0.5495 - val_loss: 3.0708 - val_accuracy: 0.5275 - lr: 0.0010\n",
            "Epoch 39/50\n",
            "705/705 [==============================] - 37s 53ms/step - loss: 2.5725 - accuracy: 0.5518 - val_loss: 3.0554 - val_accuracy: 0.5294 - lr: 0.0010\n",
            "Epoch 40/50\n",
            "705/705 [==============================] - 38s 53ms/step - loss: 2.5508 - accuracy: 0.5531 - val_loss: 3.0564 - val_accuracy: 0.5298 - lr: 0.0010\n",
            "Epoch 41/50\n",
            "705/705 [==============================] - 37s 52ms/step - loss: 2.5291 - accuracy: 0.5551 - val_loss: 3.0527 - val_accuracy: 0.5292 - lr: 0.0010\n",
            "Epoch 42/50\n",
            "705/705 [==============================] - 37s 52ms/step - loss: 2.5087 - accuracy: 0.5567 - val_loss: 3.0491 - val_accuracy: 0.5303 - lr: 0.0010\n",
            "Epoch 43/50\n",
            "705/705 [==============================] - 37s 52ms/step - loss: 2.4854 - accuracy: 0.5588 - val_loss: 3.0357 - val_accuracy: 0.5324 - lr: 0.0010\n",
            "Epoch 44/50\n",
            "705/705 [==============================] - 37s 53ms/step - loss: 2.4661 - accuracy: 0.5601 - val_loss: 3.0493 - val_accuracy: 0.5273 - lr: 0.0010\n",
            "Epoch 45/50\n",
            "705/705 [==============================] - 39s 55ms/step - loss: 2.4465 - accuracy: 0.5622 - val_loss: 3.0291 - val_accuracy: 0.5325 - lr: 0.0010\n",
            "Epoch 46/50\n",
            "705/705 [==============================] - 38s 53ms/step - loss: 2.4260 - accuracy: 0.5643 - val_loss: 3.0217 - val_accuracy: 0.5347 - lr: 0.0010\n",
            "Epoch 47/50\n",
            "705/705 [==============================] - 38s 54ms/step - loss: 2.4077 - accuracy: 0.5656 - val_loss: 3.0205 - val_accuracy: 0.5333 - lr: 0.0010\n",
            "Epoch 48/50\n",
            "705/705 [==============================] - 37s 53ms/step - loss: 2.3896 - accuracy: 0.5676 - val_loss: 3.0313 - val_accuracy: 0.5296 - lr: 0.0010\n",
            "Epoch 49/50\n",
            "704/705 [============================>.] - ETA: 0s - loss: 2.3717 - accuracy: 0.5686\n",
            "Epoch 49: ReduceLROnPlateau reducing learning rate to 0.00010000000474974513.\n",
            "705/705 [==============================] - 37s 53ms/step - loss: 2.3718 - accuracy: 0.5686 - val_loss: 3.0233 - val_accuracy: 0.5315 - lr: 0.0010\n",
            "Epoch 49: early stopping\n"
          ]
        }
      ]
    },
    {
      "cell_type": "code",
      "source": [
        "# Accuracy\n",
        "plt.plot(history.history['accuracy'][1:], label='train acc')\n",
        "plt.plot(history.history['val_accuracy'], label='val')\n",
        "plt.xlabel('Epoch')\n",
        "plt.ylabel('Accuracy')\n",
        "plt.legend(loc='lower right')"
      ],
      "metadata": {
        "colab": {
          "base_uri": "https://localhost:8080/",
          "height": 466
        },
        "id": "2eQfRQZmuIx4",
        "outputId": "8e49f04b-96a2-4d36-9b5b-00951a5f6ec8"
      },
      "execution_count": null,
      "outputs": [
        {
          "output_type": "execute_result",
          "data": {
            "text/plain": [
              "<matplotlib.legend.Legend at 0x7d7c6830ab60>"
            ]
          },
          "metadata": {},
          "execution_count": 64
        },
        {
          "output_type": "display_data",
          "data": {
            "text/plain": [
              "<Figure size 640x480 with 1 Axes>"
            ],
            "image/png": "[encoded data removed]"
          },
          "metadata": {}
        }
      ]
    },
    {
      "cell_type": "code",
      "source": [
        "# Loss\n",
        "plt.plot(history.history['loss'][1:], label='train loss')\n",
        "plt.plot(history.history['val_loss'], label='val')\n",
        "plt.xlabel('Epoch')\n",
        "plt.ylabel('Loss')\n",
        "plt.legend(loc='lower right')"
      ],
      "metadata": {
        "colab": {
          "base_uri": "https://localhost:8080/",
          "height": 466
        },
        "id": "yZYvBZEGwhS-",
        "outputId": "0fa69db6-ae4d-49a2-b019-2bd25f085bc1"
      },
      "execution_count": null,
      "outputs": [
        {
          "output_type": "execute_result",
          "data": {
            "text/plain": [
              "<matplotlib.legend.Legend at 0x7d7c5b2ef790>"
            ]
          },
          "metadata": {},
          "execution_count": 65
        },
        {
          "output_type": "display_data",
          "data": {
            "text/plain": [
              "<Figure size 640x480 with 1 Axes>"
            ],
            "image/png": "[encoded data removed]"
          },
          "metadata": {}
        }
      ]
    },
    {
      "cell_type": "code",
      "source": [
        "# Next, let’s build the dictionary to convert the index to word for target and source vocabulary:\n",
        "reverse_target_word_index = y_tokenizer.index_word\n",
        "reverse_source_word_index = x_tokenizer.index_word\n",
        "target_word_index = y_tokenizer.word_index"
      ],
      "metadata": {
        "id": "L6zC7dg5wmHw"
      },
      "execution_count": null,
      "outputs": []
    },
    {
      "cell_type": "code",
      "source": [
        "def build_seq2seq_model_with_just_lstm_inference(\n",
        "    max_text_len, latent_dim, encoder_input, encoder_output,\n",
        "    encoder_final_states, decoder_input, decoder_output,\n",
        "    decoder_embedding_layer, decoder_dense, last_decoder_lstm\n",
        "):\n",
        "    # Encode the input sequence to get the feature vector\n",
        "    encoder_model = Model(\n",
        "        inputs=encoder_input, outputs=[encoder_output] + encoder_final_states\n",
        "    )\n",
        "\n",
        "    # Decoder setup\n",
        "    # Below tensors will hold the states of the previous time step\n",
        "    decoder_state_input_h = Input(shape=(latent_dim, ))\n",
        "    decoder_state_input_c = Input(shape=(latent_dim, ))\n",
        "    decoder_hidden_state_input = Input(shape=(max_text_len, latent_dim))\n",
        "\n",
        "    # Get the embeddings of the decoder sequence\n",
        "    decoder_embedding = decoder_embedding_layer(decoder_input)\n",
        "\n",
        "    # To predict the next word in the sequence, set the initial\n",
        "    # states to the states from the previous time step\n",
        "    decoder_output, *decoder_states = last_decoder_lstm(\n",
        "        decoder_embedding,\n",
        "        initial_state=[decoder_state_input_h, decoder_state_input_c]\n",
        "    )\n",
        "\n",
        "    # A dense softmax layer to generate prob dist. over the target vocabulary\n",
        "    decoder_output = decoder_dense(decoder_output)\n",
        "\n",
        "    # Final decoder model\n",
        "    decoder_model = Model(\n",
        "        [decoder_input] + [decoder_hidden_state_input, decoder_state_input_h, decoder_state_input_c],\n",
        "        [decoder_output] + decoder_states\n",
        "    )\n",
        "\n",
        "    return (encoder_model, decoder_model)"
      ],
      "metadata": {
        "id": "BCb7W2qUwq0K"
      },
      "execution_count": null,
      "outputs": []
    },
    {
      "cell_type": "code",
      "source": [
        "encoder_model, decoder_model = build_seq2seq_model_with_just_lstm_inference(\n",
        "    max_text_len, latent_dim, encoder_input, encoder_output,\n",
        "    encoder_final_states, decoder_input, decoder_output,\n",
        "    decoder_embedding_layer, decoder_dense, last_decoder_lstm\n",
        ")"
      ],
      "metadata": {
        "id": "_AFFwNHvw0-4"
      },
      "execution_count": null,
      "outputs": []
    },
    {
      "cell_type": "code",
      "source": [
        "encoder_model.summary()"
      ],
      "metadata": {
        "colab": {
          "base_uri": "https://localhost:8080/"
        },
        "id": "16d41WMjw6Mn",
        "outputId": "c80a85a5-8f8e-42f1-8687-905310477cfb"
      },
      "execution_count": null,
      "outputs": [
        {
          "output_type": "stream",
          "name": "stdout",
          "text": [
            "Model: \"model_1\"\n",
            "_________________________________________________________________\n",
            " Layer (type)                Output Shape              Param #   \n",
            "=================================================================\n",
            " input_1 (InputLayer)        [(None, 42)]              0         \n",
            "                                                                 \n",
            " embedding (Embedding)       (None, 42, 300)           29966400  \n",
            "                                                                 \n",
            " lstm (LSTM)                 [(None, 42, 240),         519360    \n",
            "                              (None, 240),                       \n",
            "                              (None, 240)]                       \n",
            "                                                                 \n",
            " lstm_1 (LSTM)               [(None, 42, 240),         461760    \n",
            "                              (None, 240),                       \n",
            "                              (None, 240)]                       \n",
            "                                                                 \n",
            "=================================================================\n",
            "Total params: 30,947,520\n",
            "Trainable params: 981,120\n",
            "Non-trainable params: 29,966,400\n",
            "_________________________________________________________________\n"
          ]
        }
      ]
    },
    {
      "cell_type": "code",
      "source": [
        "decoder_model.summary()"
      ],
      "metadata": {
        "colab": {
          "base_uri": "https://localhost:8080/"
        },
        "id": "wpzYvvvBw8En",
        "outputId": "0f41574b-79e7-4736-8c1b-14cc84c54ba6"
      },
      "execution_count": null,
      "outputs": [
        {
          "output_type": "stream",
          "name": "stdout",
          "text": [
            "Model: \"model_2\"\n",
            "__________________________________________________________________________________________________\n",
            " Layer (type)                   Output Shape         Param #     Connected to                     \n",
            "==================================================================================================\n",
            " input_2 (InputLayer)           [(None, None)]       0           []                               \n",
            "                                                                                                  \n",
            " embedding_1 (Embedding)        (None, None, 300)    11224200    ['input_2[0][0]']                \n",
            "                                                                                                  \n",
            " input_3 (InputLayer)           [(None, 240)]        0           []                               \n",
            "                                                                                                  \n",
            " input_4 (InputLayer)           [(None, 240)]        0           []                               \n",
            "                                                                                                  \n",
            " lstm_2 (LSTM)                  [(None, None, 240),  519360      ['embedding_1[1][0]',            \n",
            "                                 (None, 240),                     'input_3[0][0]',                \n",
            "                                 (None, 240)]                     'input_4[0][0]']                \n",
            "                                                                                                  \n",
            " input_5 (InputLayer)           [(None, 42, 240)]    0           []                               \n",
            "                                                                                                  \n",
            " time_distributed (TimeDistribu  (None, None, 37414)  9016774    ['lstm_2[1][0]']                 \n",
            " ted)                                                                                             \n",
            "                                                                                                  \n",
            "==================================================================================================\n",
            "Total params: 20,760,334\n",
            "Trainable params: 20,760,334\n",
            "Non-trainable params: 0\n",
            "__________________________________________________________________________________________________\n"
          ]
        }
      ]
    },
    {
      "cell_type": "code",
      "source": [
        "decoder_model.layers[-3].input\n"
      ],
      "metadata": {
        "colab": {
          "base_uri": "https://localhost:8080/"
        },
        "id": "-GlPLbS1w_hs",
        "outputId": "b4fa9884-b8f9-4a94-88bc-4ced49797851"
      },
      "execution_count": null,
      "outputs": [
        {
          "output_type": "execute_result",
          "data": {
            "text/plain": [
              "[<KerasTensor: shape=(None, None, 300) dtype=float32 (created by layer 'embedding_1')>,\n",
              " <KerasTensor: shape=(None, 240) dtype=float32 (created by layer 'lstm_1')>,\n",
              " <KerasTensor: shape=(None, 240) dtype=float32 (created by layer 'lstm_1')>]"
            ]
          },
          "metadata": {},
          "execution_count": 71
        }
      ]
    },
    {
      "cell_type": "code",
      "source": [
        "def decode_sequence_seq2seq_model_with_just_lstm(\n",
        "    input_sequence, encoder_model, decoder_model\n",
        "):\n",
        "    # Encode the input as state vectors.\n",
        "    e_out, e_h, e_c = encoder_model.predict(input_sequence)\n",
        "\n",
        "    # Generate empty target sequence of length 1.\n",
        "    target_seq = np.zeros((1, 1))\n",
        "\n",
        "    # Populate the first word of target sequence with the start word.\n",
        "    target_seq[0, 0] = target_word_index[start_token]\n",
        "\n",
        "    stop_condition = False\n",
        "    decoded_sentence = ''\n",
        "\n",
        "    while not stop_condition:\n",
        "        output_tokens, h, c = decoder_model.predict(\n",
        "            [target_seq] + [e_out, e_h, e_c]\n",
        "        )\n",
        "\n",
        "        # Sample a token\n",
        "        sampled_token_index = np.argmax(output_tokens[0, -1, :])\n",
        "        sampled_token = reverse_target_word_index[sampled_token_index]\n",
        "\n",
        "        if sampled_token != end_token:\n",
        "            decoded_sentence += ' ' + sampled_token\n",
        "\n",
        "        # Exit condition: either hit max length or find stop word.\n",
        "        if (sampled_token == end_token) or (len(decoded_sentence.split()) >= (max_summary_len - 1)):\n",
        "            stop_condition = True\n",
        "\n",
        "        # Update the target sequence (of length 1).\n",
        "        target_seq = np.zeros((1, 1))\n",
        "        target_seq[0, 0] = sampled_token_index\n",
        "\n",
        "        # Update internal states\n",
        "        e_h, e_c = h, c\n",
        "\n",
        "    return decoded_sentence"
      ],
      "metadata": {
        "id": "w_O12MiDxDfK"
      },
      "execution_count": null,
      "outputs": []
    },
    {
      "cell_type": "code",
      "source": [
        "def seq2summary(input_sequence):\n",
        "    new_string = ''\n",
        "    for i in input_sequence:\n",
        "        if (\n",
        "            (i != 0 and i != target_word_index[start_token]) and\n",
        "            (i != target_word_index[end_token])\n",
        "        ):\n",
        "            new_string = new_string + reverse_target_word_index[i] + ' '\n",
        "    return new_string"
      ],
      "metadata": {
        "id": "ManIFxzdxOPX"
      },
      "execution_count": null,
      "outputs": []
    },
    {
      "cell_type": "code",
      "source": [
        "def seq2text(input_sequence):\n",
        "    new_string = ''\n",
        "    for i in input_sequence:\n",
        "        if i != 0:\n",
        "            new_string = new_string + reverse_source_word_index[i] + ' '\n",
        "    return new_string"
      ],
      "metadata": {
        "id": "O68qDzd2xUcs"
      },
      "execution_count": null,
      "outputs": []
    },
    {
      "cell_type": "code",
      "source": [
        "l = [1, 2, 3, 4, 5, 6, 7, 8, 9, 10]\n",
        "\n",
        "if len(l) % 3 != 0:\n",
        "    while len(l) % 3 != 0:\n",
        "        l.append(0)\n",
        "print(l)\n",
        "\n",
        "lst_i = 3\n",
        "for i in range(0, len(l), 3):\n",
        "    print(l[i:i + lst_i])\n",
        "\n",
        "print(' '.join(['', 'james', 'ethan', '', 'tony']))\n",
        "print(' '.join(' '.join(['', 'james', 'ethan', '', 'tony']).split()))"
      ],
      "metadata": {
        "colab": {
          "base_uri": "https://localhost:8080/"
        },
        "id": "1v_0r22ixYhw",
        "outputId": "18c6669f-24f8-4b54-87f9-c5e230560ddf"
      },
      "execution_count": null,
      "outputs": [
        {
          "output_type": "stream",
          "name": "stdout",
          "text": [
            "[1, 2, 3, 4, 5, 6, 7, 8, 9, 10, 0, 0]\n",
            "[1, 2, 3]\n",
            "[4, 5, 6]\n",
            "[7, 8, 9]\n",
            "[10, 0, 0]\n",
            " james ethan  tony\n",
            "james ethan tony\n"
          ]
        }
      ]
    },
    {
      "cell_type": "code",
      "source": [
        "def predict_text(text, decode_sequence, encoder_model, decoder_model):\n",
        "    original_text = text\n",
        "    text = clean_text([text])  # generator\n",
        "    text_list = original_text.split()\n",
        "\n",
        "    if len(text_list) <= max_text_len:\n",
        "        text = expand_contractions(text)\n",
        "        text = clean_text(text)\n",
        "        text = f'_START_ {text} _END_'\n",
        "        text = f'{start_token} {text} {end_token}'\n",
        "\n",
        "        seq = x_tokenizer.texts_to_sequences([' '.join(text_list)])\n",
        "        padded = pad_sequences(seq, maxlen=max_text_len, padding='post')\n",
        "        pred_summary = decode_sequence(\n",
        "            padded.reshape(1, max_text_len), encoder_model, decoder_model\n",
        "        )\n",
        "        return pred_summary\n",
        "    else:\n",
        "        pred_summary = ''\n",
        "\n",
        "        # breaking long texts to individual max_text_len texts and predicting on them\n",
        "        while len(text_list) % max_text_len == 0:\n",
        "            text_list.append('')\n",
        "\n",
        "        lst_i = max_text_len\n",
        "        for i in range(0, len(text_list), max_text_len):\n",
        "            _text_list = original_text.split()[i:i + lst_i]\n",
        "            _text = ' '.join(_text_list)\n",
        "            _text = ' '.join(\n",
        "                _text.split()\n",
        "            )  # to remove spaces that were added to make len(text_list) % max_text_len == 0\n",
        "\n",
        "            _text = expand_contractions(_text)\n",
        "            _text = clean_text(_text)  # generator\n",
        "            _text = f'_START_ {_text} _END_'\n",
        "            _text = f'{start_token} {_text} {end_token}'\n",
        "            # print(_text, '\\n')\n",
        "\n",
        "            _seq = x_tokenizer.texts_to_sequences([_text])\n",
        "            _padded = pad_sequences(_seq, maxlen=max_text_len, padding='post')\n",
        "            _pred = decode_sequence(\n",
        "                _padded.reshape(1, max_text_len), encoder_model, decoder_model\n",
        "            )\n",
        "            pred_summary += ' ' + ' '.join(_pred.split()[1:-2])\n",
        "            pred_summary = ' '.join(pred_summary.split())\n",
        "\n",
        "        return pred_summary"
      ],
      "metadata": {
        "id": "fQ43ho4OxgAC"
      },
      "execution_count": null,
      "outputs": []
    },
    {
      "cell_type": "code",
      "source": [],
      "metadata": {
        "id": "sMsj_WSFx_Eu"
      },
      "execution_count": null,
      "outputs": []
    },
    {
      "cell_type": "code",
      "source": [
        "seq2text(x_train_padded[0])"
      ],
      "metadata": {
        "colab": {
          "base_uri": "https://localhost:8080/",
          "height": 53
        },
        "id": "trcHC3aUyOLu",
        "outputId": "b28f6fa6-b680-467e-ffd4-84078dd03bd5"
      },
      "execution_count": null,
      "outputs": [
        {
          "output_type": "execute_result",
          "data": {
            "text/plain": [
              "'film student filmed england allrounder ben stokes knocking man latenight street brawl outside pub bristol court heard fierce punchit took surprise student told court stokes charged affray incident man suffered broken eye socket '"
            ],
            "application/vnd.google.colaboratory.intrinsic+json": {
              "type": "string"
            }
          },
          "metadata": {},
          "execution_count": 77
        }
      ]
    },
    {
      "cell_type": "code",
      "source": [
        "x_train_padded[0]"
      ],
      "metadata": {
        "colab": {
          "base_uri": "https://localhost:8080/"
        },
        "id": "u3ecnbumyoC6",
        "outputId": "ecabd4b1-8cfc-4b79-cdbb-9928caaea6b6"
      },
      "execution_count": null,
      "outputs": [
        {
          "output_type": "execute_result",
          "data": {
            "text/plain": [
              "array([   14,   466,  5768,   303,  1377,  3636,  3608, 10079,    36,\n",
              "       16485,  2086,  4733,   491,  6218,  8118,    20,  1275, 22018,\n",
              "       54998,    70,  3609,   466,   225,    20,  3608,   900, 18666,\n",
              "         135,    36,   809,  2127,  2372, 18667,     0,     0,     0,\n",
              "           0,     0,     0,     0,     0,     0], dtype=int32)"
            ]
          },
          "metadata": {},
          "execution_count": 78
        }
      ]
    },
    {
      "cell_type": "code",
      "source": [
        "# Testing on training data\n",
        "for i in range(0, 15):\n",
        "    print(f\"# {i+1} News: \", seq2text(x_train_padded[i]))\n",
        "    print(\"Original summary: \", seq2summary(y_train_padded[i]))\n",
        "    print(\n",
        "        \"Predicted summary: \",\n",
        "        decode_sequence_seq2seq_model_with_just_lstm(\n",
        "            x_train_padded[i].reshape(1, max_text_len), encoder_model,\n",
        "            decoder_model\n",
        "        )\n",
        "    )\n",
        "    print()"
      ],
      "metadata": {
        "colab": {
          "base_uri": "https://localhost:8080/"
        },
        "id": "YiJDaZfkxoNB",
        "outputId": "ecda6230-7c1d-4075-b6aa-2bc1163e32e3"
      },
      "execution_count": null,
      "outputs": [
        {
          "output_type": "stream",
          "name": "stdout",
          "text": [
            "# 1 News:  film student filmed england allrounder ben stokes knocking man latenight street brawl outside pub bristol court heard fierce punchit took surprise student told court stokes charged affray incident man suffered broken eye socket \n",
            "Original summary:  start student filmed stokes landing fierce punch man near pub end \n",
            "1/1 [==============================] - 1s 795ms/step\n",
            "1/1 [==============================] - 0s 382ms/step\n",
            "1/1 [==============================] - 0s 65ms/step\n",
            "1/1 [==============================] - 0s 61ms/step\n",
            "1/1 [==============================] - 0s 66ms/step\n",
            "1/1 [==============================] - 0s 63ms/step\n",
            "1/1 [==============================] - 0s 62ms/step\n",
            "1/1 [==============================] - 0s 64ms/step\n",
            "1/1 [==============================] - 0s 65ms/step\n",
            "1/1 [==============================] - 0s 61ms/step\n",
            "1/1 [==============================] - 0s 62ms/step\n",
            "Predicted summary:   start ben stokes ben stokes stokes charged racist end\n",
            "\n",
            "# 2 News:  haryana police arrested delhibased dr two associates running sex determination racket inside car tipoff police used pregnant woman trap accused working secluded forest land near delhiharyana border ultrasound machine generator fitted cars trunk also seized \n",
            "Original summary:  start dr held running sex determination racket car end \n",
            "1/1 [==============================] - 0s 143ms/step\n",
            "1/1 [==============================] - 0s 80ms/step\n",
            "1/1 [==============================] - 0s 65ms/step\n",
            "1/1 [==============================] - 0s 65ms/step\n",
            "1/1 [==============================] - 0s 65ms/step\n",
            "1/1 [==============================] - 0s 66ms/step\n",
            "1/1 [==============================] - 0s 63ms/step\n",
            "1/1 [==============================] - 0s 67ms/step\n",
            "1/1 [==============================] - 0s 65ms/step\n",
            "1/1 [==============================] - 0s 66ms/step\n",
            "Predicted summary:   start haryana police director arrested sex racket end\n",
            "\n",
            "# 3 News:  body set advise irish government constitutional change voted replace amend part irelands constitution imposes strict limits abortion mthembers voted replacing amending clause voted retain notably ireland permits abortion mothers life risk \n",
            "Original summary:  start irish body favours change constitutional law abortion end \n",
            "1/1 [==============================] - 0s 157ms/step\n",
            "1/1 [==============================] - 0s 90ms/step\n",
            "1/1 [==============================] - 0s 62ms/step\n",
            "1/1 [==============================] - 0s 64ms/step\n",
            "1/1 [==============================] - 0s 64ms/step\n",
            "1/1 [==============================] - 0s 62ms/step\n",
            "1/1 [==============================] - 0s 66ms/step\n",
            "1/1 [==============================] - 0s 106ms/step\n",
            "1/1 [==============================] - 0s 63ms/step\n",
            "1/1 [==============================] - 0s 68ms/step\n",
            "1/1 [==============================] - 0s 63ms/step\n",
            "1/1 [==============================] - 0s 62ms/step\n",
            "1/1 [==============================] - 0s 62ms/step\n",
            "Predicted summary:   start irish body passes bill allow abortion use spanish spanish end\n",
            "\n",
            "# 4 News:  sunil yadav brihanmumbai municipal corporation bmc worker currently pursuing phd alleged fired earlier week exposed corruption misuse power department yadav said received letter stating relieved duty solid waste managthement department sought transfer \n",
            "Original summary:  start sweeper mphil degree aaafired exposing graftaaa bmc end \n",
            "1/1 [==============================] - 0s 156ms/step\n",
            "1/1 [==============================] - 0s 90ms/step\n",
            "1/1 [==============================] - 0s 68ms/step\n",
            "1/1 [==============================] - 0s 69ms/step\n",
            "1/1 [==============================] - 0s 68ms/step\n",
            "1/1 [==============================] - 0s 67ms/step\n",
            "1/1 [==============================] - 0s 66ms/step\n",
            "1/1 [==============================] - 0s 64ms/step\n",
            "1/1 [==============================] - 0s 62ms/step\n",
            "1/1 [==============================] - 0s 62ms/step\n",
            "1/1 [==============================] - 0s 68ms/step\n",
            "Predicted summary:   start bmc manager allegedly allegedly allegedly bmc office end\n",
            "\n",
            "# 5 News:  indian road safety campaign ngo makes people aware road safety st launched isafe championship colleges aimed reduce deaths caused road accidents half include competitions like movie making poster making panel discussions focused road safety issues last date register thember \n",
            "Original summary:  start road safety awareness ngo launches championship colleges end \n",
            "1/1 [==============================] - 0s 153ms/step\n",
            "1/1 [==============================] - 0s 73ms/step\n",
            "1/1 [==============================] - 0s 61ms/step\n",
            "1/1 [==============================] - 0s 65ms/step\n",
            "1/1 [==============================] - 0s 60ms/step\n",
            "1/1 [==============================] - 0s 67ms/step\n",
            "1/1 [==============================] - 0s 67ms/step\n",
            "1/1 [==============================] - 0s 67ms/step\n",
            "1/1 [==============================] - 0s 70ms/step\n",
            "1/1 [==============================] - 0s 69ms/step\n",
            "1/1 [==============================] - 0s 64ms/step\n",
            "1/1 [==============================] - 0s 66ms/step\n",
            "Predicted summary:   start india starts road safety awareness awareness road safety end\n",
            "\n",
            "# 6 News:  us president donald trump said uk pm theresa mays brexit plan would probably kill trade deal two countries trump state visit uk added brexit deal pursued may people voted affect trade us negative way \n",
            "Original summary:  start brexit deal would kill usuk trade deal trump end \n",
            "1/1 [==============================] - 0s 148ms/step\n",
            "1/1 [==============================] - 0s 68ms/step\n",
            "1/1 [==============================] - 0s 109ms/step\n",
            "1/1 [==============================] - 0s 65ms/step\n",
            "1/1 [==============================] - 0s 62ms/step\n",
            "1/1 [==============================] - 0s 63ms/step\n",
            "1/1 [==============================] - 0s 59ms/step\n",
            "1/1 [==============================] - 0s 61ms/step\n",
            "1/1 [==============================] - 0s 61ms/step\n",
            "1/1 [==============================] - 0s 59ms/step\n",
            "1/1 [==============================] - 0s 59ms/step\n",
            "1/1 [==============================] - 0s 59ms/step\n",
            "Predicted summary:   start would kill uk pm theresa may deal trump end\n",
            "\n",
            "# 7 News:  dinesh nawadia head surat diamond association health committee given bonds aaa1 girls born families one dter promote beti bachao beti padhaof campaign initiative named vidyalakshmi yo however girls get amount initiative turning \n",
            "Original summary:  start surat businessman offers aaa1 bonds girls end \n",
            "1/1 [==============================] - 0s 151ms/step\n",
            "1/1 [==============================] - 0s 79ms/step\n",
            "1/1 [==============================] - 0s 62ms/step\n",
            "1/1 [==============================] - 0s 65ms/step\n",
            "1/1 [==============================] - 0s 63ms/step\n",
            "1/1 [==============================] - 0s 65ms/step\n",
            "1/1 [==============================] - 0s 64ms/step\n",
            "1/1 [==============================] - 0s 65ms/step\n",
            "1/1 [==============================] - 0s 67ms/step\n",
            "1/1 [==============================] - 0s 62ms/step\n",
            "1/1 [==============================] - 0s 64ms/step\n",
            "1/1 [==============================] - 0s 65ms/step\n",
            "Predicted summary:   start gambhir named mthember mthember donates aaa1 lakh donation end\n",
            "\n",
            "# 8 News:  us man sued amusthement park alleging contracted eyeeating parasite one water rides lawsuit claims water ride dirty complainant undergo extrthemely painful surgery part parasite could still rthemoved seeking aaa1 lakh damages \n",
            "Original summary:  start man sues amusthement park aaa1l eyeeating parasite end \n",
            "1/1 [==============================] - 0s 146ms/step\n",
            "1/1 [==============================] - 0s 84ms/step\n",
            "1/1 [==============================] - 0s 63ms/step\n",
            "1/1 [==============================] - 0s 67ms/step\n",
            "1/1 [==============================] - 0s 62ms/step\n",
            "1/1 [==============================] - 0s 67ms/step\n",
            "1/1 [==============================] - 0s 63ms/step\n",
            "1/1 [==============================] - 0s 63ms/step\n",
            "1/1 [==============================] - 0s 64ms/step\n",
            "1/1 [==============================] - 0s 61ms/step\n",
            "1/1 [==============================] - 0s 65ms/step\n",
            "Predicted summary:   start man sues us couple hot water park end\n",
            "\n",
            "# 9 News:  congress leader captain ander singh take oath chief minister punjab led party victory punjab elections winning seats stating prime minister narendra modi talked election results singh said pm modi promised help state \n",
            "Original summary:  start capt ander singh take oath punjab cm h end \n",
            "1/1 [==============================] - 0s 152ms/step\n",
            "1/1 [==============================] - 0s 78ms/step\n",
            "1/1 [==============================] - 0s 113ms/step\n",
            "1/1 [==============================] - 0s 61ms/step\n",
            "1/1 [==============================] - 0s 66ms/step\n",
            "1/1 [==============================] - 0s 66ms/step\n",
            "1/1 [==============================] - 0s 62ms/step\n",
            "1/1 [==============================] - 0s 62ms/step\n",
            "1/1 [==============================] - 0s 63ms/step\n",
            "1/1 [==============================] - 0s 62ms/step\n",
            "Predicted summary:   start digvijaya singh congratulates cong leader election end\n",
            "\n",
            "# 10 News:  michigan state university pay million sexual abuse victims former olympic dr larry nassar settlthement believed largestever sexual misconduct involving university nassar sentenced years years rate criminal sexual misconduct charges earlier year \n",
            "Original summary:  start university pay mn exolympic docs abuse victims end \n",
            "1/1 [==============================] - 0s 149ms/step\n",
            "1/1 [==============================] - 0s 79ms/step\n",
            "1/1 [==============================] - 0s 64ms/step\n",
            "1/1 [==============================] - 0s 66ms/step\n",
            "1/1 [==============================] - 0s 71ms/step\n",
            "1/1 [==============================] - 0s 63ms/step\n",
            "1/1 [==============================] - 0s 65ms/step\n",
            "1/1 [==============================] - 0s 67ms/step\n",
            "1/1 [==============================] - 0s 65ms/step\n",
            "1/1 [==============================] - 0s 64ms/step\n",
            "1/1 [==============================] - 0s 65ms/step\n",
            "Predicted summary:   start us state teachers paid sex abuse victims end\n",
            "\n",
            "# 11 News:  army chief bipin rawat said armed forces taking radicalisation seriously limited particular country global phenomenon jammu kashmir government police administration concerned trying ensure people weaned away radicalisation happening due social media general rawat added \n",
            "Original summary:  start taking radicalisation seriously army chief rawat end \n",
            "1/1 [==============================] - 0s 147ms/step\n",
            "1/1 [==============================] - 0s 69ms/step\n",
            "1/1 [==============================] - 0s 68ms/step\n",
            "1/1 [==============================] - 0s 68ms/step\n",
            "1/1 [==============================] - 0s 65ms/step\n",
            "1/1 [==============================] - 0s 63ms/step\n",
            "1/1 [==============================] - 0s 70ms/step\n",
            "1/1 [==============================] - 0s 69ms/step\n",
            "1/1 [==============================] - 0s 65ms/step\n",
            "1/1 [==============================] - 0s 62ms/step\n",
            "1/1 [==============================] - 0s 63ms/step\n",
            "Predicted summary:   start army chief warns army jawans army chief end\n",
            "\n",
            "# 12 News:  tmcled west bengal government denied permission bjp rath yatra calcutta high court allowed bjp hold three rallies state meanwhile state administration asked ensure breach law order earlier court denied permission rallies till next date hearing ary \n",
            "Original summary:  start calcutta high court gives permission yatras bjp wb end \n",
            "1/1 [==============================] - 0s 146ms/step\n",
            "1/1 [==============================] - 0s 70ms/step\n",
            "1/1 [==============================] - 0s 104ms/step\n",
            "1/1 [==============================] - 0s 70ms/step\n",
            "1/1 [==============================] - 0s 65ms/step\n",
            "1/1 [==============================] - 0s 68ms/step\n",
            "1/1 [==============================] - 0s 63ms/step\n",
            "1/1 [==============================] - 0s 68ms/step\n",
            "1/1 [==============================] - 0s 74ms/step\n",
            "1/1 [==============================] - 0s 67ms/step\n",
            "1/1 [==============================] - 0s 69ms/step\n",
            "1/1 [==============================] - 0s 67ms/step\n",
            "1/1 [==============================] - 0s 65ms/step\n",
            "Predicted summary:   start bjp planning permission permission wb govt permission wb bjp end\n",
            "\n",
            "# 13 News:  consumer goods company hindustan unilevers cmd sanjiv mehta thursday said taxation burden mncs reduced bringing corporate tax rate par rates neighbouring countries pitched redressal technical glitches procedural matters gst gst proven game changer positively impacting taxation practices added \n",
            "Original summary:  start cut corporate tax rate reduce burden mncs hul chief end \n",
            "1/1 [==============================] - 0s 151ms/step\n",
            "1/1 [==============================] - 0s 77ms/step\n",
            "1/1 [==============================] - 0s 71ms/step\n",
            "1/1 [==============================] - 0s 65ms/step\n",
            "1/1 [==============================] - 0s 64ms/step\n",
            "1/1 [==============================] - 0s 66ms/step\n",
            "1/1 [==============================] - 0s 68ms/step\n",
            "1/1 [==============================] - 0s 65ms/step\n",
            "1/1 [==============================] - 0s 70ms/step\n",
            "1/1 [==============================] - 0s 66ms/step\n",
            "1/1 [==============================] - 0s 67ms/step\n",
            "Predicted summary:   start gst rate cut rate says hul hul end\n",
            "\n",
            "# 14 News:  recent public event indocanadian sikh politician jagmeet singh racially abused woman singh responded love courage chants saying want intimidated hate welcome love growing brownskinned turbaned man faced things like deal singh added \n",
            "Original summary:  start indocanadian sikh politician reacts racism love end \n",
            "1/1 [==============================] - 0s 152ms/step\n",
            "1/1 [==============================] - 0s 70ms/step\n",
            "1/1 [==============================] - 0s 64ms/step\n",
            "1/1 [==============================] - 0s 61ms/step\n",
            "1/1 [==============================] - 0s 68ms/step\n",
            "1/1 [==============================] - 0s 63ms/step\n",
            "1/1 [==============================] - 0s 66ms/step\n",
            "1/1 [==============================] - 0s 62ms/step\n",
            "1/1 [==============================] - 0s 107ms/step\n",
            "1/1 [==============================] - 0s 68ms/step\n",
            "1/1 [==============================] - 0s 65ms/step\n",
            "Predicted summary:   start sikh politician slams sikh politician racism love end\n",
            "\n",
            "# 15 News:  bjp mp varun gandhi written lok sabha speaker sumitra mahato initiate movthement economically advantaged mps give salaries rthemaining th lok sabha gandhi said public representatives must responsive nations growing economic inequality mp gets aaa1 basic salary aaa1 constituency allowance besides allowances \n",
            "Original summary:  start rich mps give salaries varun gandhi end \n",
            "1/1 [==============================] - 0s 143ms/step\n",
            "1/1 [==============================] - 0s 64ms/step\n",
            "1/1 [==============================] - 0s 58ms/step\n",
            "1/1 [==============================] - 0s 61ms/step\n",
            "1/1 [==============================] - 0s 66ms/step\n",
            "1/1 [==============================] - 0s 61ms/step\n",
            "1/1 [==============================] - 0s 59ms/step\n",
            "1/1 [==============================] - 0s 59ms/step\n",
            "1/1 [==============================] - 0s 59ms/step\n",
            "1/1 [==============================] - 0s 63ms/step\n",
            "1/1 [==============================] - 0s 60ms/step\n",
            "1/1 [==============================] - 0s 60ms/step\n",
            "Predicted summary:   start mps mps son took salaries salaries mps mlas end\n",
            "\n"
          ]
        }
      ]
    },
    {
      "cell_type": "code",
      "source": [
        "model.save('model.h5')\n",
        "encoder_model.save('encoder_model.h5')\n",
        "decoder_model.save('decoder_model.h5')"
      ],
      "metadata": {
        "colab": {
          "base_uri": "https://localhost:8080/"
        },
        "id": "o5jNkBIRxC1v",
        "outputId": "a02f5796-6817-4d95-d902-760f3aa5794a"
      },
      "execution_count": null,
      "outputs": [
        {
          "output_type": "stream",
          "name": "stderr",
          "text": [
            "WARNING:tensorflow:Compiled the loaded model, but the compiled metrics have yet to be built. `model.compile_metrics` will be empty until you train or evaluate the model.\n",
            "WARNING:tensorflow:Compiled the loaded model, but the compiled metrics have yet to be built. `model.compile_metrics` will be empty until you train or evaluate the model.\n"
          ]
        }
      ]
    },
    {
      "cell_type": "code",
      "source": [
        "loaded_model=tf.keras.models.load_model(\"model.h5\")\n",
        "loaded_encoder_model=tf.keras.models.load_model(\"encoder_model.h5\")\n",
        "loaded_decoder_model=tf.keras.models.load_model(\"decoder_model.h5\")"
      ],
      "metadata": {
        "colab": {
          "base_uri": "https://localhost:8080/"
        },
        "id": "E73s-1-8xbo4",
        "outputId": "1b2974f4-eb12-4baf-eae2-21be7ecaadac"
      },
      "execution_count": null,
      "outputs": [
        {
          "output_type": "stream",
          "name": "stderr",
          "text": [
            "WARNING:tensorflow:No training configuration found in the save file, so the model was *not* compiled. Compile it manually.\n",
            "WARNING:tensorflow:No training configuration found in the save file, so the model was *not* compiled. Compile it manually.\n"
          ]
        }
      ]
    },
    {
      "cell_type": "code",
      "source": [
        "print(x_train_padded[0])\n",
        "print(given_padded[0])"
      ],
      "metadata": {
        "colab": {
          "base_uri": "https://localhost:8080/"
        },
        "id": "WNAn0l40OAVH",
        "outputId": "045bfe95-529f-4766-f9fd-96a73d54b482"
      },
      "execution_count": null,
      "outputs": [
        {
          "output_type": "stream",
          "name": "stdout",
          "text": [
            "[   18    60  6457   905  4830  5603  5875   626    15  3612  8711   179\n",
            "    30   402 17878   251   401 13168   239   164    60     9 12522  1322\n",
            "  2907   848  5875   135 10874  2907  5875  1462  1528   905  4830  8711\n",
            "   179     0     0     0     0     0]\n",
            "[17859     0     0     0     0     0     0     0     0     0     0     0\n",
            "     0     0     0     0     0     0     0     0     0     0     0     0\n",
            "     0     0     0     0     0     0     0     0     0     0     0     0\n",
            "     0     0     0     0     0     0]\n"
          ]
        }
      ]
    },
    {
      "cell_type": "code",
      "source": [
        "# Testing on training data\n",
        "print(f\" News: \", seq2text(given_padded[0]))\n",
        "print(\n",
        "    \"Predicted summary: \",\n",
        "    decode_sequence_seq2seq_model_with_just_lstm(\n",
        "        given_padded[0].reshape(1, max_text_len), loaded_encoder_model,\n",
        "        loaded_decoder_model\n",
        "    )\n",
        ")\n",
        "\n"
      ],
      "metadata": {
        "colab": {
          "base_uri": "https://localhost:8080/"
        },
        "id": "_Jrde1-D3d2v",
        "outputId": "7444d30f-d298-45b7-91b7-b2cbeace7336"
      },
      "execution_count": null,
      "outputs": [
        {
          "output_type": "stream",
          "name": "stdout",
          "text": [
            " News:  cricket match hinckley amateur thirds hathern old seconds swallows green hinckley leicestershire halted macaw landed shoulders sexagenarian fielder hathern old seconds innings stop game bird big enough take someone finger batting sides captain said \n",
            "1/1 [==============================] - 0s 47ms/step\n",
            "1/1 [==============================] - 0s 40ms/step\n",
            "1/1 [==============================] - 0s 35ms/step\n",
            "1/1 [==============================] - 0s 39ms/step\n",
            "1/1 [==============================] - 0s 37ms/step\n",
            "1/1 [==============================] - 0s 39ms/step\n",
            "1/1 [==============================] - 0s 37ms/step\n",
            "1/1 [==============================] - 0s 39ms/step\n",
            "1/1 [==============================] - 0s 38ms/step\n",
            "1/1 [==============================] - 0s 39ms/step\n",
            "1/1 [==============================] - 0s 37ms/step\n",
            "Predicted summary:   start player wears bat bat without helmet match end\n"
          ]
        }
      ]
    },
    {
      "cell_type": "code",
      "source": [
        "print(\"Original summary: \", seq2text(given_padded[0]))"
      ],
      "metadata": {
        "colab": {
          "base_uri": "https://localhost:8080/"
        },
        "id": "BQtbGGX9kbAv",
        "outputId": "d90a4961-4357-4f14-dd01-738d58a12c59"
      },
      "execution_count": null,
      "outputs": [
        {
          "output_type": "stream",
          "name": "stdout",
          "text": [
            "Original summary:  cricket match hinckley amateur thirds hathern old seconds swallows green hinckley leicestershire halted macaw landed shoulders sexagenarian fielder hathern old seconds innings stop game bird big enough take someone finger batting sides captain said \n"
          ]
        }
      ]
    }
  ]
}